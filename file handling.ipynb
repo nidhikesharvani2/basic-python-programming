{
 "cells": [
  {
   "cell_type": "markdown",
   "id": "d08f77f0-3b46-4d20-8fbf-50ccb3536772",
   "metadata": {},
   "source": [
    "# python Handling:\n",
    "file handing is the important part of any web application. python has several functions for creating,reading,updating and deleting files."
   ]
  },
  {
   "cell_type": "markdown",
   "id": "d5aeb7e1-7fc2-4784-93c8-0d3af85ed141",
   "metadata": {},
   "source": [
    "# Functions are used to file handling\n",
    "+ open()\n",
    "+ close()\n",
    "+ read()\n",
    "+ write()\n",
    "+ seek()\n",
    "+ tell()"
   ]
  },
  {
   "cell_type": "markdown",
   "id": "ca947169-7cac-402f-87be-5f5e971351f2",
   "metadata": {},
   "source": [
    "# the key function for working with files in python is the open() function."
   ]
  },
  {
   "cell_type": "markdown",
   "id": "79cf5d03-655a-469a-b896-48fa7f761fc4",
   "metadata": {},
   "source": [
    "the function open() takes two parameters,filename and mode"
   ]
  },
  {
   "cell_type": "markdown",
   "id": "fcef5e07-d79c-4e95-88d4-af5ad7109b89",
   "metadata": {},
   "source": [
    "# type of modes\n",
    "* \"r\" -Read-Default value. opens a file  for reading,error if the file does not exist.\n",
    "* \"w\"-Write-opens a file for writing,creates the file if it does not exist.\n",
    "* \"a\"-Append- opens a file for appending, creates the file does not exist.\n",
    "* \"r+\"-read+Write\n",
    "* \"w+\"-Create+Read+write(previous data Erase)\n",
    "* \"a+\"-Create+Read+Write(Append Mode)\n",
    "                     "
   ]
  },
  {
   "cell_type": "code",
   "execution_count": 2,
   "id": "d3cb4a3d-fe14-4322-9b91-e074d761d6f6",
   "metadata": {},
   "outputs": [
    {
     "ename": "FileNotFoundError",
     "evalue": "[Errno 2] No such file or directory: 'itronix.txt'",
     "output_type": "error",
     "traceback": [
      "\u001b[1;31m---------------------------------------------------------------------------\u001b[0m",
      "\u001b[1;31mFileNotFoundError\u001b[0m                         Traceback (most recent call last)",
      "Cell \u001b[1;32mIn[2], line 2\u001b[0m\n\u001b[0;32m      1\u001b[0m \u001b[38;5;66;03m# Open the Files\u001b[39;00m\n\u001b[1;32m----> 2\u001b[0m fo\u001b[38;5;241m=\u001b[39m\u001b[38;5;28mopen\u001b[39m(\u001b[38;5;124m'\u001b[39m\u001b[38;5;124mitronix.txt\u001b[39m\u001b[38;5;124m'\u001b[39m,\u001b[38;5;124m'\u001b[39m\u001b[38;5;124mr\u001b[39m\u001b[38;5;124m'\u001b[39m)\n",
      "File \u001b[1;32mC:\\Anaconda\\Lib\\site-packages\\IPython\\core\\interactiveshell.py:310\u001b[0m, in \u001b[0;36m_modified_open\u001b[1;34m(file, *args, **kwargs)\u001b[0m\n\u001b[0;32m    303\u001b[0m \u001b[38;5;28;01mif\u001b[39;00m file \u001b[38;5;129;01min\u001b[39;00m {\u001b[38;5;241m0\u001b[39m, \u001b[38;5;241m1\u001b[39m, \u001b[38;5;241m2\u001b[39m}:\n\u001b[0;32m    304\u001b[0m     \u001b[38;5;28;01mraise\u001b[39;00m \u001b[38;5;167;01mValueError\u001b[39;00m(\n\u001b[0;32m    305\u001b[0m         \u001b[38;5;124mf\u001b[39m\u001b[38;5;124m\"\u001b[39m\u001b[38;5;124mIPython won\u001b[39m\u001b[38;5;124m'\u001b[39m\u001b[38;5;124mt let you open fd=\u001b[39m\u001b[38;5;132;01m{\u001b[39;00mfile\u001b[38;5;132;01m}\u001b[39;00m\u001b[38;5;124m by default \u001b[39m\u001b[38;5;124m\"\u001b[39m\n\u001b[0;32m    306\u001b[0m         \u001b[38;5;124m\"\u001b[39m\u001b[38;5;124mas it is likely to crash IPython. If you know what you are doing, \u001b[39m\u001b[38;5;124m\"\u001b[39m\n\u001b[0;32m    307\u001b[0m         \u001b[38;5;124m\"\u001b[39m\u001b[38;5;124myou can use builtins\u001b[39m\u001b[38;5;124m'\u001b[39m\u001b[38;5;124m open.\u001b[39m\u001b[38;5;124m\"\u001b[39m\n\u001b[0;32m    308\u001b[0m     )\n\u001b[1;32m--> 310\u001b[0m \u001b[38;5;28;01mreturn\u001b[39;00m io_open(file, \u001b[38;5;241m*\u001b[39margs, \u001b[38;5;241m*\u001b[39m\u001b[38;5;241m*\u001b[39mkwargs)\n",
      "\u001b[1;31mFileNotFoundError\u001b[0m: [Errno 2] No such file or directory: 'itronix.txt'"
     ]
    }
   ],
   "source": [
    "# Open the Files\n",
    "fo=open('itronix.txt','r')# file is not present so it will give a error"
   ]
  },
  {
   "cell_type": "markdown",
   "id": "5399a9bd-becf-4d5c-8ee1-6b5b38ea7f8e",
   "metadata": {},
   "source": [
    "# Write a File\n",
    "#if file is not exxist it will create the file"
   ]
  },
  {
   "cell_type": "code",
   "execution_count": 3,
   "id": "1601197e-8c6d-472a-890c-62c9b14260dc",
   "metadata": {},
   "outputs": [],
   "source": [
    "fo=open(\"itronix.txt\",'w')\n",
    "fo.write(\"welcome to india\")\n",
    "fo.close()"
   ]
  },
  {
   "cell_type": "code",
   "execution_count": 4,
   "id": "f46437b8-235c-47ba-befc-4b6abbea78ae",
   "metadata": {},
   "outputs": [
    {
     "name": "stdout",
     "output_type": "stream",
     "text": [
      "welcome to india\n"
     ]
    }
   ],
   "source": [
    "# read From file\n",
    "fo=open(\"itronix.txt\",'r')\n",
    "d=fo.read()\n",
    "print(d)"
   ]
  },
  {
   "cell_type": "code",
   "execution_count": 5,
   "id": "3fc7b8aa-f5ed-4b16-b683-e60565789329",
   "metadata": {},
   "outputs": [
    {
     "name": "stdout",
     "output_type": "stream",
     "text": [
      "welcome\n"
     ]
    }
   ],
   "source": [
    "# read only part of the file\n",
    "fo=open(\"itronix.txt\",'r')\n",
    "d=fo.read(7)\n",
    "print(d)"
   ]
  },
  {
   "cell_type": "markdown",
   "id": "acdceda3-b75d-4551-9503-f3686541127e",
   "metadata": {},
   "source": [
    "# ReadLine:\n",
    "you can return ane line by using the resdline() method."
   ]
  },
  {
   "cell_type": "code",
   "execution_count": 6,
   "id": "a8bb7394-74bd-49be-bf5d-7be1ce982c6b",
   "metadata": {},
   "outputs": [
    {
     "name": "stdout",
     "output_type": "stream",
     "text": [
      "welcome to india\n"
     ]
    }
   ],
   "source": [
    "fo=open(\"itronix.txt\",'r')\n",
    "d=fo.readline()\n",
    "print(d)"
   ]
  },
  {
   "cell_type": "markdown",
   "id": "956c0dff-8e98-4082-8c18-c9331ed21e6c",
   "metadata": {},
   "source": [
    "# readlines:\n",
    "you can returns Line by line in a List by using the readlines() method"
   ]
  },
  {
   "cell_type": "code",
   "execution_count": 1,
   "id": "8f229a37-1391-484f-ba9d-48e330020dc3",
   "metadata": {},
   "outputs": [
    {
     "name": "stdout",
     "output_type": "stream",
     "text": [
      "['welcome to india']\n"
     ]
    }
   ],
   "source": [
    "fo=open(\"itronix.txt\",'r')\n",
    "d=fo.readlines()\n",
    "print(d)"
   ]
  },
  {
   "cell_type": "markdown",
   "id": "6984c05f-c472-4253-b8ff-9f6fa90ff3f6",
   "metadata": {},
   "source": [
    "# loop through the file line by line"
   ]
  },
  {
   "cell_type": "code",
   "execution_count": 3,
   "id": "17d90721-ff14-453f-9368-c5780b8bbdd5",
   "metadata": {},
   "outputs": [
    {
     "name": "stdout",
     "output_type": "stream",
     "text": [
      "welcome to india\n"
     ]
    }
   ],
   "source": [
    "fo=open(\"itronix.txt\",'r')\n",
    "for x in fo:\n",
    "    print(x)"
   ]
  },
  {
   "cell_type": "markdown",
   "id": "a9efb64f-584c-41a5-8373-fe8d5cfd732e",
   "metadata": {},
   "source": [
    "# write in Append mode"
   ]
  },
  {
   "cell_type": "code",
   "execution_count": 5,
   "id": "c2565b8e-2570-4bbe-a16c-020b826523e9",
   "metadata": {},
   "outputs": [],
   "source": [
    "fo=open(\"itronix.txt\",'a')\n",
    "fo.write(\"python tutorials for data science\")\n",
    "fo.close()"
   ]
  },
  {
   "cell_type": "code",
   "execution_count": 6,
   "id": "dd5dc39e-22d3-4303-a0dc-dc88648fa060",
   "metadata": {},
   "outputs": [
    {
     "name": "stdout",
     "output_type": "stream",
     "text": [
      "welcome to indiapython tutorials for data science\n"
     ]
    }
   ],
   "source": [
    "fo=open(\"itronix.txt\",'r')\n",
    "d=fo.read()\n",
    "print(d)"
   ]
  },
  {
   "cell_type": "markdown",
   "id": "a893e6dc-9c80-452b-954c-1db1f36ed023",
   "metadata": {},
   "source": [
    "# write+ mode:\n",
    "used for both read and write"
   ]
  },
  {
   "cell_type": "code",
   "execution_count": 7,
   "id": "15b75835-b3bb-4f91-91da-4957d56c81a1",
   "metadata": {},
   "outputs": [
    {
     "name": "stdout",
     "output_type": "stream",
     "text": [
      "\n"
     ]
    }
   ],
   "source": [
    "fo=open(\"itronix.txt\",'w+')\n",
    "fo.write(\"Welcome to python tutorials\")\n",
    "d=fo.read()\n",
    "print(d)\n",
    "fo.close()"
   ]
  },
  {
   "cell_type": "markdown",
   "id": "a548c530-d846-4a59-8f16-352d463d3c7e",
   "metadata": {},
   "source": [
    "# Seek(offset[,whence])\n",
    "* offset- this is the position of the read/write pointer within the file.\n",
    "* whence- this is optional and default to 0 which means absolute file positioning."
   ]
  },
  {
   "cell_type": "code",
   "execution_count": 8,
   "id": "bdaf4329-a5c8-4025-bc8f-3e64fbb3d7cc",
   "metadata": {},
   "outputs": [
    {
     "name": "stdout",
     "output_type": "stream",
     "text": [
      "Welcome to python tutorials\n"
     ]
    }
   ],
   "source": [
    "fo=open(\"itronix.txt\",'w+')\n",
    "fo.write(\"Welcome to python tutorials\")\n",
    "fo.seek(0,0)\n",
    "d=fo.read()\n",
    "print(d)\n",
    "fo.close()\n"
   ]
  },
  {
   "cell_type": "markdown",
   "id": "dc6c21b5-fd57-4d83-9df9-a627e37ff0ee",
   "metadata": {},
   "source": [
    "# Tell():\n",
    "used to find the total characters in file from starting condition to pointer current position."
   ]
  },
  {
   "cell_type": "code",
   "execution_count": 12,
   "id": "4ef9a616-f829-4d4c-b04d-f7ee66658852",
   "metadata": {},
   "outputs": [
    {
     "name": "stdout",
     "output_type": "stream",
     "text": [
      "Total characters in file: 29\n"
     ]
    }
   ],
   "source": [
    "fo=open(\"itronix.txt\",'w+')\n",
    "fo.write(\"Welcome to python Tutorials .\")\n",
    "length=fo.tell()\n",
    "print(\"Total characters in file:\",length)\n",
    "fo.close()\n"
   ]
  },
  {
   "cell_type": "code",
   "execution_count": null,
   "id": "ae1eff8d-3a32-4814-9d6d-2fe42b302fca",
   "metadata": {},
   "outputs": [],
   "source": []
  }
 ],
 "metadata": {
  "kernelspec": {
   "display_name": "Python 3 (ipykernel)",
   "language": "python",
   "name": "python3"
  },
  "language_info": {
   "codemirror_mode": {
    "name": "ipython",
    "version": 3
   },
   "file_extension": ".py",
   "mimetype": "text/x-python",
   "name": "python",
   "nbconvert_exporter": "python",
   "pygments_lexer": "ipython3",
   "version": "3.11.7"
  }
 },
 "nbformat": 4,
 "nbformat_minor": 5
}
