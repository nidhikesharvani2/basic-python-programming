{
 "cells": [
  {
   "cell_type": "markdown",
   "id": "10bf6585-b7ba-46f2-a643-421d31337724",
   "metadata": {},
   "source": [
    " # Python Dictionary"
   ]
  },
  {
   "cell_type": "markdown",
   "id": "4815f751-bfbf-4275-85b4-ae552a6eb9db",
   "metadata": {},
   "source": [
    "dictionaries are used to store data values in key:values pairs. A dictionary is a collection which is ordered*,changeable and does not allow duplicates.\n",
    "dictionaries are written in curly {} brackets, and have keys and values:{'key':values}"
   ]
  },
  {
   "cell_type": "markdown",
   "id": "56a2e013-4620-490a-bae9-19c6f9f758fe",
   "metadata": {},
   "source": [
    "* note: in python 3.7, dictionaries are ordered.in python 3.6 and earlier, dictionaries are unorderd."
   ]
  },
  {
   "cell_type": "code",
   "execution_count": 2,
   "id": "b824ba9e-1236-431d-86a2-62f439c46a1a",
   "metadata": {},
   "outputs": [
    {
     "name": "stdout",
     "output_type": "stream",
     "text": [
      "{}\n",
      "<class 'dict'>\n"
     ]
    }
   ],
   "source": [
    "d={}\n",
    "print(d)\n",
    "print(type(d))"
   ]
  },
  {
   "cell_type": "code",
   "execution_count": 3,
   "id": "9073ff73-1bc2-4d1f-bc0f-171935d603a4",
   "metadata": {},
   "outputs": [
    {
     "name": "stdout",
     "output_type": "stream",
     "text": [
      "{'Name': 'Nidhi', 'Age': 18, 'Marks': 8.03}\n"
     ]
    }
   ],
   "source": [
    "d={'Name':'Nidhi','Age':18,'Marks':8.03}\n",
    "print(d)"
   ]
  },
  {
   "cell_type": "code",
   "execution_count": 4,
   "id": "586f1193-0594-4ef8-966a-39ce50a6f4c3",
   "metadata": {},
   "outputs": [
    {
     "name": "stdout",
     "output_type": "stream",
     "text": [
      "Nidhi\n",
      "18\n",
      "8.03\n"
     ]
    }
   ],
   "source": [
    "print(d['Name'])\n",
    "print(d['Age'])\n",
    "print(d['Marks'])"
   ]
  },
  {
   "cell_type": "markdown",
   "id": "fff345ef-e991-4232-b503-b036d043046c",
   "metadata": {},
   "source": [
    "# duplicate value is not allowed.\n",
    "* dictionaries can't have two items with the same key and Duplicate values will overwrite exsting values."
   ]
  },
  {
   "cell_type": "code",
   "execution_count": 5,
   "id": "63ad4d90-a32a-4df8-a806-c322001abad5",
   "metadata": {},
   "outputs": [
    {
     "name": "stdout",
     "output_type": "stream",
     "text": [
      "{'Name': 'Nidhi', 'Age': 67, 'Marks': 8.03}\n"
     ]
    }
   ],
   "source": [
    "d={'Name':'Nidhi','Age':18,'Marks':8.03,\"Age\":67}\n",
    "print(d)"
   ]
  },
  {
   "cell_type": "code",
   "execution_count": 6,
   "id": "b3b28bcd-662c-4d96-9cd4-72b1b61bcc0e",
   "metadata": {},
   "outputs": [
    {
     "name": "stdout",
     "output_type": "stream",
     "text": [
      "3\n"
     ]
    }
   ],
   "source": [
    "print(len(d))"
   ]
  },
  {
   "cell_type": "code",
   "execution_count": 7,
   "id": "471a9f51-2fb5-449e-808b-723550c71810",
   "metadata": {},
   "outputs": [
    {
     "name": "stdout",
     "output_type": "stream",
     "text": [
      "<class 'dict'>\n"
     ]
    }
   ],
   "source": [
    "print(type(d))"
   ]
  },
  {
   "cell_type": "markdown",
   "id": "e34d686c-b1ff-4e81-996a-eae5d4ed7ff0",
   "metadata": {},
   "source": [
    "# dictionary items\n",
    "* the values in dictionary items can be different type;"
   ]
  },
  {
   "cell_type": "code",
   "execution_count": 9,
   "id": "6c17c7c1-620e-4b02-884c-0763083a36a9",
   "metadata": {},
   "outputs": [
    {
     "name": "stdout",
     "output_type": "stream",
     "text": [
      "{'brand': 'tesla', 'electric': True, 'year': 2021, 'colors': ['black', 'blue', 'white']}\n"
     ]
    }
   ],
   "source": [
    "d={\n",
    "    'brand':'tesla',\n",
    "    'electric':True,\n",
    "    'year':2021,\n",
    "    'colors':['black','blue','white']\n",
    "}\n",
    "print(d)\n"
   ]
  },
  {
   "cell_type": "markdown",
   "id": "03e62e80-5eaa-44a0-b7fb-7279976d5ba4",
   "metadata": {},
   "source": [
    "# Accessing items"
   ]
  },
  {
   "cell_type": "code",
   "execution_count": 10,
   "id": "a626ec8f-6fc5-4690-94db-bb03ac8107f2",
   "metadata": {},
   "outputs": [
    {
     "name": "stdout",
     "output_type": "stream",
     "text": [
      "{'brand': 'tesla', 'electric': True, 'year': 2021, 'colors': ['black', 'blue', 'white']}\n"
     ]
    }
   ],
   "source": [
    "print(d)"
   ]
  },
  {
   "cell_type": "code",
   "execution_count": 11,
   "id": "c21c5260-c76b-46f8-915f-b0dc8ffa71aa",
   "metadata": {},
   "outputs": [
    {
     "name": "stdout",
     "output_type": "stream",
     "text": [
      "tesla\n"
     ]
    }
   ],
   "source": [
    "print(d['brand'])"
   ]
  },
  {
   "cell_type": "markdown",
   "id": "17f6f122-9b47-4623-881e-e2f574f11c4c",
   "metadata": {},
   "source": [
    "there is also a method called get() that will give you the result:"
   ]
  },
  {
   "cell_type": "code",
   "execution_count": 12,
   "id": "de8c81ca-2798-4657-95ee-4e1c7c4b13fe",
   "metadata": {},
   "outputs": [
    {
     "name": "stdout",
     "output_type": "stream",
     "text": [
      "tesla\n"
     ]
    }
   ],
   "source": [
    "print(d.get('brand'))"
   ]
  },
  {
   "cell_type": "markdown",
   "id": "e41a0053-681a-4ec9-a377-96f0ede3b5ab",
   "metadata": {},
   "source": [
    " * GET all Keys"
   ]
  },
  {
   "cell_type": "code",
   "execution_count": 13,
   "id": "3552db44-0770-47d4-ac09-9c4abb0ebede",
   "metadata": {},
   "outputs": [
    {
     "name": "stdout",
     "output_type": "stream",
     "text": [
      "dict_keys(['brand', 'electric', 'year', 'colors'])\n"
     ]
    }
   ],
   "source": [
    "print(d.keys())"
   ]
  },
  {
   "cell_type": "markdown",
   "id": "96a3c69e-51d6-423a-ac7c-ff7b870736b3",
   "metadata": {},
   "source": [
    "* get all values"
   ]
  },
  {
   "cell_type": "code",
   "execution_count": 14,
   "id": "46cc3823-f505-461c-abe8-3a549c0be5ec",
   "metadata": {},
   "outputs": [
    {
     "name": "stdout",
     "output_type": "stream",
     "text": [
      "dict_values(['tesla', True, 2021, ['black', 'blue', 'white']])\n"
     ]
    }
   ],
   "source": [
    "print(d.values())"
   ]
  },
  {
   "cell_type": "code",
   "execution_count": 18,
   "id": "4d58a89e-dbd2-4fc6-9b53-3f3fe1e44935",
   "metadata": {},
   "outputs": [
    {
     "name": "stdout",
     "output_type": "stream",
     "text": [
      "dict_keys(['brand', 'electric', 'year'])\n",
      "dict_values(['Tesla', True, 2021])\n",
      "dict_keys(['brand', 'electric', 'year', 'colors'])\n",
      "dict_values(['Tesla', True, 2021, 'black'])\n"
     ]
    }
   ],
   "source": [
    "car={'brand':'Tesla',\"electric\":True,\"year\":2021}\n",
    "print(car.keys())\n",
    "print(car.values())\n",
    "car['colors']='black'\n",
    "print(car.keys())\n",
    "print (car.values())"
   ]
  },
  {
   "cell_type": "markdown",
   "id": "b7f86aef-b9da-4b29-b6f2-1c2708625aa1",
   "metadata": {},
   "source": [
    "# get items"
   ]
  },
  {
   "cell_type": "code",
   "execution_count": 21,
   "id": "d1723d8f-19db-4902-827a-70b9239a06fd",
   "metadata": {},
   "outputs": [
    {
     "name": "stdout",
     "output_type": "stream",
     "text": [
      "dict_items([('brand', 'Tesla'), ('electric', True), ('year', 2021)])\n",
      "dict_items([('brand', 'Tesla'), ('electric', True), ('year', 2021), ('colors', 'black')])\n"
     ]
    }
   ],
   "source": [
    "car={'brand':'Tesla',\"electric\":True,\"year\":2021}\n",
    "print(car.items())\n",
    "car['colors']='black'\n",
    "print(car.items())"
   ]
  },
  {
   "cell_type": "markdown",
   "id": "5c95bd51-7eb8-49d3-a3cb-0c351190d715",
   "metadata": {},
   "source": [
    "# check if key exists\n",
    "* to determine if a specified key is present in a dictionary use in keyword."
   ]
  },
  {
   "cell_type": "code",
   "execution_count": 24,
   "id": "6a4cefff-fe86-44d3-b100-79606704782f",
   "metadata": {},
   "outputs": [
    {
     "name": "stdout",
     "output_type": "stream",
     "text": [
      "yes,'brand' is one of the keys in the car dictionary\n"
     ]
    }
   ],
   "source": [
    "car={'brand':'Tesla',\"electric\":True,\"year\":2021}\n",
    "if 'brand' in car:\n",
    "    print(\"yes,'brand' is one of the keys in the car dictionary\")"
   ]
  },
  {
   "cell_type": "code",
   "execution_count": 26,
   "id": "bd139806-c330-4961-a226-5497fb891813",
   "metadata": {},
   "outputs": [
    {
     "name": "stdout",
     "output_type": "stream",
     "text": [
      "dict_items([('brand', 'Tesla'), ('electric', True), ('year', 2021), ('color', 'white')])\n"
     ]
    }
   ],
   "source": [
    "car={'brand':'Tesla',\"electric\":True,\"year\":2021,'color':'black'}\n",
    "car['color']='white'\n",
    "print(car.items())\n"
   ]
  },
  {
   "cell_type": "markdown",
   "id": "09ec18bf-064a-4415-8079-5e7f18d6d0ed",
   "metadata": {},
   "source": [
    "* update the dictionary by using update method()"
   ]
  },
  {
   "cell_type": "code",
   "execution_count": 31,
   "id": "4c2ee40f-261f-435e-892a-fb6becc17aaa",
   "metadata": {},
   "outputs": [
    {
     "name": "stdout",
     "output_type": "stream",
     "text": [
      "{'brand': 'Tesla', 'electric': True, 'year': 2022, 'color': 'white'}\n"
     ]
    }
   ],
   "source": [
    "car.update({'year': 2022})\n",
    "print(car)"
   ]
  },
  {
   "cell_type": "markdown",
   "id": "f1af665e-7535-45f1-ae05-bec54c0100a5",
   "metadata": {},
   "source": [
    "# add dictionary items"
   ]
  },
  {
   "cell_type": "code",
   "execution_count": 34,
   "id": "64b51d2d-6e01-469d-b473-f9fc254b7a87",
   "metadata": {},
   "outputs": [
    {
     "name": "stdout",
     "output_type": "stream",
     "text": [
      "{'brand': 'Tesla', 'electric': True, 'year': 2021, 'color': 'black'}\n"
     ]
    }
   ],
   "source": [
    "car={'brand':'Tesla',\"electric\":True,\"year\":2021}\n",
    "car['color']='black'\n",
    "print(car)"
   ]
  },
  {
   "cell_type": "markdown",
   "id": "c34b5229-bf38-4afd-ad25-0c44c7f0e97b",
   "metadata": {},
   "source": [
    "# remove dictionary items\n",
    "* the pop() method removes the item with the specified key name:"
   ]
  },
  {
   "cell_type": "code",
   "execution_count": 35,
   "id": "d9db8246-1860-4ea2-81ad-94fcca804b2f",
   "metadata": {},
   "outputs": [
    {
     "name": "stdout",
     "output_type": "stream",
     "text": [
      "{'brand': 'Tesla', 'electric': True, 'year': 2021, 'color': 'black'}\n"
     ]
    }
   ],
   "source": [
    "print(car)"
   ]
  },
  {
   "cell_type": "code",
   "execution_count": 36,
   "id": "313f170a-8b1d-44c8-aae1-4386640baae5",
   "metadata": {},
   "outputs": [
    {
     "name": "stdout",
     "output_type": "stream",
     "text": [
      "{'brand': 'Tesla', 'electric': True, 'year': 2021}\n"
     ]
    }
   ],
   "source": [
    "car.pop('color')\n",
    "print(car)"
   ]
  },
  {
   "cell_type": "markdown",
   "id": "1d6bd192-0790-4af5-89db-6656d5aebfdb",
   "metadata": {},
   "source": [
    "* the del keyword removes the item with the specified key name:"
   ]
  },
  {
   "cell_type": "code",
   "execution_count": 38,
   "id": "b6fad009-d3b2-4dfe-afe3-051149f051c6",
   "metadata": {},
   "outputs": [
    {
     "name": "stdout",
     "output_type": "stream",
     "text": [
      "{'brand': 'Tesla', 'electric': True, 'year': 2021}\n"
     ]
    }
   ],
   "source": [
    "print(car)"
   ]
  },
  {
   "cell_type": "code",
   "execution_count": 39,
   "id": "0ebaecfc-f1f5-491e-a0de-a18534cc0c25",
   "metadata": {},
   "outputs": [
    {
     "name": "stdout",
     "output_type": "stream",
     "text": [
      "{'brand': 'Tesla', 'electric': True}\n"
     ]
    }
   ],
   "source": [
    "del car['year']\n",
    "print(car)"
   ]
  },
  {
   "cell_type": "code",
   "execution_count": 40,
   "id": "b399e60f-5c90-4c97-92da-aa6732722bd7",
   "metadata": {},
   "outputs": [
    {
     "ename": "NameError",
     "evalue": "name 'car' is not defined",
     "output_type": "error",
     "traceback": [
      "\u001b[1;31m---------------------------------------------------------------------------\u001b[0m",
      "\u001b[1;31mNameError\u001b[0m                                 Traceback (most recent call last)",
      "Cell \u001b[1;32mIn[40], line 3\u001b[0m\n\u001b[0;32m      1\u001b[0m \u001b[38;5;66;03m# del keyword is also delete complete dictionary\u001b[39;00m\n\u001b[0;32m      2\u001b[0m \u001b[38;5;28;01mdel\u001b[39;00m car\n\u001b[1;32m----> 3\u001b[0m \u001b[38;5;28mprint\u001b[39m(car)\n",
      "\u001b[1;31mNameError\u001b[0m: name 'car' is not defined"
     ]
    }
   ],
   "source": [
    "# del keyword is also delete complete dictionary=no delete completely\n",
    "del car\n",
    "print(car)"
   ]
  },
  {
   "cell_type": "markdown",
   "id": "33750749-22a1-4508-864b-382566f28d3e",
   "metadata": {},
   "source": [
    "* The clear () method empties the dictionary:\n"
   ]
  },
  {
   "cell_type": "code",
   "execution_count": 43,
   "id": "b44f160b-616c-4685-a744-126d51c18e99",
   "metadata": {},
   "outputs": [
    {
     "name": "stdout",
     "output_type": "stream",
     "text": [
      "{'brand': 'Tesla', 'electric': True, 'year': 2021, 'color': 'white'}\n"
     ]
    }
   ],
   "source": [
    "car={'brand': 'Tesla', 'electric': True, 'year': 2021}\n",
    "car['color']='white'\n",
    "print(car)"
   ]
  },
  {
   "cell_type": "code",
   "execution_count": 45,
   "id": "bf1a6fe2-b4f9-4913-a6cd-972679c0cf65",
   "metadata": {},
   "outputs": [
    {
     "name": "stdout",
     "output_type": "stream",
     "text": [
      "{}\n"
     ]
    }
   ],
   "source": [
    "car.clear()\n",
    "print(car)"
   ]
  },
  {
   "cell_type": "markdown",
   "id": "493f666b-7163-421d-b0b4-fcfe3b24d35c",
   "metadata": {},
   "source": [
    "# loop through a dictionary \n",
    "* by using for loop.\n",
    "* when looping through a dictionary, the return value are the keys of the dictionary, but there are methods to return values as well."
   ]
  },
  {
   "cell_type": "code",
   "execution_count": 46,
   "id": "93066a80-aaa0-4412-9765-bc18c851279d",
   "metadata": {},
   "outputs": [],
   "source": [
    "car={'brand': 'Tesla', 'electric': True, 'year': 2021, 'color': 'white'}"
   ]
  },
  {
   "cell_type": "code",
   "execution_count": 47,
   "id": "20a7403b-5eaf-4dfa-a7e9-2cdbf3e4b131",
   "metadata": {},
   "outputs": [
    {
     "name": "stdout",
     "output_type": "stream",
     "text": [
      "brand\n",
      "electric\n",
      "year\n",
      "color\n"
     ]
    }
   ],
   "source": [
    "for i in car:\n",
    "    print(i)"
   ]
  },
  {
   "cell_type": "markdown",
   "id": "f8c6f363-19e7-47fc-937e-e24c57d546b3",
   "metadata": {},
   "source": [
    "* print all values in the dictionary , one by one:"
   ]
  },
  {
   "cell_type": "code",
   "execution_count": 49,
   "id": "e294a528-aeb0-4cf8-ae0b-3b22e766f73b",
   "metadata": {},
   "outputs": [
    {
     "name": "stdout",
     "output_type": "stream",
     "text": [
      "Tesla\n",
      "True\n",
      "2021\n",
      "white\n"
     ]
    }
   ],
   "source": [
    "for i in car:\n",
    "    print(car[i])"
   ]
  },
  {
   "cell_type": "code",
   "execution_count": 50,
   "id": "1a100f15-7a56-41b6-a83e-748dbe1e7b5f",
   "metadata": {},
   "outputs": [
    {
     "name": "stdout",
     "output_type": "stream",
     "text": [
      "brand\n",
      "electric\n",
      "year\n",
      "color\n"
     ]
    }
   ],
   "source": [
    "for i in car.keys():\n",
    "    print(i)"
   ]
  },
  {
   "cell_type": "code",
   "execution_count": 51,
   "id": "7037dbf9-67d9-4e07-a6f3-98c8517553ca",
   "metadata": {},
   "outputs": [
    {
     "name": "stdout",
     "output_type": "stream",
     "text": [
      "('brand', 'Tesla')\n",
      "('electric', True)\n",
      "('year', 2021)\n",
      "('color', 'white')\n"
     ]
    }
   ],
   "source": [
    "for i in car.items():\n",
    "    print(i)"
   ]
  },
  {
   "cell_type": "code",
   "execution_count": 52,
   "id": "060ad852-367b-4c12-8e52-b5a991fdb46d",
   "metadata": {},
   "outputs": [
    {
     "name": "stdout",
     "output_type": "stream",
     "text": [
      "brand Tesla\n",
      "electric True\n",
      "year 2021\n",
      "color white\n"
     ]
    }
   ],
   "source": [
    "for i,j in car.items():\n",
    "    print(i,j)"
   ]
  },
  {
   "cell_type": "markdown",
   "id": "f30f9301-ba34-4b3a-af4b-1374c883b08d",
   "metadata": {},
   "source": [
    "# copy a dictionary\n",
    "* you can't copy a dictionary simply by typing dict2=dict1,because: dict2 will only be a reference to dict1,and changes made \n",
    "in dict1 will automatically also be made in dict2.\n",
    "* there are ways to make a copy, one way is to use the built-in Dictionary method copy()"
   ]
  },
  {
   "cell_type": "code",
   "execution_count": 53,
   "id": "4efd47cf-384d-4a37-ace8-09792245f48b",
   "metadata": {},
   "outputs": [
    {
     "name": "stdout",
     "output_type": "stream",
     "text": [
      "{'brand': 'Tesla', 'electric': True, 'year': 2021, 'color': 'white'}\n",
      "{'brand': 'Tesla', 'electric': True, 'year': 2021, 'color': 'white'}\n"
     ]
    }
   ],
   "source": [
    " car={'brand': 'Tesla', 'electric': True, 'year': 2021, 'color': 'white'}\n",
    "car2=car\n",
    "print(car)\n",
    "print(car2)"
   ]
  },
  {
   "cell_type": "code",
   "execution_count": 55,
   "id": "96aeb24f-c39d-4b65-82a8-55ce1b255725",
   "metadata": {},
   "outputs": [
    {
     "name": "stdout",
     "output_type": "stream",
     "text": [
      "{'brand': 'Tesla', 'electric': True, 'year': 2021, 'color': 'white'}\n",
      "{'brand': 'Tesla', 'electric': True, 'year': 2021, 'color': 'white'}\n"
     ]
    }
   ],
   "source": [
    "print(car)\n",
    "car2=car.copy()\n",
    "print(car2)"
   ]
  },
  {
   "cell_type": "code",
   "execution_count": 56,
   "id": "ec73b0ba-e8e4-4737-a800-7e36c0dc7ac4",
   "metadata": {},
   "outputs": [
    {
     "name": "stdout",
     "output_type": "stream",
     "text": [
      "{'brand': 'Tesla', 'electric': True, 'year': '2022', 'color': 'white'}\n",
      "{'brand': 'Tesla', 'electric': True, 'year': 2021, 'color': 'white'}\n"
     ]
    }
   ],
   "source": [
    "car['year']='2022'\n",
    "print(car)\n",
    "print(car2)"
   ]
  },
  {
   "cell_type": "markdown",
   "id": "4301999e-c3f8-4aad-a9aa-2bf4037e38ed",
   "metadata": {},
   "source": [
    "# Nested Dictionary"
   ]
  },
  {
   "cell_type": "code",
   "execution_count": 61,
   "id": "9b25a63a-75be-4480-ab70-24316a3882cb",
   "metadata": {},
   "outputs": [
    {
     "name": "stdout",
     "output_type": "stream",
     "text": [
      "{'child1': {'name': 'ram', 'year': 2009}, 'child2': {'name': 'raj', 'year': 2011}, 'child3': {'name': 'ridhhi', 'year': 2015}}\n"
     ]
    }
   ],
   "source": [
    "myfamily={\n",
    "    \"child1\":{\n",
    "        \"name\":\"ram\",\n",
    "         \"year\":2009},\n",
    "\"child2\":{\n",
    "            \"name\":\"raj\",\n",
    "         \"year\":2011},\n",
    "\"child3\":  {    \"name\":\"ridhhi\",\n",
    "         \"year\":2015}\n",
    "}\n",
    "print(myfamily)\n",
    "\n"
   ]
  },
  {
   "cell_type": "code",
   "execution_count": 64,
   "id": "734d7609-63c0-4ba7-b5e8-1ccbcbf93938",
   "metadata": {},
   "outputs": [
    {
     "name": "stdout",
     "output_type": "stream",
     "text": [
      "{'name': 'ram', 'year': 2009}\n",
      "raj\n",
      "2015\n"
     ]
    }
   ],
   "source": [
    "print(myfamily[\"child1\"])\n",
    "print(myfamily[\"child2\"][\"name\"])\n",
    "print(myfamily[\"child3\"][\"year\"])"
   ]
  },
  {
   "cell_type": "markdown",
   "id": "d8518137-2c99-4f8c-9dd0-29f53a35a303",
   "metadata": {},
   "source": [
    "# dictionary of a list"
   ]
  },
  {
   "cell_type": "code",
   "execution_count": 66,
   "id": "de7b4863-8ecc-4840-8fdb-4554ff4006a8",
   "metadata": {},
   "outputs": [
    {
     "name": "stdout",
     "output_type": "stream",
     "text": [
      "{'name': ['riya', 'raja', 'rit', 'ram'], 'age': [31, 32, 33, 34]}\n",
      "['riya', 'raja', 'rit', 'ram']\n",
      "[31, 32, 33, 34]\n",
      "dict_keys(['name', 'age'])\n",
      "dict_values([['riya', 'raja', 'rit', 'ram'], [31, 32, 33, 34]])\n",
      "dict_items([('name', ['riya', 'raja', 'rit', 'ram']), ('age', [31, 32, 33, 34])])\n"
     ]
    }
   ],
   "source": [
    "d={\"name\":['riya','raja','rit','ram'],'age':[31,32,33,34]}\n",
    "print(d)\n",
    "print(d[\"name\"])\n",
    "print(d['age'])\n",
    "print(d.keys())\n",
    "print(d.values())\n",
    "print(d.items())"
   ]
  },
  {
   "cell_type": "code",
   "execution_count": 67,
   "id": "6a02c1fa-13d6-4b0a-a9bd-ba2471f6b17d",
   "metadata": {},
   "outputs": [
    {
     "name": "stdout",
     "output_type": "stream",
     "text": [
      "name ['riya', 'raja', 'rit', 'ram']\n",
      "age [31, 32, 33, 34]\n"
     ]
    }
   ],
   "source": [
    "for i,j in d.items():\n",
    "    print(i,j)"
   ]
  },
  {
   "cell_type": "code",
   "execution_count": 70,
   "id": "4e07b513-a656-43e7-88b4-1dbaddd18c02",
   "metadata": {},
   "outputs": [
    {
     "name": "stdout",
     "output_type": "stream",
     "text": [
      "key: name\n",
      "riya\n",
      "raja\n",
      "rit\n",
      "ram\n",
      "\n",
      "key: age\n",
      "31\n",
      "32\n",
      "33\n",
      "34\n",
      "\n"
     ]
    }
   ],
   "source": [
    "for i,j in d.items():\n",
    "    print(\"key:\",i)\n",
    "    for val in j:\n",
    "        print(val)\n",
    "    print()"
   ]
  },
  {
   "cell_type": "code",
   "execution_count": null,
   "id": "86e027ea-1a61-47cb-b31a-b76932818ef1",
   "metadata": {},
   "outputs": [],
   "source": []
  }
 ],
 "metadata": {
  "kernelspec": {
   "display_name": "Python 3 (ipykernel)",
   "language": "python",
   "name": "python3"
  },
  "language_info": {
   "codemirror_mode": {
    "name": "ipython",
    "version": 3
   },
   "file_extension": ".py",
   "mimetype": "text/x-python",
   "name": "python",
   "nbconvert_exporter": "python",
   "pygments_lexer": "ipython3",
   "version": "3.11.7"
  }
 },
 "nbformat": 4,
 "nbformat_minor": 5
}
