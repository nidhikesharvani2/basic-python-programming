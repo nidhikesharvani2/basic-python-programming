{
 "cells": [
  {
   "cell_type": "markdown",
   "id": "8fc82663-b42e-4056-88fa-8f2c9f02faeb",
   "metadata": {},
   "source": [
    "# python tuple\n",
    "* python tuple is used to store multiple items in a single variable.\n",
    "* Tuple is a collection which is ordered and unchangeable.\n",
    "* tuple are written with roun brackets ()"
   ]
  },
  {
   "cell_type": "code",
   "execution_count": 1,
   "id": "4c02c080-4aa5-4f5c-8581-d9ca9b48df33",
   "metadata": {},
   "outputs": [
    {
     "data": {
      "text/plain": [
       "()"
      ]
     },
     "execution_count": 1,
     "metadata": {},
     "output_type": "execute_result"
    }
   ],
   "source": [
    "t=()\n",
    "t"
   ]
  },
  {
   "cell_type": "code",
   "execution_count": 2,
   "id": "15df7b55-8caa-4561-b603-982b60b78fff",
   "metadata": {},
   "outputs": [
    {
     "name": "stdout",
     "output_type": "stream",
     "text": [
      "<class 'tuple'>\n"
     ]
    }
   ],
   "source": [
    "print(type(t))"
   ]
  },
  {
   "cell_type": "code",
   "execution_count": 3,
   "id": "a2fce3b6-a20c-4f93-995d-eacd5e1ca97b",
   "metadata": {},
   "outputs": [
    {
     "name": "stdout",
     "output_type": "stream",
     "text": [
      "(10, 3.14, 'machine', 98.38, 100, 'python', 77)\n"
     ]
    }
   ],
   "source": [
    "t=(10,3.14,'machine',98.38,100,'python',77)\n",
    "print(t)"
   ]
  },
  {
   "cell_type": "markdown",
   "id": "3ed38d53-86dd-4e3e-b49a-3ce7eb0d3313",
   "metadata": {},
   "source": [
    "* tuple items are ordered, unchangeable,and allow duplicate values.\n",
    "* tuple items are indexed, the first item has index[0],the second item has index[1]etc.\n",
    "* tuple are unchangeable, meaning that we can't change , add or remove items after the tuple has created.\n",
    "* since tuple are indexed,tuples can have items with the same value:"
   ]
  },
  {
   "cell_type": "code",
   "execution_count": 4,
   "id": "d0f49147-33e2-4d56-ae8b-06af96559afc",
   "metadata": {},
   "outputs": [
    {
     "data": {
      "text/plain": [
       "10"
      ]
     },
     "execution_count": 4,
     "metadata": {},
     "output_type": "execute_result"
    }
   ],
   "source": [
    "t[0]"
   ]
  },
  {
   "cell_type": "markdown",
   "id": "dc5c6a6a-edb0-4986-b0a4-812255fdd0b6",
   "metadata": {},
   "source": [
    "* determine length and type of tuple"
   ]
  },
  {
   "cell_type": "code",
   "execution_count": 5,
   "id": "51cf1d4c-d24e-4ac1-b518-1dff88a1146b",
   "metadata": {},
   "outputs": [
    {
     "name": "stdout",
     "output_type": "stream",
     "text": [
      "7\n"
     ]
    }
   ],
   "source": [
    "print(len(t))"
   ]
  },
  {
   "cell_type": "code",
   "execution_count": 17,
   "id": "6f43f602-0871-4f4f-9265-d57ffc508440",
   "metadata": {},
   "outputs": [
    {
     "name": "stdout",
     "output_type": "stream",
     "text": [
      "<class 'tuple'>\n"
     ]
    }
   ],
   "source": [
    "print(type(t))"
   ]
  },
  {
   "cell_type": "markdown",
   "id": "9544dd8b-d7c9-4075-9f5b-881d470f33ac",
   "metadata": {},
   "source": [
    "# access tuple items"
   ]
  },
  {
   "cell_type": "code",
   "execution_count": 18,
   "id": "cc5b80ad-fdef-4375-a14c-ba808822e1d1",
   "metadata": {},
   "outputs": [
    {
     "name": "stdout",
     "output_type": "stream",
     "text": [
      "(10, 3.14, 'machine', 98.38, 100, 'python', 77)\n",
      "10\n",
      "(10, 3.14, 'machine', 98.38, 100, 'python', 77)\n",
      "(3.14, 'machine')\n",
      "(10, 3.14, 'machine', 98.38, 100, 'python', 77)\n",
      "('machine', 98.38, 100, 'python', 77)\n",
      "(10, 'machine', 100, 77)\n",
      "(3.14, 98.38, 'python')\n",
      "python\n",
      "('python', 77)\n",
      "('machine', 98.38, 100, 'python', 77)\n"
     ]
    }
   ],
   "source": [
    "print(t)\n",
    "print(t[0])\n",
    "print(t[:])\n",
    "print(t[1:3])\n",
    "print(t[::])\n",
    "print(t[2::])\n",
    "print(t[::2])\n",
    "print(t[1::2])\n",
    "print(t[-2])\n",
    "print(t[-2:])\n",
    "print(t[2:])"
   ]
  },
  {
   "cell_type": "markdown",
   "id": "dd026342-36d4-4ec0-9978-471225027c06",
   "metadata": {},
   "source": [
    "# change tuple value"
   ]
  },
  {
   "cell_type": "code",
   "execution_count": 4,
   "id": "45393f54-757d-497d-88aa-d66109a5c1d9",
   "metadata": {},
   "outputs": [
    {
     "name": "stdout",
     "output_type": "stream",
     "text": [
      "(10, 3.14, 'machine', 98.38, 100, 'python', 77)\n"
     ]
    }
   ],
   "source": [
    "t=(10,3.14,'machine',98.38,100,'python',77)\n",
    "print(t)"
   ]
  },
  {
   "cell_type": "code",
   "execution_count": 6,
   "id": "fe8c41cf-6ff4-43e6-81b6-d37d54f6557f",
   "metadata": {},
   "outputs": [
    {
     "name": "stdout",
     "output_type": "stream",
     "text": [
      "(10, 'Itronix Solution', 'machine', 98.38, 100, 'python', 77)\n"
     ]
    }
   ],
   "source": [
    "l  = list(t)\n",
    "l[1]='Itronix Solution'\n",
    "t=tuple(l)\n",
    "print(t)"
   ]
  },
  {
   "cell_type": "markdown",
   "id": "cb47a828-d42c-4378-9876-d75c904ebfba",
   "metadata": {},
   "source": [
    "# Unpacking Tuple:"
   ]
  },
  {
   "cell_type": "code",
   "execution_count": 8,
   "id": "dd6d3e93-9436-4e08-99e8-5d5b3baa6013",
   "metadata": {},
   "outputs": [
    {
     "name": "stdout",
     "output_type": "stream",
     "text": [
      "10\n",
      "Nidhi\n",
      "3.16\n"
     ]
    }
   ],
   "source": [
    "a,b,c=(10,'Nidhi',3.16)\n",
    "print(a)\n",
    "print(b)\n",
    "print(c)"
   ]
  },
  {
   "cell_type": "markdown",
   "id": "8ac2a92b-b8df-4d30-8a91-dad3435754aa",
   "metadata": {},
   "source": [
    "# Loop through a Tuple"
   ]
  },
  {
   "cell_type": "markdown",
   "id": "1b020eb3-72a4-4908-b0b6-5e0fae0fef73",
   "metadata": {},
   "source": [
    "* you can loop through the tuple items by using loop."
   ]
  },
  {
   "cell_type": "code",
   "execution_count": 1,
   "id": "31d9c942-9422-4b3d-ab9c-4e625d671754",
   "metadata": {},
   "outputs": [
    {
     "name": "stdout",
     "output_type": "stream",
     "text": [
      "10 3.14 machine 98.38 100 python 77 "
     ]
    }
   ],
   "source": [
    "t=(10,3.14,'machine',98.38,100,'python',77)\n",
    "for i in t:\n",
    "    print(i,end=' ')"
   ]
  },
  {
   "cell_type": "markdown",
   "id": "e1a69169-0121-4741-a7cf-24d7856a94be",
   "metadata": {},
   "source": [
    " * loop through a index number"
   ]
  },
  {
   "cell_type": "code",
   "execution_count": 9,
   "id": "1529042a-79f3-4f9a-8a66-6c1cfb5ece3d",
   "metadata": {},
   "outputs": [
    {
     "name": "stdout",
     "output_type": "stream",
     "text": [
      "10\n",
      "3.14\n",
      "machine\n",
      "98.38\n",
      "100\n",
      "python\n",
      "77\n"
     ]
    }
   ],
   "source": [
    "\n",
    "for i in range(len(t)):\n",
    "    print(t[i])"
   ]
  },
  {
   "cell_type": "markdown",
   "id": "63e18104-3920-4cfd-895e-b9eb8792f945",
   "metadata": {},
   "source": [
    "* print tuple item using while loop"
   ]
  },
  {
   "cell_type": "code",
   "execution_count": 12,
   "id": "55616e92-c9ba-4709-823d-924276714db4",
   "metadata": {},
   "outputs": [
    {
     "name": "stdout",
     "output_type": "stream",
     "text": [
      "(10, 3.14, 'machine', 98.38, 100, 'python', 77)\n",
      "10 3.14 machine 98.38 100 python 77 "
     ]
    }
   ],
   "source": [
    "print(t)\n",
    "i=0\n",
    "while i<len(t):\n",
    "    print(t[i],end=' ')\n",
    "    i=i+1"
   ]
  },
  {
   "cell_type": "markdown",
   "id": "81cb0e3f-9c77-44e0-8912-7a5e04994322",
   "metadata": {},
   "source": [
    "* join two tuple"
   ]
  },
  {
   "cell_type": "code",
   "execution_count": 14,
   "id": "5cb31b64-39da-4bc4-9e5a-a1505461b459",
   "metadata": {},
   "outputs": [
    {
     "name": "stdout",
     "output_type": "stream",
     "text": [
      "[1, 2, 3, 4, 5, 6]\n"
     ]
    }
   ],
   "source": [
    "t1=[1,2,3]\n",
    "t2=[4,5,6]\n",
    "t3=t1+t2\n",
    "print(t3)"
   ]
  },
  {
   "cell_type": "markdown",
   "id": "8d00ac0d-4077-47c9-bc48-72590a55ecdb",
   "metadata": {},
   "source": [
    "# multiply tuple"
   ]
  },
  {
   "cell_type": "code",
   "execution_count": 16,
   "id": "2ce8c034-570d-4c67-99d6-62c09de42b51",
   "metadata": {},
   "outputs": [
    {
     "name": "stdout",
     "output_type": "stream",
     "text": [
      "[1, 2, 3, 1, 2, 3, 1, 2, 3]\n"
     ]
    }
   ],
   "source": [
    "t1\n",
    "print(t1*3)"
   ]
  },
  {
   "cell_type": "markdown",
   "id": "923e4873-f025-47e3-bc6b-7242c18da553",
   "metadata": {},
   "source": [
    "# count item in tuple"
   ]
  },
  {
   "cell_type": "code",
   "execution_count": 19,
   "id": "5058d719-b9d7-42c7-93e2-34d0e1f63130",
   "metadata": {},
   "outputs": [
    {
     "name": "stdout",
     "output_type": "stream",
     "text": [
      "3\n"
     ]
    }
   ],
   "source": [
    "t1=(1,2,2,3,4,2)\n",
    "print(t1.count(2))"
   ]
  },
  {
   "cell_type": "markdown",
   "id": "4d736a99-65f9-42f5-aa68-633a1b8715c6",
   "metadata": {},
   "source": [
    "* Find index of item in tuple"
   ]
  },
  {
   "cell_type": "code",
   "execution_count": 21,
   "id": "e930a3f2-9492-4303-bd17-99c040d40f70",
   "metadata": {},
   "outputs": [
    {
     "data": {
      "text/plain": [
       "3"
      ]
     },
     "execution_count": 21,
     "metadata": {},
     "output_type": "execute_result"
    }
   ],
   "source": [
    "t1.index(3)"
   ]
  }
 ],
 "metadata": {
  "kernelspec": {
   "display_name": "Python 3 (ipykernel)",
   "language": "python",
   "name": "python3"
  },
  "language_info": {
   "codemirror_mode": {
    "name": "ipython",
    "version": 3
   },
   "file_extension": ".py",
   "mimetype": "text/x-python",
   "name": "python",
   "nbconvert_exporter": "python",
   "pygments_lexer": "ipython3",
   "version": "3.11.7"
  }
 },
 "nbformat": 4,
 "nbformat_minor": 5
}
