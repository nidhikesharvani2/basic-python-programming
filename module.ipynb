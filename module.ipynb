{
 "cells": [
  {
   "cell_type": "code",
   "execution_count": 1,
   "id": "a2241c63-834d-4315-8800-66974e3c77f3",
   "metadata": {},
   "outputs": [],
   "source": [
    "import itronix"
   ]
  },
  {
   "cell_type": "code",
   "execution_count": 5,
   "id": "6fc46e67-ffea-4a3f-807a-a96f88526785",
   "metadata": {},
   "outputs": [
    {
     "name": "stdout",
     "output_type": "stream",
     "text": [
      "Hello,nidhi\n"
     ]
    }
   ],
   "source": [
    "itronix.function(\"nidhi\")"
   ]
  },
  {
   "cell_type": "code",
   "execution_count": 6,
   "id": "741561b8-6aa8-4c27-990f-28b64c206d6b",
   "metadata": {},
   "outputs": [
    {
     "name": "stdout",
     "output_type": "stream",
     "text": [
      "Hello,nidhi\n"
     ]
    }
   ],
   "source": [
    "import itronix as i\n",
    "i.function(\"nidhi\")"
   ]
  },
  {
   "cell_type": "code",
   "execution_count": 3,
   "id": "e515b25c-8e9e-49ee-b6bb-47e763a342b0",
   "metadata": {},
   "outputs": [],
   "source": [
    "import plateform"
   ]
  },
  {
   "cell_type": "code",
   "execution_count": 4,
   "id": "3924f7c5-3778-47aa-bf1c-214cf48e82c2",
   "metadata": {},
   "outputs": [
    {
     "data": {
      "text/plain": [
       "120"
      ]
     },
     "execution_count": 4,
     "metadata": {},
     "output_type": "execute_result"
    }
   ],
   "source": [
    "plateform.fact(5)"
   ]
  },
  {
   "cell_type": "code",
   "execution_count": 5,
   "id": "1008e34a-7bd9-426a-b0df-d8d177b6379e",
   "metadata": {},
   "outputs": [
    {
     "data": {
      "text/plain": [
       "6.666666666666668"
      ]
     },
     "execution_count": 5,
     "metadata": {},
     "output_type": "execute_result"
    }
   ],
   "source": [
    "plateform.sod(123)"
   ]
  },
  {
   "cell_type": "code",
   "execution_count": 6,
   "id": "cec2ecbf-b5c1-451e-a05c-8200424c3e5e",
   "metadata": {},
   "outputs": [],
   "source": [
    " import plateform as i"
   ]
  },
  {
   "cell_type": "code",
   "execution_count": 7,
   "id": "535f081e-2cc0-488a-8e0b-39d74a5b5b69",
   "metadata": {},
   "outputs": [
    {
     "name": "stdout",
     "output_type": "stream",
     "text": [
      "120\n",
      "6.666666666666668\n"
     ]
    }
   ],
   "source": [
    "from plateform import *\n",
    "print(fact(5))\n",
    "print(sod(123))"
   ]
  },
  {
   "cell_type": "code",
   "execution_count": null,
   "id": "93efe962-8810-4658-af80-320573f8dcaf",
   "metadata": {},
   "outputs": [],
   "source": []
  }
 ],
 "metadata": {
  "kernelspec": {
   "display_name": "Python 3 (ipykernel)",
   "language": "python",
   "name": "python3"
  },
  "language_info": {
   "codemirror_mode": {
    "name": "ipython",
    "version": 3
   },
   "file_extension": ".py",
   "mimetype": "text/x-python",
   "name": "python",
   "nbconvert_exporter": "python",
   "pygments_lexer": "ipython3",
   "version": "3.11.7"
  }
 },
 "nbformat": 4,
 "nbformat_minor": 5
}
