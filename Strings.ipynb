{
 "cells": [
  {
   "cell_type": "markdown",
   "id": "2f404872-3ce8-41d1-bdf2-c47156197b0d",
   "metadata": {},
   "source": [
    "# String: string are used in python to record text information ,such as name."
   ]
  },
  {
   "cell_type": "markdown",
   "id": "bc0b57ac-5365-48ad-a7ac-33cbb6a89809",
   "metadata": {},
   "source": [
    "# creating a String"
   ]
  },
  {
   "cell_type": "markdown",
   "id": "aff2dd7a-9dc7-4278-8364-c71a627d78f0",
   "metadata": {},
   "source": [
    "to create a String you need to either single quotesor double quotes."
   ]
  },
  {
   "cell_type": "code",
   "execution_count": 1,
   "id": "a1ff826e-90f3-4487-9f3b-fc708686d193",
   "metadata": {},
   "outputs": [
    {
     "data": {
      "text/plain": [
       "'Nidhi'"
      ]
     },
     "execution_count": 1,
     "metadata": {},
     "output_type": "execute_result"
    }
   ],
   "source": [
    "'Nidhi'"
   ]
  },
  {
   "cell_type": "code",
   "execution_count": 2,
   "id": "d632f111-8da6-40d1-8ebe-0288841bdd31",
   "metadata": {},
   "outputs": [
    {
     "data": {
      "text/plain": [
       "'Strings built with double quotes'"
      ]
     },
     "execution_count": 2,
     "metadata": {},
     "output_type": "execute_result"
    }
   ],
   "source": [
    "\"Strings built with double quotes\""
   ]
  },
  {
   "cell_type": "code",
   "execution_count": 4,
   "id": "26a3525b-ef99-4c3c-8966-8a2a9a1019e4",
   "metadata": {},
   "outputs": [
    {
     "ename": "SyntaxError",
     "evalue": "invalid syntax (1768920265.py, line 2)",
     "output_type": "error",
     "traceback": [
      "\u001b[1;36m  Cell \u001b[1;32mIn[4], line 2\u001b[1;36m\u001b[0m\n\u001b[1;33m    ''I'm using single quotes, but will create an error'\u001b[0m\n\u001b[1;37m      ^\u001b[0m\n\u001b[1;31mSyntaxError\u001b[0m\u001b[1;31m:\u001b[0m invalid syntax\n"
     ]
    }
   ],
   "source": [
    "# be careful with quotes!\n",
    "'I'm using single quotes, but will create an error'"
   ]
  },
  {
   "cell_type": "code",
   "execution_count": 6,
   "id": "a9fd4f58-6b1a-40f3-9570-e9792f6515ec",
   "metadata": {},
   "outputs": [
    {
     "data": {
      "text/plain": [
       "\"now 'I'm using single quotes, but will create an error\""
      ]
     },
     "execution_count": 6,
     "metadata": {},
     "output_type": "execute_result"
    }
   ],
   "source": [
    "\"now 'I'm using single quotes, but will create an error\""
   ]
  },
  {
   "cell_type": "code",
   "execution_count": 7,
   "id": "816e25d9-a978-4733-82cb-ac85db7d2a40",
   "metadata": {},
   "outputs": [
    {
     "data": {
      "text/plain": [
       "'there went \"the Animal\" '"
      ]
     },
     "execution_count": 7,
     "metadata": {},
     "output_type": "execute_result"
    }
   ],
   "source": [
    "'there went \"the Animal\" '"
   ]
  },
  {
   "cell_type": "code",
   "execution_count": 8,
   "id": "b2ec112f-0acb-49c1-b566-f98991239b6c",
   "metadata": {},
   "outputs": [
    {
     "data": {
      "text/plain": [
       "\"there went the man called 'boaty McBoatface' \""
      ]
     },
     "execution_count": 8,
     "metadata": {},
     "output_type": "execute_result"
    }
   ],
   "source": [
    "'there went the man called \\'boaty McBoatface\\' '"
   ]
  },
  {
   "cell_type": "markdown",
   "id": "3c8e10d9-3217-488f-b018-4a091359404f",
   "metadata": {},
   "source": [
    "# printing string"
   ]
  },
  {
   "cell_type": "markdown",
   "id": "8ee0f04f-1d8c-4abd-9cca-91bff52bfdd3",
   "metadata": {},
   "source": [
    "using jupyter notebook with just a string in a cell will  automatically output strings, but the currct way to display strings in your output is by using a print function"
   ]
  },
  {
   "cell_type": "code",
   "execution_count": 10,
   "id": "115c4402-3689-4980-8a73-8c7efb7f1f19",
   "metadata": {},
   "outputs": [
    {
     "data": {
      "text/plain": [
       "'namastey  duniya!'"
      ]
     },
     "execution_count": 10,
     "metadata": {},
     "output_type": "execute_result"
    }
   ],
   "source": [
    "'namastey  duniya!'\n"
   ]
  },
  {
   "cell_type": "code",
   "execution_count": 11,
   "id": "78f89ebf-27fa-49e5-8b81-35afe486e9ad",
   "metadata": {},
   "outputs": [
    {
     "name": "stdout",
     "output_type": "stream",
     "text": [
      "namastey  duniya!\n"
     ]
    }
   ],
   "source": [
    "print('namastey  duniya!')"
   ]
  },
  {
   "cell_type": "markdown",
   "id": "ac956407-2dd5-4893-b39b-a58b03abfb00",
   "metadata": {},
   "source": [
    "\"\\n\" is makes a  newline appear in a String"
   ]
  },
  {
   "cell_type": "code",
   "execution_count": 12,
   "id": "e06e20a1-74cd-4492-bbc8-507b50fb0a90",
   "metadata": {},
   "outputs": [
    {
     "name": "stdout",
     "output_type": "stream",
     "text": [
      "\n",
      " namastey  duniya!\n"
     ]
    }
   ],
   "source": [
    "print('\\n namastey  duniya!')\n"
   ]
  },
  {
   "cell_type": "code",
   "execution_count": 13,
   "id": "5a458944-7653-427c-a60c-7098c543f9e0",
   "metadata": {},
   "outputs": [
    {
     "name": "stdout",
     "output_type": "stream",
     "text": [
      "\t namastey  duniya!\n"
     ]
    }
   ],
   "source": [
    "print('\\t namastey  duniya!')\n"
   ]
  },
  {
   "cell_type": "markdown",
   "id": "18c017c5-9e96-4a52-bd03-58ebe8681d71",
   "metadata": {},
   "source": [
    "# basic String"
   ]
  },
  {
   "cell_type": "markdown",
   "id": "4768cc26-79df-40f5-9a44-14af01197397",
   "metadata": {},
   "source": [
    "we can also use a function len() to check the length of a string!"
   ]
  },
  {
   "cell_type": "code",
   "execution_count": 17,
   "id": "ebe59e48-ff0c-4926-80ac-2ca86a834f23",
   "metadata": {},
   "outputs": [
    {
     "data": {
      "text/plain": [
       "14"
      ]
     },
     "execution_count": 17,
     "metadata": {},
     "output_type": "execute_result"
    }
   ],
   "source": [
    "len('namasteyduniya')"
   ]
  },
  {
   "cell_type": "markdown",
   "id": "b17eb01c-05bc-4ba3-bbbd-c1ec5ead046c",
   "metadata": {},
   "source": [
    "# String Indexing"
   ]
  },
  {
   "cell_type": "code",
   "execution_count": 21,
   "id": "2be17a3f-1736-466a-9e78-e8205d629518",
   "metadata": {},
   "outputs": [
    {
     "name": "stdout",
     "output_type": "stream",
     "text": [
      "Machine learning\n",
      "M\n",
      "a\n",
      "Machine learning\n",
      "achine learning\n",
      "a\n",
      "Machine learning\n",
      "Mcielann\n",
      "n\n",
      "www.Machine learning\n",
      "Machine learningMachine learning "
     ]
    }
   ],
   "source": [
    "s=\"Machine learning\"\n",
    "print(s)\n",
    "print(s[0])\n",
    "print(s[1])\n",
    "print(s[:])\n",
    "print(s[1:])\n",
    "print(s[1:2])\n",
    "print(s[::])\n",
    "print(s[::2])\n",
    "print(s[-2])\n",
    "print('www.'+s)\n",
    "print(s*2,end=' ')"
   ]
  },
  {
   "cell_type": "markdown",
   "id": "4540d48b-5fca-4e9d-9003-9528400623ec",
   "metadata": {},
   "source": [
    "# String properties"
   ]
  },
  {
   "cell_type": "markdown",
   "id": "0b11ecc1-de78-4df8-945e-0fe0c14d4430",
   "metadata": {},
   "source": [
    "1. immutability: it's mean data can't  change , A new object needs to be created in stead."
   ]
  },
  {
   "cell_type": "code",
   "execution_count": 6,
   "id": "201f9285-83f1-4da8-91ea-bb0e955ff9d9",
   "metadata": {},
   "outputs": [
    {
     "data": {
      "text/plain": [
       "'nidhi'"
      ]
     },
     "execution_count": 6,
     "metadata": {},
     "output_type": "execute_result"
    }
   ],
   "source": [
    "s=\"nidhi\"\n",
    "s"
   ]
  },
  {
   "cell_type": "code",
   "execution_count": 7,
   "id": "ec44fde6-cf2e-4da8-aae0-56c8841ff1f4",
   "metadata": {},
   "outputs": [
    {
     "data": {
      "text/plain": [
       "'nidhiKesharvani'"
      ]
     },
     "execution_count": 7,
     "metadata": {},
     "output_type": "execute_result"
    }
   ],
   "source": [
    "# concatenate : just means joining two strings together.\n",
    "s+\"Kesharvani\""
   ]
  },
  {
   "cell_type": "code",
   "execution_count": 8,
   "id": "24da43c3-78ea-403e-a7d4-ace9bdd99686",
   "metadata": {},
   "outputs": [
    {
     "data": {
      "text/plain": [
       "'nidhi'"
      ]
     },
     "execution_count": 8,
     "metadata": {},
     "output_type": "execute_result"
    }
   ],
   "source": [
    "# we can  use multiplication sybol to create repetition\n",
    "s"
   ]
  },
  {
   "cell_type": "code",
   "execution_count": 9,
   "id": "33523618-f8ad-45a7-bd69-941e369954e8",
   "metadata": {},
   "outputs": [
    {
     "data": {
      "text/plain": [
       "'nidhinidhinidhinidhinidhi'"
      ]
     },
     "execution_count": 9,
     "metadata": {},
     "output_type": "execute_result"
    }
   ],
   "source": [
    "s*5"
   ]
  },
  {
   "cell_type": "markdown",
   "id": "1446ef26-02c4-4b4d-abc4-cebdf4579197",
   "metadata": {},
   "source": [
    "# Basic Built -in -String methods"
   ]
  },
  {
   "cell_type": "code",
   "execution_count": 11,
   "id": "94c2bd23-bdea-4d0f-bf32-78d3c60cc1bd",
   "metadata": {},
   "outputs": [
    {
     "data": {
      "text/plain": [
       "'nidhi'"
      ]
     },
     "execution_count": 11,
     "metadata": {},
     "output_type": "execute_result"
    }
   ],
   "source": [
    "s"
   ]
  },
  {
   "cell_type": "code",
   "execution_count": 13,
   "id": "81c1e663-5519-4dee-be39-96e969e6f2e6",
   "metadata": {},
   "outputs": [
    {
     "name": "stdout",
     "output_type": "stream",
     "text": [
      "NIDHI\n",
      "nidhi\n",
      "NIDHI\n",
      "5\n",
      "False\n",
      "True\n",
      "False\n",
      "False\n"
     ]
    }
   ],
   "source": [
    "#method():methodsbare actions that a \"data thing\"or object like string but functions are actions that belong\n",
    "#to no 'data thing' aka object and just exist in program\n",
    "print(s.upper())\n",
    "print(s.lower())\n",
    "print(s.swapcase())\n",
    "print(len(s))\n",
    "print(s.isupper())\n",
    "print(s.islower())\n",
    "print(s.isnumeric())\n",
    "print(s.isdigit())"
   ]
  },
  {
   "cell_type": "code",
   "execution_count": 15,
   "id": "4a08502b-da7f-45ee-8458-be217ba8e07e",
   "metadata": {},
   "outputs": [
    {
     "name": "stdout",
     "output_type": "stream",
     "text": [
      "n\n"
     ]
    }
   ],
   "source": [
    "print(max(s))"
   ]
  },
  {
   "cell_type": "code",
   "execution_count": 16,
   "id": "dfbfac50-a8a2-4397-8b3d-1fc9c7092a2a",
   "metadata": {},
   "outputs": [
    {
     "name": "stdout",
     "output_type": "stream",
     "text": [
      "d\n"
     ]
    }
   ],
   "source": [
    "print(min(s))"
   ]
  },
  {
   "cell_type": "code",
   "execution_count": 18,
   "id": "4edcb04e-84c4-4c54-8d24-670a17d403f8",
   "metadata": {},
   "outputs": [
    {
     "data": {
      "text/plain": [
       "'This is my pc'"
      ]
     },
     "execution_count": 18,
     "metadata": {},
     "output_type": "execute_result"
    }
   ],
   "source": [
    "s=\"this is my pc\"\n",
    "s.capitalize()"
   ]
  },
  {
   "cell_type": "code",
   "execution_count": 20,
   "id": "8aa802ae-f7ce-46f6-8899-0f8a17417179",
   "metadata": {},
   "outputs": [
    {
     "name": "stdout",
     "output_type": "stream",
     "text": [
      "--------- hello world, welcome to python tutorials----------\n"
     ]
    }
   ],
   "source": [
    "str=\" hello world, welcome to python tutorials\"\n",
    "print(str.center(60,\"-\"))"
   ]
  },
  {
   "cell_type": "code",
   "execution_count": 22,
   "id": "42053325-ef5a-42b6-a4ee-483d81c317f6",
   "metadata": {},
   "outputs": [
    {
     "name": "stdout",
     "output_type": "stream",
     "text": [
      "2\n"
     ]
    }
   ],
   "source": [
    "print(str.count('w',2,40))"
   ]
  },
  {
   "cell_type": "markdown",
   "id": "0ae4916c-d691-40d6-a344-3313590baff4",
   "metadata": {},
   "source": [
    "# Print Formating"
   ]
  },
  {
   "cell_type": "code",
   "execution_count": 34,
   "id": "1509d844-fd19-4426-b36a-f1f3308343a8",
   "metadata": {},
   "outputs": [
    {
     "name": "stdout",
     "output_type": "stream",
     "text": [
      "my name is python and Age is 32\n",
      "my name is python and Age is 32\n",
      "my name is python and Age is 32\n",
      "my name is python and Age is 32\n",
      "my name is 32 and Age is python\n",
      "my name is python and Age is 32\n",
      "my name is python and Age is 32 and sum is23\n"
     ]
    }
   ],
   "source": [
    "n='python'\n",
    "a=32\n",
    "print(\"my name is\",n,\"and Age is\",a)\n",
    "print(\"my name is %s and Age is %d\"%(n,a))\n",
    "print(\"my name is {} and Age is {}\".format(n,a))\n",
    "print(\"my name is {0} and Age is {1}\".format(n,a))\n",
    "print(\"my name is {1} and Age is {0}\".format(n,a))\n",
    "print(f\"my name is {n} and Age is {a}\")\n",
    "print(f\"my name is {n} and Age is {a} and sum is{20+3}\")"
   ]
  },
  {
   "cell_type": "markdown",
   "id": "705c2084-e81e-4898-af3a-48079c4905a5",
   "metadata": {},
   "source": [
    "# Split Function"
   ]
  },
  {
   "cell_type": "code",
   "execution_count": 35,
   "id": "99d69060-0c4a-4646-96b3-49c84e8f3374",
   "metadata": {},
   "outputs": [
    {
     "data": {
      "text/plain": [
       "'this is my pc'"
      ]
     },
     "execution_count": 35,
     "metadata": {},
     "output_type": "execute_result"
    }
   ],
   "source": [
    "s"
   ]
  },
  {
   "cell_type": "code",
   "execution_count": 36,
   "id": "59488174-8eb5-4f05-b4bc-8538d1fe0f94",
   "metadata": {},
   "outputs": [
    {
     "data": {
      "text/plain": [
       "['this', 'is', 'my', 'pc']"
      ]
     },
     "execution_count": 36,
     "metadata": {},
     "output_type": "execute_result"
    }
   ],
   "source": [
    "s.split()"
   ]
  },
  {
   "cell_type": "code",
   "execution_count": 39,
   "id": "7cb9c1eb-d5c9-4eba-8117-8b99bacfeccf",
   "metadata": {},
   "outputs": [
    {
     "data": {
      "text/plain": [
       "'this is my pc'"
      ]
     },
     "execution_count": 39,
     "metadata": {},
     "output_type": "execute_result"
    }
   ],
   "source": [
    "s"
   ]
  },
  {
   "cell_type": "code",
   "execution_count": 40,
   "id": "f2b541b6-c98b-41bb-bf5b-a30d7aa6b06a",
   "metadata": {},
   "outputs": [
    {
     "data": {
      "text/plain": [
       "['th', ' ', ' my pc']"
      ]
     },
     "execution_count": 40,
     "metadata": {},
     "output_type": "execute_result"
    }
   ],
   "source": [
    "s.split('is')"
   ]
  },
  {
   "cell_type": "markdown",
   "id": "e020f876-05b2-4faa-be37-78cf832c725f",
   "metadata": {},
   "source": [
    "# Strip Function"
   ]
  },
  {
   "cell_type": "code",
   "execution_count": 47,
   "id": "b6863c5a-f9a8-437d-90ac-7e8cd24079d2",
   "metadata": {},
   "outputs": [
    {
     "name": "stdout",
     "output_type": "stream",
     "text": [
      "            nidhi          \n",
      "nidhi\n",
      "nidhi          \n",
      "            nidhi\n"
     ]
    }
   ],
   "source": [
    "s='            nidhi          '\n",
    "print(s)\n",
    "print(s.strip())\n",
    "print(s.lstrip())\n",
    "print(s.rstrip())"
   ]
  },
  {
   "cell_type": "code",
   "execution_count": 53,
   "id": "30cc44b4-77c4-48c4-b4ac-9bc19e598782",
   "metadata": {},
   "outputs": [
    {
     "data": {
      "text/plain": [
       "'nidhi'"
      ]
     },
     "execution_count": 53,
     "metadata": {},
     "output_type": "execute_result"
    }
   ],
   "source": [
    "s='#nidhi*'\n",
    "s=s.lstrip('#')\n",
    "s=s.rstrip('*')   \n",
    "s"
   ]
  },
  {
   "cell_type": "code",
   "execution_count": null,
   "id": "4f6425fe-e5ac-43d7-bbf9-86ef4a4d110f",
   "metadata": {},
   "outputs": [],
   "source": []
  }
 ],
 "metadata": {
  "kernelspec": {
   "display_name": "Python 3 (ipykernel)",
   "language": "python",
   "name": "python3"
  },
  "language_info": {
   "codemirror_mode": {
    "name": "ipython",
    "version": 3
   },
   "file_extension": ".py",
   "mimetype": "text/x-python",
   "name": "python",
   "nbconvert_exporter": "python",
   "pygments_lexer": "ipython3",
   "version": "3.11.7"
  }
 },
 "nbformat": 4,
 "nbformat_minor": 5
}
