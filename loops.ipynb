{
 "cells": [
  {
   "cell_type": "code",
   "execution_count": null,
   "id": "9ff70f03-664a-485e-b100-1f033ad7c0d0",
   "metadata": {},
   "outputs": [],
   "source": [
    "python :"
   ]
  },
  {
   "cell_type": "markdown",
   "id": "64e0b9cc-60e5-4a1e-a556-217ad73e4cc0",
   "metadata": {},
   "source": [
    "python has two premitive  loop commands: .for  .whileloops"
   ]
  },
  {
   "cell_type": "code",
   "execution_count": 1,
   "id": "b7925d1f-bd4b-4ef4-a791-74098bae7b4b",
   "metadata": {},
   "outputs": [
    {
     "name": "stdout",
     "output_type": "stream",
     "text": [
      "10\n",
      "20\n",
      "machine learning\n",
      "40\n",
      "50\n"
     ]
    }
   ],
   "source": [
    "# for loops: for loop is used for iterating over a sequence(that is either a list, tuple, dictionary,set and a string)\n",
    "l=[10,20,\"machine learning\",40,50]\n",
    "for i in l:\n",
    "    print(i)"
   ]
  },
  {
   "cell_type": "markdown",
   "id": "fc55763e-8fe0-4cbf-9907-c0b8f678c8b4",
   "metadata": {},
   "source": [
    "THE RANGE() FUNCTION:  to loop a set of code a specified of times,we can use the range() function\n"
   ]
  },
  {
   "cell_type": "code",
   "execution_count": 3,
   "id": "55c7457c-1db5-48d9-98bd-a5700aca0b4d",
   "metadata": {},
   "outputs": [
    {
     "name": "stdout",
     "output_type": "stream",
     "text": [
      "0 1 2 3 4 5 6 7 8 9 "
     ]
    }
   ],
   "source": [
    "l=list(range(10))\n",
    "for i in l:\n",
    "    print(i,end=' ')"
   ]
  },
  {
   "cell_type": "code",
   "execution_count": 4,
   "id": "4b21d57e-b8c2-4833-9bd7-9e69a92c9778",
   "metadata": {},
   "outputs": [
    {
     "name": "stdout",
     "output_type": "stream",
     "text": [
      "0 1 2 3 4 5 6 7 8 9 "
     ]
    }
   ],
   "source": [
    "for i in range(10):\n",
    "    print(i,end=' ')"
   ]
  },
  {
   "cell_type": "code",
   "execution_count": 7,
   "id": "9cd75ec7-f9b4-4c15-af00-9c92f0feb99e",
   "metadata": {},
   "outputs": [
    {
     "name": "stdout",
     "output_type": "stream",
     "text": [
      "1 2 3 4 5 6 7 8 9 "
     ]
    }
   ],
   "source": [
    "for i in range(1,10):# start range and ending range is \n",
    "    print(i ,end=' ')\n"
   ]
  },
  {
   "cell_type": "code",
   "execution_count": 15,
   "id": "efce72cd-b9d1-4e0f-a4e5-50f32a684723",
   "metadata": {},
   "outputs": [
    {
     "name": "stdout",
     "output_type": "stream",
     "text": [
      "1 3 5 7 9 "
     ]
    }
   ],
   "source": [
    "for i in range(1,10,2):# start , end , increment value(n+1) is given in the range\n",
    "    print(i,end=' ')\n"
   ]
  },
  {
   "cell_type": "code",
   "execution_count": 16,
   "id": "593ad7d8-aa7b-4488-b473-40470e853e88",
   "metadata": {},
   "outputs": [
    {
     "name": "stdout",
     "output_type": "stream",
     "text": [
      "nidhi\n",
      "nidhi\n",
      "nidhi\n",
      "nidhi\n",
      "nidhi\n"
     ]
    }
   ],
   "source": [
    "for i in range(5):\n",
    "    print(\"nidhi\")"
   ]
  },
  {
   "cell_type": "code",
   "execution_count": 2,
   "id": "afc05195-5c2d-4c97-a6a7-3f4e47dfe79d",
   "metadata": {},
   "outputs": [
    {
     "name": "stdout",
     "output_type": "stream",
     "text": [
      "2 4 6 8 10 12 14 16 18 20 "
     ]
    }
   ],
   "source": [
    "for i in range(1,11):\n",
    "    print(2*i,end=' ')"
   ]
  },
  {
   "cell_type": "markdown",
   "id": "eeb1707b-63b9-4060-a610-f45f89f4be39",
   "metadata": {},
   "source": [
    "For loop control statement:\n"
   ]
  },
  {
   "cell_type": "code",
   "execution_count": 4,
   "id": "b7532c8e-2d39-4a52-8f38-3a42df1f6eb9",
   "metadata": {},
   "outputs": [
    {
     "name": "stdout",
     "output_type": "stream",
     "text": [
      "2 4 6 8 "
     ]
    }
   ],
   "source": [
    "for i in range(1,10):\n",
    "    if i%2==0:\n",
    "        print(i,end=' ')"
   ]
  },
  {
   "cell_type": "markdown",
   "id": "d183c0d3-64d9-45c8-ac94-a001458a18fb",
   "metadata": {},
   "source": [
    "LOOPINg through a String:"
   ]
  },
  {
   "cell_type": "code",
   "execution_count": 5,
   "id": "361b30cc-cc6c-49a7-8df0-d0f368ee4239",
   "metadata": {},
   "outputs": [
    {
     "name": "stdout",
     "output_type": "stream",
     "text": [
      "n\n",
      "i\n",
      "d\n",
      "h\n",
      "i\n"
     ]
    }
   ],
   "source": [
    "for x in \"nidhi\":\n",
    "    print(x)"
   ]
  },
  {
   "cell_type": "markdown",
   "id": "d6606745-c40b-4077-8303-f3d982920291",
   "metadata": {},
   "source": [
    "For loop with break statement:we can stop the loop before it has looped through all items"
   ]
  },
  {
   "cell_type": "code",
   "execution_count": 14,
   "id": "8c5e7f32-1f5f-4672-9bb4-5bd6b548c9d8",
   "metadata": {},
   "outputs": [
    {
     "name": "stdout",
     "output_type": "stream",
     "text": [
      "1 2 3 4 5 6 7 8 9 "
     ]
    }
   ],
   "source": [
    "for i in range(1,20):\n",
    "    if (i==10):\n",
    "        break\n",
    "    print(i,end=' ')\n"
   ]
  },
  {
   "cell_type": "markdown",
   "id": "c2785f7b-bbfe-4c81-bdc4-269607ff7754",
   "metadata": {},
   "source": [
    "For loop with continue statement: we can stop the current iteration of the loop,continue i with the next"
   ]
  },
  {
   "cell_type": "code",
   "execution_count": 15,
   "id": "793a082d-eb97-4107-b7d8-706f8e6c7c46",
   "metadata": {},
   "outputs": [
    {
     "name": "stdout",
     "output_type": "stream",
     "text": [
      "1 2 3 4 5 6 7 8 9 11 12 13 14 15 16 17 18 19 "
     ]
    }
   ],
   "source": [
    "for i in range(1,20):\n",
    "    if(i==10):\n",
    "        continue\n",
    "    print(i,end=' ')\n",
    "            \n",
    "\n",
    "\n",
    "\n",
    "    "
   ]
  },
  {
   "cell_type": "markdown",
   "id": "6caa50e9-fdcd-4608-ac88-a0c214df7312",
   "metadata": {},
   "source": [
    "Else in  For loop: the keyword else specified the block of the code to be executed when the loop is finished"
   ]
  },
  {
   "cell_type": "code",
   "execution_count": 16,
   "id": "d4ac0dae-b2f1-4da5-bb51-c05818f8427a",
   "metadata": {},
   "outputs": [
    {
     "name": "stdout",
     "output_type": "stream",
     "text": [
      "0\n",
      "1\n",
      "2\n",
      "3\n",
      "4\n",
      "finished\n"
     ]
    }
   ],
   "source": [
    "for x in range(5):\n",
    "    print(x)\n",
    "else:\n",
    "    print(\"finished\")"
   ]
  },
  {
   "cell_type": "markdown",
   "id": "a0b5722c-bccf-4bc8-8352-22d964688942",
   "metadata": {},
   "source": [
    "Nested For loop :\n",
    "a nested for loop inside a loop. the inner loop will be executed one time for each iteration of the\"outer loop\""
   ]
  },
  {
   "cell_type": "code",
   "execution_count": 17,
   "id": "ff551603-9079-4639-94a7-a8523f271dc2",
   "metadata": {},
   "outputs": [
    {
     "name": "stdout",
     "output_type": "stream",
     "text": [
      "red Apple\n",
      "red Watermelon\n",
      "red mango\n",
      "big Apple\n",
      "big Watermelon\n",
      "big mango\n",
      "Tasty Apple\n",
      "Tasty Watermelon\n",
      "Tasty mango\n"
     ]
    }
   ],
   "source": [
    "adj=[\"red\", \"big\", \"Tasty\"]\n",
    "fruits=[\"Apple\",\"Watermelon\",\"mango\"]\n",
    "for x in adj:\n",
    "    for y in fruits:\n",
    "        print(x,y)"
   ]
  },
  {
   "cell_type": "markdown",
   "id": "ab7f299d-3ffb-4b4a-ad35-1ea15384c844",
   "metadata": {},
   "source": [
    "While loop:  the while loop we can execute a set of statements as long as conditions is true"
   ]
  },
  {
   "cell_type": "code",
   "execution_count": 20,
   "id": "119e21cd-ae0b-49f1-8b49-f46b820cd86f",
   "metadata": {},
   "outputs": [
    {
     "name": "stdout",
     "output_type": "stream",
     "text": [
      "nidhi nidhi nidhi nidhi nidhi "
     ]
    }
   ],
   "source": [
    "i=1\n",
    "while(i<=5):\n",
    "    print(\"nidhi\" , end=' ')\n",
    "    i=i+1\n"
   ]
  },
  {
   "cell_type": "code",
   "execution_count": 21,
   "id": "2cf003e6-7084-4089-a7d1-13a34ccc5187",
   "metadata": {},
   "outputs": [
    {
     "name": "stdout",
     "output_type": "stream",
     "text": [
      "2 4 6 8 10 12 14 16 18 20 "
     ]
    }
   ],
   "source": [
    "i=1\n",
    "while(i<=10):\n",
    "    print(i*2, end=' ')\n",
    "    i=i+1"
   ]
  },
  {
   "cell_type": "markdown",
   "id": "b34569f0-2b1b-40c3-a4eb-abc46525aa3d",
   "metadata": {},
   "source": [
    "The Break Statement : we can stop the loop even if while condition is True"
   ]
  },
  {
   "cell_type": "code",
   "execution_count": 3,
   "id": "eaae4873-67ad-493b-ade3-8e6ee855449e",
   "metadata": {},
   "outputs": [
    {
     "name": "stdout",
     "output_type": "stream",
     "text": [
      "1\n",
      "2\n",
      "3\n"
     ]
    }
   ],
   "source": [
    "i=1\n",
    "while(i<=10):\n",
    "    if i==4:\n",
    "        break\n",
    "    print(i)\n",
    "    i +=1"
   ]
  },
  {
   "cell_type": "code",
   "execution_count": 4,
   "id": "ae7b5862-0430-4c0c-b48a-2192233ae689",
   "metadata": {},
   "outputs": [
    {
     "name": "stdout",
     "output_type": "stream",
     "text": [
      "1\n",
      "2\n",
      "4\n",
      "5\n",
      "6\n",
      "7\n",
      "8\n",
      "9\n",
      "10\n",
      "11\n"
     ]
    }
   ],
   "source": [
    "# while continue statement\n",
    "i=0\n",
    "while(i<=10):\n",
    "    i += 1\n",
    "    if(i==3):\n",
    "        continue\n",
    "    print(i)"
   ]
  },
  {
   "cell_type": "markdown",
   "id": "42474c9c-15cc-4080-a616-0e5e712659b9",
   "metadata": {},
   "source": [
    "The else statement: with the else statement we can run a block of code once when the condition no longer is true"
   ]
  },
  {
   "cell_type": "code",
   "execution_count": 5,
   "id": "db4f55c8-9adf-483f-8280-9b751af14f55",
   "metadata": {},
   "outputs": [
    {
     "name": "stdout",
     "output_type": "stream",
     "text": [
      "1\n",
      "2\n",
      "3\n",
      "4\n",
      "5\n",
      "i is no longer less than 5\n"
     ]
    }
   ],
   "source": [
    "i=1\n",
    "while(i<=5):\n",
    "    print(i)\n",
    "    i +=1\n",
    "else:\n",
    "    print(\"i is no longer less than 5\")"
   ]
  },
  {
   "cell_type": "code",
   "execution_count": null,
   "id": "15d99726-14bb-4ea3-b707-0159c3e5508b",
   "metadata": {},
   "outputs": [],
   "source": []
  }
 ],
 "metadata": {
  "kernelspec": {
   "display_name": "Python 3 (ipykernel)",
   "language": "python",
   "name": "python3"
  },
  "language_info": {
   "codemirror_mode": {
    "name": "ipython",
    "version": 3
   },
   "file_extension": ".py",
   "mimetype": "text/x-python",
   "name": "python",
   "nbconvert_exporter": "python",
   "pygments_lexer": "ipython3",
   "version": "3.11.7"
  }
 },
 "nbformat": 4,
 "nbformat_minor": 5
}
