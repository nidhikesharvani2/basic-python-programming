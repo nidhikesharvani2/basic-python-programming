{
 "cells": [
  {
   "cell_type": "markdown",
   "id": "b023be4f-5e3e-4a8d-81aa-1e33031cecef",
   "metadata": {},
   "source": [
    "# python Function\n",
    "* a function is a block of code which only runs when it is called.\n",
    "* you can pass the data known as parameters, into a function.\n",
    "* a function can return data as result.\n",
    "* a colon(:) to mark the end of the function header.\n",
    "* an optional return statement to return a value from the Function."
   ]
  },
  {
   "cell_type": "markdown",
   "id": "8881a20b-e047-464b-af05-f6a96232b346",
   "metadata": {},
   "source": [
    "# creating Function\n",
    "* in python the function  is defined using the def keyword."
   ]
  },
  {
   "cell_type": "code",
   "execution_count": 3,
   "id": "b88f9a86-9eb3-46eb-8dbe-17d4b4b74f2b",
   "metadata": {},
   "outputs": [
    {
     "name": "stdout",
     "output_type": "stream",
     "text": [
      "Hello,Nidhi\n"
     ]
    }
   ],
   "source": [
    "def function():\n",
    "    print(\"Hello,Nidhi\")\n",
    "function()"
   ]
  },
  {
   "cell_type": "code",
   "execution_count": 4,
   "id": "4cfcb1c8-1d66-462d-ab08-7aa0cba5d993",
   "metadata": {},
   "outputs": [
    {
     "name": "stdout",
     "output_type": "stream",
     "text": [
      "Hello,Nidhi\n"
     ]
    }
   ],
   "source": [
    "function()"
   ]
  },
  {
   "cell_type": "markdown",
   "id": "fc4df37d-21a4-419c-ae2e-8f73c7a00dc8",
   "metadata": {},
   "source": [
    "# scope of variable in Function\n",
    "Local variable is declared the inside the function wheres Global variable is declare the outside the Function. Local variables are \n",
    "created when the function has started execution and is lost when the function terminates, on the other hand, Global variable is created as execution \n",
    "starts and is lost when the program end."
   ]
  },
  {
   "cell_type": "code",
   "execution_count": 5,
   "id": "b0b1bdec-52d8-48f3-8355-cf430643331e",
   "metadata": {},
   "outputs": [
    {
     "name": "stdout",
     "output_type": "stream",
     "text": [
      "outside: 10\n",
      "inside : 10\n"
     ]
    }
   ],
   "source": [
    "a=10\n",
    "def fun():\n",
    "    print(\"inside :\",a)\n",
    "print(\"outside:\",a)\n",
    "fun()"
   ]
  },
  {
   "cell_type": "markdown",
   "id": "4f9bf902-51cb-4ac6-a97f-f198b7be5556",
   "metadata": {},
   "source": [
    "# Note: \n",
    "Global variable can be used anywhere"
   ]
  },
  {
   "cell_type": "code",
   "execution_count": 6,
   "id": "2eae2161-0aa0-497d-a219-3db6ed79fe0f",
   "metadata": {},
   "outputs": [
    {
     "name": "stdout",
     "output_type": "stream",
     "text": [
      "inside: 20\n",
      "outside: 10\n"
     ]
    }
   ],
   "source": [
    "a=10\n",
    "def fun():\n",
    "    a=20\n",
    "    print(\"inside:\",a)\n",
    "\n",
    "fun()\n",
    "print(\"outside:\",a)"
   ]
  },
  {
   "cell_type": "markdown",
   "id": "54463cc6-5a3b-4846-aba0-7e3e84ccc45e",
   "metadata": {},
   "source": [
    "# note : \n",
    "inside local function, local variable priority is first "
   ]
  },
  {
   "cell_type": "code",
   "execution_count": 7,
   "id": "0f46b69a-9b4d-4eb1-b076-a308423eabd1",
   "metadata": {},
   "outputs": [
    {
     "ename": "UnboundLocalError",
     "evalue": "cannot access local variable 'a' where it is not associated with a value",
     "output_type": "error",
     "traceback": [
      "\u001b[1;31m---------------------------------------------------------------------------\u001b[0m",
      "\u001b[1;31mUnboundLocalError\u001b[0m                         Traceback (most recent call last)",
      "Cell \u001b[1;32mIn[7], line 5\u001b[0m\n\u001b[0;32m      3\u001b[0m     a\u001b[38;5;241m=\u001b[39ma\u001b[38;5;241m+\u001b[39m\u001b[38;5;241m30\u001b[39m\n\u001b[0;32m      4\u001b[0m     \u001b[38;5;28mprint\u001b[39m(\u001b[38;5;124m\"\u001b[39m\u001b[38;5;124minside:\u001b[39m\u001b[38;5;124m\"\u001b[39m,a)\n\u001b[1;32m----> 5\u001b[0m fun()\n\u001b[0;32m      6\u001b[0m \u001b[38;5;28mprint\u001b[39m(\u001b[38;5;124m\"\u001b[39m\u001b[38;5;124moutside:\u001b[39m\u001b[38;5;124m\"\u001b[39m,a)\n",
      "Cell \u001b[1;32mIn[7], line 3\u001b[0m, in \u001b[0;36mfun\u001b[1;34m()\u001b[0m\n\u001b[0;32m      2\u001b[0m \u001b[38;5;28;01mdef\u001b[39;00m \u001b[38;5;21mfun\u001b[39m():\n\u001b[1;32m----> 3\u001b[0m     a\u001b[38;5;241m=\u001b[39ma\u001b[38;5;241m+\u001b[39m\u001b[38;5;241m30\u001b[39m\n\u001b[0;32m      4\u001b[0m     \u001b[38;5;28mprint\u001b[39m(\u001b[38;5;124m\"\u001b[39m\u001b[38;5;124minside:\u001b[39m\u001b[38;5;124m\"\u001b[39m,a)\n",
      "\u001b[1;31mUnboundLocalError\u001b[0m: cannot access local variable 'a' where it is not associated with a value"
     ]
    }
   ],
   "source": [
    "a=10\n",
    "def fun():\n",
    "    a=a+30\n",
    "    print(\"inside:\",a)\n",
    "fun()\n",
    "print(\"outside:\",a)"
   ]
  },
  {
   "cell_type": "markdown",
   "id": "e111a7c0-07ba-41db-93e5-63383835b7c7",
   "metadata": {},
   "source": [
    "NOTE : we can't change  local variable value inside a local function directly."
   ]
  },
  {
   "cell_type": "code",
   "execution_count": 8,
   "id": "ec9fa9d5-6b7d-4562-905a-1d21969afb56",
   "metadata": {},
   "outputs": [
    {
     "name": "stdout",
     "output_type": "stream",
     "text": [
      "Inside: 40\n",
      "outside: 40\n"
     ]
    }
   ],
   "source": [
    "a=10\n",
    "def fun():\n",
    "    global a\n",
    "    a=a+30\n",
    "    print(\"Inside:\",a)\n",
    "\n",
    "fun()\n",
    "print(\"outside:\",a)   "
   ]
  },
  {
   "cell_type": "markdown",
   "id": "f548cda1-09e2-45b8-a90c-1e8d6ae37526",
   "metadata": {},
   "source": [
    "# Type of Functions\n",
    "* Function with no argument, no return value\n",
    "* function with no  argument, return value\n",
    "* function with argument , no return value\n",
    "* function with argument , with return value"
   ]
  },
  {
   "cell_type": "markdown",
   "id": "08b28baf-7482-43f9-82a4-53dfd4789d49",
   "metadata": {},
   "source": [
    "+ 1.function with no argument, no return value"
   ]
  },
  {
   "cell_type": "code",
   "execution_count": 16,
   "id": "58e89265-cb94-480e-bb2f-55508ec21c00",
   "metadata": {},
   "outputs": [
    {
     "name": "stdin",
     "output_type": "stream",
     "text": [
      "Enter First no: 5\n",
      "Enter second no: 34\n"
     ]
    },
    {
     "name": "stdout",
     "output_type": "stream",
     "text": [
      "sum: 39\n"
     ]
    }
   ],
   "source": [
    "def add():\n",
    "    a=int(input(\"Enter First no:\"))\n",
    "    b=int(input(\"Enter second no:\"))\n",
    "    print(\"sum:\", a+b)\n",
    "add()\n"
   ]
  },
  {
   "cell_type": "markdown",
   "id": "eb0929fb-2341-4c42-80a9-8b92ab51961a",
   "metadata": {},
   "source": [
    "*  2.function with no  argument, return value"
   ]
  },
  {
   "cell_type": "code",
   "execution_count": 12,
   "id": "9cec148f-a120-4926-b8c2-7d5c4a89c455",
   "metadata": {},
   "outputs": [
    {
     "name": "stdin",
     "output_type": "stream",
     "text": [
      "enter the first no.: 45\n",
      "enter the second no.: 5\n"
     ]
    },
    {
     "name": "stdout",
     "output_type": "stream",
     "text": [
      "sum: 50\n",
      "None\n"
     ]
    }
   ],
   "source": [
    "def add():\n",
    "    a=int(input(\"enter the first no.:\"))\n",
    "    b=int(input(\"enter the second no.:\"))\n",
    "    print(\"sum:\",a+b)\n",
    "a=add()\n",
    "print(a)\n"
   ]
  },
  {
   "cell_type": "code",
   "execution_count": 13,
   "id": "f61c4ab5-1e46-43a0-a2c0-b3b2b4a82cc7",
   "metadata": {},
   "outputs": [
    {
     "name": "stdin",
     "output_type": "stream",
     "text": [
      "enter the first no.: 3\n",
      "enter the second no.: 56\n"
     ]
    },
    {
     "name": "stdout",
     "output_type": "stream",
     "text": [
      "sum: 59\n"
     ]
    }
   ],
   "source": [
    "def add():\n",
    "        a=int(input(\"enter the first no.:\"))\n",
    "        b=int(input(\"enter the second no.:\"))\n",
    "        return a+b\n",
    "\n",
    "a=add()\n",
    "print(\"sum:\",a)\n",
    "\n",
    "    "
   ]
  },
  {
   "cell_type": "markdown",
   "id": "a9664e54-6d00-4321-9d1c-54e42f309c98",
   "metadata": {},
   "source": [
    "* 3. function with argument , no return value\n"
   ]
  },
  {
   "cell_type": "code",
   "execution_count": 14,
   "id": "87a23c5d-fb4b-42c6-9e83-e0bddd717470",
   "metadata": {},
   "outputs": [
    {
     "name": "stdin",
     "output_type": "stream",
     "text": [
      "enter the first no.: 45\n",
      "enter the second no.: 5\n"
     ]
    },
    {
     "name": "stdout",
     "output_type": "stream",
     "text": [
      "sum: 50\n"
     ]
    }
   ],
   "source": [
    "def add(x,y):\n",
    "    print(\"sum:\",x+y)\n",
    "\n",
    "a=int(input(\"enter the first no.:\"))\n",
    "b=int(input(\"enter the second no.:\"))\n",
    "add(a,b)"
   ]
  },
  {
   "cell_type": "markdown",
   "id": "71fe415c-b4cd-472c-a3b8-0c798bdbf8a0",
   "metadata": {},
   "source": [
    "* 4. function with argument , return value\n"
   ]
  },
  {
   "cell_type": "code",
   "execution_count": 18,
   "id": "cd3ee9b4-e532-4d85-835d-79751b9baa38",
   "metadata": {},
   "outputs": [
    {
     "name": "stdin",
     "output_type": "stream",
     "text": [
      "enter the first no.: 45\n",
      "enter the second no.: 5\n"
     ]
    },
    {
     "name": "stdout",
     "output_type": "stream",
     "text": [
      "sum: 50\n"
     ]
    }
   ],
   "source": [
    "def add(x,y):\n",
    "    return x+y\n",
    "a=int(input(\"enter the first no.:\"))\n",
    "b=int(input(\"enter the second no.:\"))\n",
    "add(a,b)\n",
    "print(\"sum:\",add(a,b))"
   ]
  },
  {
   "cell_type": "markdown",
   "id": "77e63e98-d870-492b-8d41-fe39223c6b99",
   "metadata": {},
   "source": [
    "# Default Argument"
   ]
  },
  {
   "cell_type": "code",
   "execution_count": 2,
   "id": "2e5f563d-a427-4960-ad3e-def83ad36a85",
   "metadata": {},
   "outputs": [
    {
     "name": "stdout",
     "output_type": "stream",
     "text": [
      "itronix: 20\n",
      "itronix: 30\n",
      "sol 20\n"
     ]
    }
   ],
   "source": [
    "def fun(a=\"itronix:\",b=20):\n",
    "    print(a,b)\n",
    "\n",
    "fun()# no argument pass\n",
    "fun(b=30)# single argument pass\n",
    "fun(b=20,a=\"sol\")# both argument pass"
   ]
  },
  {
   "cell_type": "markdown",
   "id": "b369e989-e825-41fa-94b3-9631c9e6ab62",
   "metadata": {},
   "source": [
    "# calculate time of execution of a function"
   ]
  },
  {
   "cell_type": "code",
   "execution_count": 6,
   "id": "63feb352-7cbd-4b4f-9ce9-bfe476941c44",
   "metadata": {},
   "outputs": [
    {
     "name": "stdout",
     "output_type": "stream",
     "text": [
      "time taken: 12.54882550239563\n"
     ]
    }
   ],
   "source": [
    "import time\n",
    "\n",
    "def square():\n",
    "    start=time.time()\n",
    "    for i in range (100000000):\n",
    "        i=i*1\n",
    "    end=time.time()\n",
    "    print(\"time taken:\",end-start)\n",
    "\n",
    "square()"
   ]
  },
  {
   "cell_type": "markdown",
   "id": "572d6a09-2eb6-472c-b78e-024a70424f6a",
   "metadata": {},
   "source": [
    "# pass Function as a argument in other function"
   ]
  },
  {
   "cell_type": "code",
   "execution_count": 8,
   "id": "d76e84b7-9935-409e-ac89-8e2ca31b1f91",
   "metadata": {},
   "outputs": [
    {
     "name": "stdout",
     "output_type": "stream",
     "text": [
      "nidhi\n"
     ]
    }
   ],
   "source": [
    "def fun(a):\n",
    "    a(\"nidhi\")\n",
    "\n",
    "fun(print)"
   ]
  },
  {
   "cell_type": "markdown",
   "id": "5a0c9d1a-4c94-4b36-a083-d265daf70644",
   "metadata": {},
   "source": [
    "# return function from another function"
   ]
  },
  {
   "cell_type": "code",
   "execution_count": 9,
   "id": "db481b8d-3094-4f6f-8a6f-bb3e16d6e2c4",
   "metadata": {},
   "outputs": [
    {
     "name": "stdout",
     "output_type": "stream",
     "text": [
      "nidhi\n"
     ]
    }
   ],
   "source": [
    "def fun():\n",
    "    return print\n",
    "\n",
    "a=fun()\n",
    "a(\"nidhi\")\n"
   ]
  },
  {
   "cell_type": "markdown",
   "id": "20e30645-5212-45fc-a0db-d6d7ce460ec7",
   "metadata": {},
   "source": [
    "# Nested Function"
   ]
  },
  {
   "cell_type": "code",
   "execution_count": 1,
   "id": "57800030-3974-4235-ad53-79c6a0e24c14",
   "metadata": {},
   "outputs": [
    {
     "name": "stdout",
     "output_type": "stream",
     "text": [
      "hello\n",
      "machine\n"
     ]
    }
   ],
   "source": [
    "def fun():\n",
    "    print(\"hello\")\n",
    "    def fun2():\n",
    "        print(\"machine\")\n",
    "    fun2()\n",
    "\n",
    "fun()"
   ]
  },
  {
   "cell_type": "markdown",
   "id": "ee609e65-d70a-4990-a522-83ec8d69d7ec",
   "metadata": {},
   "source": [
    "# calculate the time of execution of each function"
   ]
  },
  {
   "cell_type": "code",
   "execution_count": 1,
   "id": "a13c5a08-1b5f-4631-93d5-ccf12e770de2",
   "metadata": {},
   "outputs": [
    {
     "name": "stdout",
     "output_type": "stream",
     "text": [
      "time taken: 1.5275192260742188\n",
      "time taken: 28.660754919052124\n"
     ]
    }
   ],
   "source": [
    "import time \n",
    "def fun1(fun):\n",
    "    def fun2():\n",
    "        s=time.time()\n",
    "        fun()\n",
    "        e=time.time()\n",
    "        print(\"time taken:\",e-s)\n",
    "    return fun2\n",
    "\n",
    "def square():\n",
    "    for i in range(10000000):\n",
    "        i=i*i\n",
    "\n",
    "def cube():\n",
    "    for i in range(100000000):\n",
    "        i=i*i*i\n",
    "\n",
    "a=fun1(square)\n",
    "a()\n",
    "a=fun1(cube)\n",
    "a()"
   ]
  },
  {
   "cell_type": "code",
   "execution_count": null,
   "id": "bd9ab8d7-30f8-4b23-b4b6-8b7a908ed7da",
   "metadata": {},
   "outputs": [],
   "source": []
  }
 ],
 "metadata": {
  "kernelspec": {
   "display_name": "Python 3 (ipykernel)",
   "language": "python",
   "name": "python3"
  },
  "language_info": {
   "codemirror_mode": {
    "name": "ipython",
    "version": 3
   },
   "file_extension": ".py",
   "mimetype": "text/x-python",
   "name": "python",
   "nbconvert_exporter": "python",
   "pygments_lexer": "ipython3",
   "version": "3.11.7"
  }
 },
 "nbformat": 4,
 "nbformat_minor": 5
}
