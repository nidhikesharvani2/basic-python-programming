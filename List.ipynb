{
 "cells": [
  {
   "cell_type": "markdown",
   "id": "fc0332d6-766a-40e1-85db-663d1d2f2710",
   "metadata": {},
   "source": [
    "LIST: \n",
    "Lists are used to store multiple items in  a single variables"
   ]
  },
  {
   "cell_type": "markdown",
   "id": "192c13da-c928-45f2-a52b-9528b6cbf599",
   "metadata": {},
   "source": [
    "list are created by squaer bracket[]:"
   ]
  },
  {
   "cell_type": "code",
   "execution_count": 5,
   "id": "b879c661-a86c-4e1a-8058-837a8cb03fc4",
   "metadata": {},
   "outputs": [
    {
     "name": "stdout",
     "output_type": "stream",
     "text": [
      "[]\n",
      "<class 'list'>\n"
     ]
    }
   ],
   "source": [
    "list=[]\n",
    "print(list)\n",
    "print(type(list))"
   ]
  },
  {
   "cell_type": "code",
   "execution_count": 6,
   "id": "b69dc655-be8d-49d9-9c0c-0e2f31cbfde7",
   "metadata": {},
   "outputs": [
    {
     "data": {
      "text/plain": [
       "[10, 3.14, 'machine', 98.34, 100, 'python', 77]"
      ]
     },
     "execution_count": 6,
     "metadata": {},
     "output_type": "execute_result"
    }
   ],
   "source": [
    "l=[10,3.14,'machine',98.34,100,'python',77]\n",
    "l"
   ]
  },
  {
   "cell_type": "markdown",
   "id": "f5de8c46-a22a-4156-8e84-4d5519cb8be1",
   "metadata": {},
   "source": [
    "* list item are ordered ,changeable and allow duplicates values.\n",
    "* list item indexed, the first item has index [0], the second item has index [1] etc.\n",
    "* changeable meaning means we can add, remove and change items in a list after it has been created.\n",
    "* since lists are indexed , list can have items with the same value: allow duplicate value"
   ]
  },
  {
   "cell_type": "code",
   "execution_count": 7,
   "id": "80cebc84-e32b-42b6-a17f-23971da91a50",
   "metadata": {},
   "outputs": [
    {
     "name": "stdout",
     "output_type": "stream",
     "text": [
      "10\n"
     ]
    }
   ],
   "source": [
    "print(l[0])"
   ]
  },
  {
   "cell_type": "markdown",
   "id": "8fb2e6c4-c7a4-4343-91c2-4eed590d2c16",
   "metadata": {},
   "source": [
    "# Determine the length and type of list "
   ]
  },
  {
   "cell_type": "code",
   "execution_count": 8,
   "id": "1b42d7b9-52f6-46b6-84c8-0d4c0f800193",
   "metadata": {},
   "outputs": [
    {
     "name": "stdout",
     "output_type": "stream",
     "text": [
      "7\n"
     ]
    }
   ],
   "source": [
    "print(len(l))"
   ]
  },
  {
   "cell_type": "code",
   "execution_count": 9,
   "id": "1357b56f-6df8-485e-8393-6fd3927eeb47",
   "metadata": {},
   "outputs": [
    {
     "name": "stdout",
     "output_type": "stream",
     "text": [
      "<class 'list'>\n"
     ]
    }
   ],
   "source": [
    "print(type(l))"
   ]
  },
  {
   "cell_type": "markdown",
   "id": "5ad5f1cb-0737-434e-a7d3-247b50b82c57",
   "metadata": {},
   "source": [
    "# Access list items"
   ]
  },
  {
   "cell_type": "code",
   "execution_count": 8,
   "id": "44bca348-e7a8-439f-8eca-7a6a25709132",
   "metadata": {},
   "outputs": [
    {
     "name": "stdout",
     "output_type": "stream",
     "text": [
      "[10, 3.14, 'machine', 98.34, 100, 'python', 77]\n"
     ]
    }
   ],
   "source": [
    "print(l)"
   ]
  },
  {
   "cell_type": "code",
   "execution_count": 9,
   "id": "e38f8aae-6ef5-44b6-a149-59c1236ab609",
   "metadata": {},
   "outputs": [
    {
     "name": "stdout",
     "output_type": "stream",
     "text": [
      "100\n",
      "[10, 3.14, 'machine', 98.34, 100, 'python', 77]\n",
      "[3.14, 'machine', 98.34, 100, 'python', 77]\n",
      "[3.14, 'machine']\n",
      "[10, 3.14, 'machine', 98.34, 100, 'python', 77]\n",
      "[10, 'machine', 100, 77]\n",
      "python\n",
      "[100, 'python', 77]\n",
      "[10, 3.14, 'machine', 98.34, 100]\n"
     ]
    }
   ],
   "source": [
    "print(l[4])\n",
    "print(l[:])\n",
    "print(l[1:])\n",
    "print(l[1:3])\n",
    "print(l[::])\n",
    "print(l[::2])\n",
    "print(l[-2])\n",
    "print(l[-3:])\n",
    "print(l[:-2])"
   ]
  },
  {
   "cell_type": "markdown",
   "id": "9546871a-fa5a-4764-bf9c-c47b4269874d",
   "metadata": {},
   "source": [
    "# change list items"
   ]
  },
  {
   "cell_type": "code",
   "execution_count": 10,
   "id": "3e14ce5d-3ab1-4dcd-a1fc-d6c3dd4f8d41",
   "metadata": {},
   "outputs": [
    {
     "data": {
      "text/plain": [
       "[10, 3.14, 'machine', 98.34, 100, 'python', 77]"
      ]
     },
     "execution_count": 10,
     "metadata": {},
     "output_type": "execute_result"
    }
   ],
   "source": [
    "l"
   ]
  },
  {
   "cell_type": "code",
   "execution_count": 11,
   "id": "8e035e40-3d1a-46c0-b22a-39c96db15db2",
   "metadata": {},
   "outputs": [
    {
     "name": "stdout",
     "output_type": "stream",
     "text": [
      "[89, 3.14, 'machine', 98.34, 100, 'python', 77]\n"
     ]
    }
   ],
   "source": [
    "l[0]=89\n",
    "print(l)"
   ]
  },
  {
   "cell_type": "markdown",
   "id": "b0885bcf-059c-4555-a0a5-f52664d46b12",
   "metadata": {},
   "source": [
    "# change range of items"
   ]
  },
  {
   "cell_type": "code",
   "execution_count": 12,
   "id": "55a4f28c-2c74-4d07-be1c-fbd421d33042",
   "metadata": {},
   "outputs": [
    {
     "name": "stdout",
     "output_type": "stream",
     "text": [
      "[89, 3.14, 'machine', 98.34, 100, 'python', 77]\n"
     ]
    }
   ],
   "source": [
    "print(l)"
   ]
  },
  {
   "cell_type": "code",
   "execution_count": 14,
   "id": "aac16703-8758-41b7-8f15-e868ff16de2b",
   "metadata": {},
   "outputs": [
    {
     "name": "stdout",
     "output_type": "stream",
     "text": [
      "[89, 'artificial intelligent', 'Deep learning', 98.34, 100, 'python', 77]\n"
     ]
    }
   ],
   "source": [
    "l[1:3]=['artificial intelligent','Deep learning']\n",
    "print(l)"
   ]
  },
  {
   "cell_type": "markdown",
   "id": "b8687eca-475f-48e1-aae1-99318e29ee1a",
   "metadata": {},
   "source": [
    "# insert items"
   ]
  },
  {
   "cell_type": "markdown",
   "id": "7f9c2ecb-20eb-4573-829f-e18801512a33",
   "metadata": {},
   "source": [
    "to insert an new item without replacing any of the existing values, we can use the insert method()."
   ]
  },
  {
   "cell_type": "code",
   "execution_count": 15,
   "id": "06881ca9-0b5c-4908-970c-d980be8ecdd1",
   "metadata": {},
   "outputs": [
    {
     "data": {
      "text/plain": [
       "[89, 'artificial intelligent', 'Deep learning', 98.34, 100, 'python', 77]"
      ]
     },
     "execution_count": 15,
     "metadata": {},
     "output_type": "execute_result"
    }
   ],
   "source": [
    "l"
   ]
  },
  {
   "cell_type": "code",
   "execution_count": 24,
   "id": "16156ded-18b2-49dd-8d58-ac62ef6c1a85",
   "metadata": {},
   "outputs": [
    {
     "name": "stdout",
     "output_type": "stream",
     "text": [
      "[89, 'machine', 'machine', 'machine', 'machine', 'artificial intelligent', 'machine', 'machine', 'machine', 'machine', 'Deep learning', 98.34, 100, 'python', 77]\n"
     ]
    }
   ],
   "source": [
    "l.insert(1,\"machine\")\n",
    "print(l)"
   ]
  },
  {
   "cell_type": "markdown",
   "id": "da04cf21-78ef-4682-ae52-b9387cc093d5",
   "metadata": {},
   "source": [
    "# Append item"
   ]
  },
  {
   "cell_type": "markdown",
   "id": "f8523e0b-bf83-4e3b-85b9-725e934ca68c",
   "metadata": {},
   "source": [
    "to add an item to the end of the list, use append method()."
   ]
  },
  {
   "cell_type": "code",
   "execution_count": 29,
   "id": "2a10a316-0333-4ae7-a2ab-74da40698dea",
   "metadata": {},
   "outputs": [
    {
     "name": "stdout",
     "output_type": "stream",
     "text": [
      "[89, 'artificial intelligent', 'machine', 'Deep learning', 98.34, 100, 'python', 77]\n"
     ]
    }
   ],
   "source": [
    "l=[89, 'artificial intelligent','machine', 'Deep learning', 98.34, 100, 'python', 77]\n",
    "print(l)\n"
   ]
  },
  {
   "cell_type": "code",
   "execution_count": 30,
   "id": "00bd89ed-05f2-4d4a-92d1-f6e58252575b",
   "metadata": {},
   "outputs": [
    {
     "name": "stdout",
     "output_type": "stream",
     "text": [
      "[89, 'artificial intelligent', 'machine', 'Deep learning', 98.34, 100, 'python', 77, 'itronix']\n"
     ]
    }
   ],
   "source": [
    "l.append(\"itronix\")\n",
    "print(l)"
   ]
  },
  {
   "cell_type": "markdown",
   "id": "09702a58-0249-448e-bb71-fdc8b692a592",
   "metadata": {},
   "source": [
    "# remove specified items"
   ]
  },
  {
   "cell_type": "code",
   "execution_count": 33,
   "id": "8d12ba2a-48f8-4650-8cc7-e86a74bb57d9",
   "metadata": {},
   "outputs": [
    {
     "name": "stdout",
     "output_type": "stream",
     "text": [
      "[89, 'artificial intelligent', 'machine', 'Deep learning', 98.34, 100, 'python', 77, 'itronix']\n"
     ]
    }
   ],
   "source": [
    "print(l)"
   ]
  },
  {
   "cell_type": "code",
   "execution_count": 34,
   "id": "87646045-1668-4616-8543-2f0e6754b4fd",
   "metadata": {},
   "outputs": [
    {
     "name": "stdout",
     "output_type": "stream",
     "text": [
      "[89, 'artificial intelligent', 'machine', 'Deep learning', 98.34, 100, 77, 'itronix']\n"
     ]
    }
   ],
   "source": [
    "l.remove(\"python\")\n",
    "print(l)"
   ]
  },
  {
   "cell_type": "markdown",
   "id": "524d591d-badd-4991-bc01-6549a724511d",
   "metadata": {},
   "source": [
    "# remove specified index"
   ]
  },
  {
   "cell_type": "code",
   "execution_count": 35,
   "id": "c1a8a4af-5ab2-4cca-8b81-f3d026dc291a",
   "metadata": {},
   "outputs": [
    {
     "name": "stdout",
     "output_type": "stream",
     "text": [
      "[89, 'artificial intelligent', 'machine', 'Deep learning', 98.34, 100, 77, 'itronix']\n"
     ]
    }
   ],
   "source": [
    "print(l)"
   ]
  },
  {
   "cell_type": "code",
   "execution_count": 36,
   "id": "638797c9-86d9-40a1-b0ba-326b2aded8f5",
   "metadata": {},
   "outputs": [
    {
     "name": "stdout",
     "output_type": "stream",
     "text": [
      "[89, 'artificial intelligent', 'Deep learning', 98.34, 100, 77, 'itronix']\n"
     ]
    }
   ],
   "source": [
    "l.pop(2)\n",
    "print(l)"
   ]
  },
  {
   "cell_type": "markdown",
   "id": "444b1d4b-2cab-4c43-976d-fc6a1b46bc20",
   "metadata": {},
   "source": [
    "The de keyword  also ermove the specified index"
   ]
  },
  {
   "cell_type": "code",
   "execution_count": 37,
   "id": "7250abe5-4afb-49dd-a2c7-66f0f6180a2c",
   "metadata": {},
   "outputs": [
    {
     "name": "stdout",
     "output_type": "stream",
     "text": [
      "[89, 'artificial intelligent', 'Deep learning', 98.34, 100, 77, 'itronix']\n"
     ]
    }
   ],
   "source": [
    "print(l)"
   ]
  },
  {
   "cell_type": "code",
   "execution_count": 40,
   "id": "f40b73e2-20d3-481b-9616-c7e935609c94",
   "metadata": {},
   "outputs": [
    {
     "name": "stdout",
     "output_type": "stream",
     "text": [
      "[89, 'artificial intelligent', 'Deep learning', 98.34, 77, 'itronix']\n"
     ]
    }
   ],
   "source": [
    "del l[4]\n",
    "print(l)"
   ]
  },
  {
   "cell_type": "markdown",
   "id": "ff25a200-a905-45ba-98bc-f8da36b8dfb7",
   "metadata": {},
   "source": [
    "# clear the list"
   ]
  },
  {
   "cell_type": "markdown",
   "id": "d1e37f26-6b14-4846-a506-ae5381685986",
   "metadata": {},
   "source": [
    "* the clear() method empties the list."
   ]
  },
  {
   "cell_type": "code",
   "execution_count": 42,
   "id": "e1aac0f7-f931-4997-b862-a2994548bc49",
   "metadata": {},
   "outputs": [
    {
     "name": "stdout",
     "output_type": "stream",
     "text": [
      "[89, 'artificial intelligent', 'Deep learning', 98.34, 77, 'itronix']\n"
     ]
    }
   ],
   "source": [
    "print(l)"
   ]
  },
  {
   "cell_type": "code",
   "execution_count": 44,
   "id": "359881df-804b-4230-bc9f-b52107b857f4",
   "metadata": {},
   "outputs": [
    {
     "name": "stdout",
     "output_type": "stream",
     "text": [
      "[]\n"
     ]
    }
   ],
   "source": [
    "l.clear()\n",
    "print(l)"
   ]
  },
  {
   "cell_type": "markdown",
   "id": "c7715248-3208-4012-ac76-a2cf545dd86e",
   "metadata": {},
   "source": [
    "# loop through a list "
   ]
  },
  {
   "cell_type": "markdown",
   "id": "a894bc25-b0c4-4dc6-80f1-89a25a1cf2b0",
   "metadata": {},
   "source": [
    "* you can  loop through the list items by using a for loop:"
   ]
  },
  {
   "cell_type": "code",
   "execution_count": 48,
   "id": "43e8f028-ddb2-44c0-a73d-e8bcff13876c",
   "metadata": {},
   "outputs": [
    {
     "name": "stdout",
     "output_type": "stream",
     "text": [
      "89 artificial intelligent Deep learning 98.34 100 python 77 "
     ]
    }
   ],
   "source": [
    "l=[89, 'artificial intelligent', 'Deep learning', 98.34, 100, 'python', 77]\n",
    "for i in l:\n",
    "    print(i,end=\" \")\n"
   ]
  },
  {
   "cell_type": "code",
   "execution_count": 50,
   "id": "9c2cdeaa-957c-4eb7-8c7d-35bb5d223be8",
   "metadata": {},
   "outputs": [
    {
     "name": "stdout",
     "output_type": "stream",
     "text": [
      "89\n",
      "artificial intelligent\n",
      "Deep learning\n",
      "98.34\n",
      "100\n",
      "python\n",
      "77\n"
     ]
    }
   ],
   "source": [
    "# loop through the index numbers\n",
    "for i in range(len(l)):\n",
    "    print(l[i])"
   ]
  },
  {
   "cell_type": "code",
   "execution_count": 54,
   "id": "64d7c69e-7451-43a3-8379-fe3bee398f07",
   "metadata": {},
   "outputs": [
    {
     "name": "stdout",
     "output_type": "stream",
     "text": [
      "89\n",
      "artificial intelligent\n",
      "Deep learning\n",
      "98.34\n",
      "100\n",
      "python\n",
      "77\n"
     ]
    }
   ],
   "source": [
    "# print item using whle loop\n",
    "l=[89, 'artificial intelligent', 'Deep learning', 98.34, 100, 'python', 77]\n",
    "i=0\n",
    "while i < len(l) :\n",
    "     print(l[i])\n",
    "     i=i+1\n"
   ]
  },
  {
   "cell_type": "markdown",
   "id": "d457f87a-149b-4ada-b281-7d687c9149db",
   "metadata": {},
   "source": [
    "# find min and max number in list"
   ]
  },
  {
   "cell_type": "code",
   "execution_count": 56,
   "id": "cd37adaa-903c-4f43-b268-9598dbf16808",
   "metadata": {},
   "outputs": [
    {
     "name": "stdout",
     "output_type": "stream",
     "text": [
      "[10, 2, 30, 60]\n",
      "60\n",
      "2\n"
     ]
    }
   ],
   "source": [
    "l=[10,2,30,60]\n",
    "print(l)\n",
    "print(max(l))\n",
    "print(min(l))"
   ]
  },
  {
   "cell_type": "markdown",
   "id": "4029a873-01f1-4cc1-b4a0-0236324df86b",
   "metadata": {},
   "source": [
    "# sort List Alphanumerically"
   ]
  },
  {
   "cell_type": "code",
   "execution_count": 58,
   "id": "54598e46-456c-4457-9ab7-827552e5ec76",
   "metadata": {},
   "outputs": [
    {
     "name": "stdout",
     "output_type": "stream",
     "text": [
      "['apple', 'kiwi', 'mango', 'orange', 'papaya']\n"
     ]
    }
   ],
   "source": [
    "l=['orange' ,'mango','kiwi','papaya','apple']\n",
    "l.sort()\n",
    "print(l)"
   ]
  },
  {
   "cell_type": "code",
   "execution_count": 59,
   "id": "ed7114b2-1897-4948-83a3-98c3271bd8a8",
   "metadata": {},
   "outputs": [
    {
     "name": "stdout",
     "output_type": "stream",
     "text": [
      "[2, 10, 30, 60]\n"
     ]
    }
   ],
   "source": [
    "l=[10,2,30,60]\n",
    "l.sort()\n",
    "print(l)"
   ]
  },
  {
   "cell_type": "code",
   "execution_count": 60,
   "id": "34e3e776-8c77-4a61-bbcc-09f067bcd053",
   "metadata": {},
   "outputs": [
    {
     "name": "stdout",
     "output_type": "stream",
     "text": [
      "[60, 30, 10, 2]\n"
     ]
    }
   ],
   "source": [
    "# sort descending order\n",
    "l=l=[10,2,30,60]\n",
    "l.sort(reverse=True)\n",
    "print(l)"
   ]
  },
  {
   "cell_type": "markdown",
   "id": "85020c30-6dc8-4ee1-9b5f-01a98e8f97ea",
   "metadata": {},
   "source": [
    " * by default the sort() method is case sensitive, ersulting in all capital letters being sorted before lower case letters:\n",
    "according to ASCII value"
   ]
  },
  {
   "cell_type": "code",
   "execution_count": 61,
   "id": "d134c149-7943-435e-bd16-6bf79fd67776",
   "metadata": {},
   "outputs": [
    {
     "name": "stdout",
     "output_type": "stream",
     "text": [
      "['Orange', 'apple', 'kiwi', 'mango', 'papaya']\n"
     ]
    }
   ],
   "source": [
    "l=['Orange' ,'mango','kiwi','papaya','apple']\n",
    "l.sort()\n",
    "print(l)"
   ]
  },
  {
   "cell_type": "code",
   "execution_count": 2,
   "id": "cd3289b8-4b02-4e76-a143-f175ca87fa84",
   "metadata": {},
   "outputs": [
    {
     "name": "stdout",
     "output_type": "stream",
     "text": [
      "['Apple', 'kiwi', 'mango', 'Orange', 'papaya']\n",
      "NIDHI\n"
     ]
    }
   ],
   "source": [
    "l=['Orange' ,'mango','kiwi','papaya','Apple']\n",
    "l.sort(key=str.lower)\n",
    "print(l)\n"
   ]
  },
  {
   "cell_type": "markdown",
   "id": "ac5f10de-fb04-4f8c-af4e-cf4cc773e458",
   "metadata": {},
   "source": [
    "# reverse oreder"
   ]
  },
  {
   "cell_type": "code",
   "execution_count": 70,
   "id": "ef586858-680b-4b7c-8dc0-aa8669b553df",
   "metadata": {},
   "outputs": [
    {
     "name": "stdout",
     "output_type": "stream",
     "text": [
      "['Apple', 'papaya', 'kiwi', 'mango', 'Orange']\n"
     ]
    }
   ],
   "source": [
    "l=['Orange' ,'mango','kiwi','papaya','Apple']\n",
    "l.reverse()\n",
    "print(l)"
   ]
  },
  {
   "cell_type": "markdown",
   "id": "471bfb21-b1c5-4eae-973c-d6ff61fbc262",
   "metadata": {},
   "source": [
    "# List Comprehension\n",
    "* it's offers a shorter syntax when you want to create a new list based on the values of existing list."
   ]
  },
  {
   "cell_type": "code",
   "execution_count": 72,
   "id": "daa1b7ba-582a-46c4-85d6-6f48c70419c5",
   "metadata": {},
   "outputs": [
    {
     "name": "stdout",
     "output_type": "stream",
     "text": [
      "[1, 2, 3, 4, 5, 6, 7, 8, 9, 10]\n"
     ]
    }
   ],
   "source": [
    "l=[]\n",
    "for i in range(1,11):\n",
    "    l.append(i)\n",
    "print(l)"
   ]
  },
  {
   "cell_type": "markdown",
   "id": "d1fc40cc-e128-4ba3-992b-6c0fb91252e4",
   "metadata": {},
   "source": [
    "# using list comprehension\n",
    "* newlist= [expression of item in iterable]"
   ]
  },
  {
   "cell_type": "code",
   "execution_count": 3,
   "id": "db2da32e-65c6-4116-81a5-fbc386da6fbd",
   "metadata": {},
   "outputs": [
    {
     "name": "stdout",
     "output_type": "stream",
     "text": [
      "[1, 2, 3, 4, 5, 6, 7, 8, 9, 10]\n"
     ]
    }
   ],
   "source": [
    "l=[i for i in range(1,11)]\n",
    "print(l)"
   ]
  },
  {
   "cell_type": "markdown",
   "id": "dcf4296b-cea3-494f-9ff4-8a15255f9bc0",
   "metadata": {},
   "source": [
    "* newlist= [expression of item in iterable if condition== True]"
   ]
  },
  {
   "cell_type": "code",
   "execution_count": 5,
   "id": "a234b39b-2662-457b-a020-222e5b549319",
   "metadata": {},
   "outputs": [
    {
     "name": "stdout",
     "output_type": "stream",
     "text": [
      "[3, 6, 9, 12, 15, 18, 21, 24, 27, 30, 33, 36, 39, 42, 45, 48, 51, 54, 57, 60, 63, 66, 69, 72, 75, 78, 81, 84, 87, 90, 93, 96, 99, 102]\n"
     ]
    }
   ],
   "source": [
    "# store multiple of 3 from 1 to 100]\n",
    "l=[i for i in range(1,103) if i%3==0]\n",
    "print(l)"
   ]
  },
  {
   "cell_type": "code",
   "execution_count": 8,
   "id": "ecc2dc77-72cf-485e-ba35-28117eac81af",
   "metadata": {},
   "outputs": [
    {
     "name": "stdout",
     "output_type": "stream",
     "text": [
      "['Apple', 'Mango', 'Kiwi']\n",
      "['Apple', 'Orange', 'Kiwi']\n"
     ]
    }
   ],
   "source": [
    "l=['Apple' ,'Mango','Kiwi']\n",
    "l1=[x if x !='Mango' else'Orange' for x in l]\n",
    "print(l)\n",
    "print(l1)"
   ]
  },
  {
   "cell_type": "markdown",
   "id": "f4de446c-92c3-4d86-8623-3ec27fc8a530",
   "metadata": {},
   "source": [
    " # Looping  Using List Comprehension"
   ]
  },
  {
   "cell_type": "code",
   "execution_count": 9,
   "id": "3a4c2ea7-e834-4f9c-bb1c-c38ef696625a",
   "metadata": {},
   "outputs": [
    {
     "name": "stdout",
     "output_type": "stream",
     "text": [
      "10\n",
      "3.14\n",
      "machine learning\n",
      "98.34\n",
      "100\n",
      "python\n",
      "77\n"
     ]
    },
    {
     "data": {
      "text/plain": [
       "[None, None, None, None, None, None, None]"
      ]
     },
     "execution_count": 9,
     "metadata": {},
     "output_type": "execute_result"
    }
   ],
   "source": [
    "l=[10,3.14,'machine learning',98.34,100,'python',77]\n",
    "[print(x) for x in l]"
   ]
  },
  {
   "cell_type": "markdown",
   "id": "6b7b416d-0b0f-4bf4-879b-ef8514ae1da3",
   "metadata": {},
   "source": [
    "# Copy List\n",
    "* you can't copy a list simply by typing list2=list1, because : list2 will only be a refrence\n",
    "to list1, and changes made in list1 will automatically also be made in list2\n",
    "there are way to use the built -in list method copy()"
   ]
  },
  {
   "cell_type": "code",
   "execution_count": 15,
   "id": "5caa038e-6f68-439b-9e0f-87455fdd927c",
   "metadata": {},
   "outputs": [
    {
     "name": "stdout",
     "output_type": "stream",
     "text": [
      "l2= [1, 3, 9]\n",
      "[1, 4, 9]\n",
      "[1, 4, 9]\n"
     ]
    }
   ],
   "source": [
    "l1=[1,3,9]\n",
    "l2=l1\n",
    "print('l2=',l2)\n",
    "l1[1]=4\n",
    "print(l1)\n",
    "print(l2)"
   ]
  },
  {
   "cell_type": "code",
   "execution_count": 13,
   "id": "b6a55268-0fbd-49ac-90a6-41edc2c0dab5",
   "metadata": {},
   "outputs": [
    {
     "name": "stdout",
     "output_type": "stream",
     "text": [
      "[1, 3, 9]\n"
     ]
    }
   ],
   "source": [
    "l2=l1.copy()\n",
    "print(l2)"
   ]
  },
  {
   "cell_type": "code",
   "execution_count": 14,
   "id": "bf346c1e-ec36-4ab0-9346-a10d820af227",
   "metadata": {},
   "outputs": [
    {
     "name": "stdout",
     "output_type": "stream",
     "text": [
      "[1, 4, 9]\n",
      "[1, 3, 9]\n"
     ]
    }
   ],
   "source": [
    "l1[1]=4\n",
    "print(l1)\n",
    "print(l2)"
   ]
  },
  {
   "cell_type": "code",
   "execution_count": 21,
   "id": "c37cdf2e-1b01-4106-b81c-07bbd6b0f734",
   "metadata": {},
   "outputs": [
    {
     "name": "stdout",
     "output_type": "stream",
     "text": [
      "[1, 2, 3]\n"
     ]
    }
   ],
   "source": [
    "\n",
    "l1=[1,2,3]\n",
    "l2=list(l1)\n",
    "print(l2)"
   ]
  },
  {
   "cell_type": "code",
   "execution_count": 22,
   "id": "9eb22595-07f9-411b-b66a-be4d4bcc6cc5",
   "metadata": {},
   "outputs": [
    {
     "name": "stdout",
     "output_type": "stream",
     "text": [
      "[1, 4, 3]\n",
      "[1, 2, 3]\n"
     ]
    }
   ],
   "source": [
    "l1[1]=4\n",
    "print(l1)\n",
    "print(l2)"
   ]
  },
  {
   "cell_type": "markdown",
   "id": "37c921ee-b8bc-4cd7-bc2f-1e06aedf9416",
   "metadata": {},
   "source": [
    "* Join Two List"
   ]
  },
  {
   "cell_type": "code",
   "execution_count": 30,
   "id": "011e59ec-78ca-4a0b-b7ae-147f37792dce",
   "metadata": {},
   "outputs": [
    {
     "name": "stdout",
     "output_type": "stream",
     "text": [
      "[1, 2, 3, 1, 3, 5]\n"
     ]
    }
   ],
   "source": [
    "l1=[1,2,3]\n",
    "l2=[1,3,5]\n",
    "L3=l1+l2\n",
    "print(L3)"
   ]
  },
  {
   "cell_type": "code",
   "execution_count": 31,
   "id": "0b470f36-8c3c-4dc1-abba-5226c7321cce",
   "metadata": {},
   "outputs": [
    {
     "name": "stdout",
     "output_type": "stream",
     "text": [
      "[1, 2, 3, 1, 3, 5]\n"
     ]
    }
   ],
   "source": [
    "l1=[1,2,3]\n",
    "l2=[1,3,5]\n",
    "for i in l2:\n",
    "    l1.append(i)\n",
    "print(l1)"
   ]
  },
  {
   "cell_type": "code",
   "execution_count": 34,
   "id": "a3f3fe91-f830-48d8-945d-141461f5b32a",
   "metadata": {},
   "outputs": [
    {
     "name": "stdout",
     "output_type": "stream",
     "text": [
      "[1, 2, 3, 1, 3, 5]\n"
     ]
    }
   ],
   "source": [
    "l1=[1,2,3]\n",
    "l2=[1,3,5]\n",
    "l1.extend(l2)\n",
    "print(l1)"
   ]
  },
  {
   "cell_type": "markdown",
   "id": "76ba98b0-b9d6-425d-911c-4aaf0c82b707",
   "metadata": {},
   "source": [
    "* count item in list"
   ]
  },
  {
   "cell_type": "code",
   "execution_count": 46,
   "id": "6fd1e40c-7f90-49dc-a7fb-02ebbdae00ce",
   "metadata": {},
   "outputs": [
    {
     "name": "stdout",
     "output_type": "stream",
     "text": [
      "3\n"
     ]
    }
   ],
   "source": [
    "l=[10,20,30,79,30,30,10]\n",
    "print(l.count(30))"
   ]
  },
  {
   "cell_type": "markdown",
   "id": "87986484-be11-43b2-9192-e54a8b2b7083",
   "metadata": {},
   "source": [
    "# convert tuple to list\n"
   ]
  },
  {
   "cell_type": "code",
   "execution_count": 48,
   "id": "302fef37-8b95-48db-92e5-de8ac18ca785",
   "metadata": {},
   "outputs": [
    {
     "name": "stdout",
     "output_type": "stream",
     "text": [
      "[2, 7, 7, 6, 9]\n"
     ]
    }
   ],
   "source": [
    "9t=(2,7,7,6,9)\n",
    "l= list(t)\n",
    "print(l)"
   ]
  },
  {
   "cell_type": "code",
   "execution_count": 51,
   "id": "ea84fd4a-601e-4f21-8d5c-fb653850519b",
   "metadata": {},
   "outputs": [
    {
     "name": "stdout",
     "output_type": "stream",
     "text": [
      "<class 'list'>\n",
      "<class 'tuple'>\n"
     ]
    }
   ],
   "source": [
    "print(type(l))\n",
    "print(type(t))"
   ]
  },
  {
   "cell_type": "markdown",
   "id": "b20ae39a-48d8-4839-af64-bbd83a38b7ad",
   "metadata": {},
   "source": [
    "# remove duplicate item from list using set()"
   ]
  },
  {
   "cell_type": "code",
   "execution_count": 52,
   "id": "c1142b76-aae4-4461-b7fc-a90d4b349e17",
   "metadata": {},
   "outputs": [
    {
     "data": {
      "text/plain": [
       "[2, 7, 7, 6, 9]"
      ]
     },
     "execution_count": 52,
     "metadata": {},
     "output_type": "execute_result"
    }
   ],
   "source": [
    "l"
   ]
  },
  {
   "cell_type": "code",
   "execution_count": 53,
   "id": "f1eb3e29-0132-41de-8c1e-017a8b211b82",
   "metadata": {},
   "outputs": [
    {
     "name": "stdout",
     "output_type": "stream",
     "text": [
      "{9, 2, 6, 7}\n"
     ]
    }
   ],
   "source": [
    "l1=set(l)\n",
    "print(l1)"
   ]
  },
  {
   "cell_type": "code",
   "execution_count": 54,
   "id": "8fadb96d-4e62-4e10-a7c9-a7e729206dad",
   "metadata": {},
   "outputs": [
    {
     "name": "stdout",
     "output_type": "stream",
     "text": [
      "[9, 2, 6, 7]\n"
     ]
    }
   ],
   "source": [
    "l2=list(l1)\n",
    "print(l2)"
   ]
  },
  {
   "cell_type": "markdown",
   "id": "b60afb28-d623-4a4a-a853-3e4eadbac884",
   "metadata": {},
   "source": [
    "* multidiemention list"
   ]
  },
  {
   "cell_type": "code",
   "execution_count": 55,
   "id": "bb13ff87-11f6-42be-9b56-30923b35b07d",
   "metadata": {},
   "outputs": [
    {
     "name": "stdout",
     "output_type": "stream",
     "text": [
      "[[1, 2, 3], [4, 5, 6], [6, 7, 8]]\n"
     ]
    }
   ],
   "source": [
    "l=[[1,2,3],[4,5,6],[6,7,8]]\n",
    "print(l)"
   ]
  },
  {
   "cell_type": "code",
   "execution_count": 57,
   "id": "41f12b62-dc7c-4584-af27-268a6d80958d",
   "metadata": {},
   "outputs": [
    {
     "name": "stdout",
     "output_type": "stream",
     "text": [
      "[1, 2, 3]\n",
      "[4, 5, 6]\n",
      "[6, 7, 8]\n"
     ]
    }
   ],
   "source": [
    "print(l[0])\n",
    "print(l[1])\n",
    "print(l[2])"
   ]
  },
  {
   "cell_type": "code",
   "execution_count": 58,
   "id": "e7ef5409-71d7-4702-803c-e9cbab3e6fd0",
   "metadata": {},
   "outputs": [
    {
     "name": "stdout",
     "output_type": "stream",
     "text": [
      "1\n",
      "6\n",
      "7\n"
     ]
    }
   ],
   "source": [
    "print(l[0][0])\n",
    "print(l[1][2])\n",
    "print(l[2][1])"
   ]
  },
  {
   "cell_type": "markdown",
   "id": "d52f2642-9b54-47e6-8f84-a83bd54a7dc8",
   "metadata": {},
   "source": [
    "* iterate 2-D list"
   ]
  },
  {
   "cell_type": "code",
   "execution_count": 60,
   "id": "d3d74cc8-2449-459c-9a48-6b23366ba43f",
   "metadata": {},
   "outputs": [
    {
     "name": "stdout",
     "output_type": "stream",
     "text": [
      "1 2 3 \n",
      "4 5 6 \n",
      "6 7 8 \n"
     ]
    }
   ],
   "source": [
    "l\n",
    "for row in l:\n",
    "    for col in row:\n",
    "        print(col,end=' ')\n",
    "    print()"
   ]
  },
  {
   "cell_type": "markdown",
   "id": "02c06bc8-f8fa-4b6e-895d-b7ec2b117ad0",
   "metadata": {},
   "source": [
    "# create 1-D Array"
   ]
  },
  {
   "cell_type": "code",
   "execution_count": 61,
   "id": "6242787d-c792-4844-bc16-98912781b07b",
   "metadata": {},
   "outputs": [
    {
     "name": "stdout",
     "output_type": "stream",
     "text": [
      "[0, 0, 0, 0, 0]\n"
     ]
    }
   ],
   "source": [
    "N=5\n",
    "arr=[0]*N\n",
    "print(arr)"
   ]
  },
  {
   "cell_type": "code",
   "execution_count": 62,
   "id": "570f57e4-9bc5-4d48-bd70-3b469a7b2931",
   "metadata": {},
   "outputs": [
    {
     "name": "stdout",
     "output_type": "stream",
     "text": [
      "[0, 0, 0, 0, 0]\n"
     ]
    }
   ],
   "source": [
    "# second method\n",
    "N=5\n",
    "arr==[0 for i in range(N)]\n",
    "print(arr)"
   ]
  },
  {
   "cell_type": "markdown",
   "id": "48f626c5-db0b-46a2-a689-33513324162c",
   "metadata": {},
   "source": [
    "# create 2-D Array"
   ]
  },
  {
   "cell_type": "code",
   "execution_count": 64,
   "id": "cd620883-d548-4377-96c0-1e850eb56210",
   "metadata": {},
   "outputs": [
    {
     "name": "stdout",
     "output_type": "stream",
     "text": [
      "[[0, 0, 0, 0, 0], [0, 0, 0, 0, 0], [0, 0, 0, 0, 0], [0, 0, 0, 0, 0], [0, 0, 0, 0, 0]]\n"
     ]
    }
   ],
   "source": [
    "row,col=(5,5)\n",
    "arr=[[0]*col]*row\n",
    "print(arr)"
   ]
  },
  {
   "cell_type": "code",
   "execution_count": 65,
   "id": "4d5aad2a-f04f-4111-97c2-4b5fff1bd95e",
   "metadata": {},
   "outputs": [
    {
     "name": "stdout",
     "output_type": "stream",
     "text": [
      "[[0, 0, 0, 0], [0, 0, 0, 0], [0, 0, 0, 0], [0, 0, 0, 0]]\n"
     ]
    }
   ],
   "source": [
    "row,col=(4,4)\n",
    "arr=[[0 for i in range(col)]for j in range(row)]\n",
    "print(arr)"
   ]
  },
  {
   "cell_type": "markdown",
   "id": "379939a7-fb39-471f-a9b6-6581c266a8e0",
   "metadata": {},
   "source": [
    "* adding sublistusing append method()"
   ]
  },
  {
   "cell_type": "code",
   "execution_count": 66,
   "id": "87d002b4-56cc-4994-85af-84f644a8ac07",
   "metadata": {},
   "outputs": [
    {
     "name": "stdout",
     "output_type": "stream",
     "text": [
      "[[2, 4, 7], [5, 7, 9], [3, 5, 7]]\n"
     ]
    }
   ],
   "source": [
    "a=[[2,4,7],[5,7,9]]\n",
    "a.append([3,5,7])\n",
    "print(a)"
   ]
  },
  {
   "cell_type": "code",
   "execution_count": 67,
   "id": "5261e72b-6188-4220-a196-262fe11a8581",
   "metadata": {},
   "outputs": [
    {
     "name": "stdout",
     "output_type": "stream",
     "text": [
      "[[2, 4, 7, 3, 5, 7], [5, 7, 9], [3, 5, 7]]\n"
     ]
    }
   ],
   "source": [
    "a[0].extend([3,5,7])\n",
    "print(a)"
   ]
  },
  {
   "cell_type": "code",
   "execution_count": 68,
   "id": "bb88e9e9-8dec-4e83-8cef-0f0a4a2c26c0",
   "metadata": {},
   "outputs": [
    {
     "name": "stdout",
     "output_type": "stream",
     "text": [
      "[[2, 4, 7, 3, 5, 7], [5, 7, 9], [7, 5, 3]]\n"
     ]
    }
   ],
   "source": [
    "a[2].reverse()\n",
    "print(a)"
   ]
  },
  {
   "cell_type": "code",
   "execution_count": null,
   "id": "f874154b-2338-4425-a1c8-a168c0e1827c",
   "metadata": {},
   "outputs": [],
   "source": []
  }
 ],
 "metadata": {
  "kernelspec": {
   "display_name": "Python 3 (ipykernel)",
   "language": "python",
   "name": "python3"
  },
  "language_info": {
   "codemirror_mode": {
    "name": "ipython",
    "version": 3
   },
   "file_extension": ".py",
   "mimetype": "text/x-python",
   "name": "python",
   "nbconvert_exporter": "python",
   "pygments_lexer": "ipython3",
   "version": "3.11.7"
  }
 },
 "nbformat": 4,
 "nbformat_minor": 5
}
