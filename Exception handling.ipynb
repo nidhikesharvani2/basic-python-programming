{
 "cells": [
  {
   "cell_type": "markdown",
   "id": "9f70f739-b5a2-42cf-b064-21ce35ff283a",
   "metadata": {},
   "source": [
    "# python- Exceptions Handling\n",
    "python provides very important features to handle nay unexpected error in your python programs and to add debugging capabilities them-"
   ]
  },
  {
   "cell_type": "markdown",
   "id": "dfaefb99-e860-4c07-9d40-4ca9f221e41f",
   "metadata": {},
   "source": [
    "# Here is a list all the standard Exceptions available in python-"
   ]
  },
  {
   "cell_type": "markdown",
   "id": "87a904a3-591e-4bdd-9c26-6c849b72b0a2",
   "metadata": {},
   "source": [
    " 1:Exception\n",
    " * Base class for all exceptions.\n",
    "2: stopiteration:\n",
    "* Raised when the next() method of an itretor does not point to any object.\n",
    "  3: SystemExit:\n",
    "* Raised by the sys.exit() function.\n",
    "  4: StandardError:\n",
    "  * base class for all built-in exceptions except stopiteration and SystemExit.\n",
    "  * and some others errors"
   ]
  },
  {
   "cell_type": "markdown",
   "id": "b2ae83e7-e0cc-44f6-9825-73476b7479c8",
   "metadata": {},
   "source": [
    "# what is Exception:"
   ]
  },
  {
   "cell_type": "markdown",
   "id": "89756439-f181-496b-bf18-2c61132ed2d9",
   "metadata": {},
   "source": [
    "an exception is an event, which occurs during the execution of a program that distrupt the normal flow  of the program's instructions.\n",
    "in general an exception is a pythhon object that represents an Error"
   ]
  },
  {
   "cell_type": "markdown",
   "id": "ca4b3532-4ffe-451e-ba50-b0b27387deb1",
   "metadata": {},
   "source": [
    "1: FILE not found Error"
   ]
  },
  {
   "cell_type": "code",
   "execution_count": 2,
   "id": "49d2f81b-4d8e-4c13-9757-5a3e30cc7791",
   "metadata": {},
   "outputs": [
    {
     "ename": "FileNotFoundError",
     "evalue": "[Errno 2] No such file or directory: 'machinelearning.txt'",
     "output_type": "error",
     "traceback": [
      "\u001b[1;31m---------------------------------------------------------------------------\u001b[0m",
      "\u001b[1;31mFileNotFoundError\u001b[0m                         Traceback (most recent call last)",
      "Cell \u001b[1;32mIn[2], line 1\u001b[0m\n\u001b[1;32m----> 1\u001b[0m fo\u001b[38;5;241m=\u001b[39m\u001b[38;5;28mopen\u001b[39m(\u001b[38;5;124m\"\u001b[39m\u001b[38;5;124mmachinelearning.txt\u001b[39m\u001b[38;5;124m\"\u001b[39m,\u001b[38;5;124m'\u001b[39m\u001b[38;5;124mr\u001b[39m\u001b[38;5;124m'\u001b[39m)\n",
      "File \u001b[1;32mC:\\Anaconda\\Lib\\site-packages\\IPython\\core\\interactiveshell.py:310\u001b[0m, in \u001b[0;36m_modified_open\u001b[1;34m(file, *args, **kwargs)\u001b[0m\n\u001b[0;32m    303\u001b[0m \u001b[38;5;28;01mif\u001b[39;00m file \u001b[38;5;129;01min\u001b[39;00m {\u001b[38;5;241m0\u001b[39m, \u001b[38;5;241m1\u001b[39m, \u001b[38;5;241m2\u001b[39m}:\n\u001b[0;32m    304\u001b[0m     \u001b[38;5;28;01mraise\u001b[39;00m \u001b[38;5;167;01mValueError\u001b[39;00m(\n\u001b[0;32m    305\u001b[0m         \u001b[38;5;124mf\u001b[39m\u001b[38;5;124m\"\u001b[39m\u001b[38;5;124mIPython won\u001b[39m\u001b[38;5;124m'\u001b[39m\u001b[38;5;124mt let you open fd=\u001b[39m\u001b[38;5;132;01m{\u001b[39;00mfile\u001b[38;5;132;01m}\u001b[39;00m\u001b[38;5;124m by default \u001b[39m\u001b[38;5;124m\"\u001b[39m\n\u001b[0;32m    306\u001b[0m         \u001b[38;5;124m\"\u001b[39m\u001b[38;5;124mas it is likely to crash IPython. If you know what you are doing, \u001b[39m\u001b[38;5;124m\"\u001b[39m\n\u001b[0;32m    307\u001b[0m         \u001b[38;5;124m\"\u001b[39m\u001b[38;5;124myou can use builtins\u001b[39m\u001b[38;5;124m'\u001b[39m\u001b[38;5;124m open.\u001b[39m\u001b[38;5;124m\"\u001b[39m\n\u001b[0;32m    308\u001b[0m     )\n\u001b[1;32m--> 310\u001b[0m \u001b[38;5;28;01mreturn\u001b[39;00m io_open(file, \u001b[38;5;241m*\u001b[39margs, \u001b[38;5;241m*\u001b[39m\u001b[38;5;241m*\u001b[39mkwargs)\n",
      "\u001b[1;31mFileNotFoundError\u001b[0m: [Errno 2] No such file or directory: 'machinelearning.txt'"
     ]
    }
   ],
   "source": [
    "fo=open(\"machinelearning.txt\",'r')"
   ]
  },
  {
   "cell_type": "code",
   "execution_count": 3,
   "id": "1c5fed4a-8050-49f4-8141-9dca3dc97b02",
   "metadata": {},
   "outputs": [
    {
     "name": "stdout",
     "output_type": "stream",
     "text": [
      "File Not Found\n"
     ]
    }
   ],
   "source": [
    "try:\n",
    "    fo=open(\"machinelearning\",'r')\n",
    "\n",
    "except FileNotFoundError:\n",
    "    print(\"File Not Found\")"
   ]
  },
  {
   "cell_type": "markdown",
   "id": "c418aff4-101b-4cd1-b68d-a115c2384128",
   "metadata": {},
   "source": [
    "# 2: ZeroDivisionError"
   ]
  },
  {
   "cell_type": "code",
   "execution_count": 4,
   "id": "da03d7e5-c899-45cd-9b5a-0b387064ac13",
   "metadata": {},
   "outputs": [
    {
     "ename": "ZeroDivisionError",
     "evalue": "division by zero",
     "output_type": "error",
     "traceback": [
      "\u001b[1;31m---------------------------------------------------------------------------\u001b[0m",
      "\u001b[1;31mZeroDivisionError\u001b[0m                         Traceback (most recent call last)",
      "Cell \u001b[1;32mIn[4], line 1\u001b[0m\n\u001b[1;32m----> 1\u001b[0m \u001b[38;5;241m3\u001b[39m\u001b[38;5;241m/\u001b[39m\u001b[38;5;241m0\u001b[39m\n",
      "\u001b[1;31mZeroDivisionError\u001b[0m: division by zero"
     ]
    }
   ],
   "source": [
    "3/0"
   ]
  },
  {
   "cell_type": "code",
   "execution_count": 5,
   "id": "9a58f4d1-debb-440d-87a8-efff44074fb1",
   "metadata": {},
   "outputs": [
    {
     "name": "stdout",
     "output_type": "stream",
     "text": [
      "number can't divisible by zero\n"
     ]
    }
   ],
   "source": [
    "try:\n",
    "    3/0\n",
    "\n",
    "except ZeroDivisionError:\n",
    "    print(\"number can't divisible by zero\")"
   ]
  },
  {
   "cell_type": "markdown",
   "id": "5e634b7b-b2ec-4de7-bbcd-d811505f5e17",
   "metadata": {},
   "source": [
    "# 3. ModuleNotFoundError"
   ]
  },
  {
   "cell_type": "code",
   "execution_count": 6,
   "id": "7c858832-8f49-4558-8964-347ecfb2f403",
   "metadata": {},
   "outputs": [
    {
     "ename": "ModuleNotFoundError",
     "evalue": "No module named 'machinelearning'",
     "output_type": "error",
     "traceback": [
      "\u001b[1;31m---------------------------------------------------------------------------\u001b[0m",
      "\u001b[1;31mModuleNotFoundError\u001b[0m                       Traceback (most recent call last)",
      "Cell \u001b[1;32mIn[6], line 1\u001b[0m\n\u001b[1;32m----> 1\u001b[0m \u001b[38;5;28;01mimport\u001b[39;00m \u001b[38;5;21;01mmachinelearning\u001b[39;00m\n",
      "\u001b[1;31mModuleNotFoundError\u001b[0m: No module named 'machinelearning'"
     ]
    }
   ],
   "source": [
    "import machinelearning"
   ]
  },
  {
   "cell_type": "code",
   "execution_count": 8,
   "id": "72134a8b-8102-42ba-9764-d63130b1eab7",
   "metadata": {},
   "outputs": [
    {
     "name": "stdout",
     "output_type": "stream",
     "text": [
      "Module  not Found\n"
     ]
    }
   ],
   "source": [
    "try:\n",
    "    import machinelearning\n",
    "\n",
    "except ModuleNotFoundError:\n",
    "    print(\"Module  not Found\")"
   ]
  },
  {
   "cell_type": "markdown",
   "id": "38bca8bb-3723-4810-ae65-c73a1b54fa8a",
   "metadata": {},
   "source": [
    "# handle multiple Exceptions"
   ]
  },
  {
   "cell_type": "code",
   "execution_count": 9,
   "id": "f16837a6-f152-4293-88c2-17a9be0276ef",
   "metadata": {},
   "outputs": [
    {
     "name": "stdout",
     "output_type": "stream",
     "text": [
      "Module not found\n"
     ]
    }
   ],
   "source": [
    "try:\n",
    "    import machinelearning\n",
    "\n",
    "except FileNotFoundError:\n",
    "    print(\"file not found\")\n",
    "\n",
    "except ModuleNotFoundError:\n",
    "    print(\"Module not found\")\n",
    "\n",
    "except ZeroDivisionError:\n",
    "    print(\"no. can't divisible by zero\")"
   ]
  },
  {
   "cell_type": "code",
   "execution_count": 10,
   "id": "657a557a-af4a-4baf-8552-c678fd5fd5e1",
   "metadata": {},
   "outputs": [
    {
     "name": "stdout",
     "output_type": "stream",
     "text": [
      "no. can't divisible by zero\n"
     ]
    }
   ],
   "source": [
    "try:\n",
    "    import random as r\n",
    "    import time\n",
    "    n=20/0\n",
    "\n",
    "except FileNotFoundError:\n",
    "    print(\"file not found\")\n",
    "\n",
    "except ModuleNotFoundError:\n",
    "    print(\"Module not found\")\n",
    "\n",
    "except ZeroDivisionError:\n",
    "    print(\"no. can't divisible by zero\")\n",
    "    "
   ]
  },
  {
   "cell_type": "code",
   "execution_count": 11,
   "id": "2d730aaf-6ecd-4e1b-b99a-bc8d317dc112",
   "metadata": {},
   "outputs": [
    {
     "name": "stdout",
     "output_type": "stream",
     "text": [
      "file not found\n"
     ]
    }
   ],
   "source": [
    "try:\n",
    "    import random as r\n",
    "    import time\n",
    "    n=20/5\n",
    "    open(\"hello.txt\",'r')\n",
    "\n",
    "except FileNotFoundError:\n",
    "    print(\"file not found\")\n",
    "\n",
    "except ModuleNotFoundError:\n",
    "    print(\"Module not found\")\n",
    "\n",
    "except ZeroDivisionError:\n",
    "    print(\"no. can't divisible by zero\")\n",
    "    "
   ]
  },
  {
   "cell_type": "markdown",
   "id": "c3d78a08-4d7f-473c-a679-bd3e5754ca0a",
   "metadata": {},
   "source": [
    "# if No Exception Found"
   ]
  },
  {
   "cell_type": "code",
   "execution_count": 13,
   "id": "9d679877-884b-4b19-bc5b-6b03ab8665db",
   "metadata": {},
   "outputs": [
    {
     "name": "stdout",
     "output_type": "stream",
     "text": [
      "no exception found\n"
     ]
    }
   ],
   "source": [
    "try:\n",
    "    import random as r\n",
    "    import time\n",
    "    n=20/5\n",
    "    open(\"hello.txt\",'w')\n",
    "\n",
    "except FileNotFoundError:\n",
    "    print(\"file not found\")\n",
    "\n",
    "except ModuleNotFoundError:\n",
    "    print(\"Module not found\")\n",
    "\n",
    "except ZeroDivisionError:\n",
    "    print(\"no. can't divisible by zero\")\n",
    "\n",
    "else:\n",
    "    print(\"no exception found\")\n",
    "    "
   ]
  },
  {
   "cell_type": "code",
   "execution_count": null,
   "id": "27977a81-32d4-4bfa-9938-667fa6bba994",
   "metadata": {},
   "outputs": [],
   "source": []
  }
 ],
 "metadata": {
  "kernelspec": {
   "display_name": "Python 3 (ipykernel)",
   "language": "python",
   "name": "python3"
  },
  "language_info": {
   "codemirror_mode": {
    "name": "ipython",
    "version": 3
   },
   "file_extension": ".py",
   "mimetype": "text/x-python",
   "name": "python",
   "nbconvert_exporter": "python",
   "pygments_lexer": "ipython3",
   "version": "3.11.7"
  }
 },
 "nbformat": 4,
 "nbformat_minor": 5
}
