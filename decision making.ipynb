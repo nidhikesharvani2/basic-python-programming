{
 "cells": [
  {
   "cell_type": "code",
   "execution_count": 7,
   "id": "948890a7-3861-43bd-b4de-0fb26c09f3a3",
   "metadata": {},
   "outputs": [
    {
     "name": "stdout",
     "output_type": "stream",
     "text": [
      "hello\n"
     ]
    }
   ],
   "source": [
    "# using if statement\n",
    "if  10:\n",
    "    print(\"hello\")\n"
   ]
  },
  {
   "cell_type": "code",
   "execution_count": 8,
   "id": "6dfac03d-86f1-46f2-9c05-8f4a0f69aac2",
   "metadata": {},
   "outputs": [
    {
     "name": "stdout",
     "output_type": "stream",
     "text": [
      "hello\n"
     ]
    }
   ],
   "source": [
    "if -10:\n",
    "    print(\"hello\")"
   ]
  },
  {
   "cell_type": "code",
   "execution_count": 11,
   "id": "902a1d7a-2757-4b4a-8d81-07e31a00fcce",
   "metadata": {},
   "outputs": [
    {
     "name": "stdout",
     "output_type": "stream",
     "text": [
      "Bye\n"
     ]
    }
   ],
   "source": [
    "if 0:\n",
    "    print(\"hello\")\n",
    "else:\n",
    "    print(\"Bye\")\n"
   ]
  },
  {
   "cell_type": "code",
   "execution_count": 13,
   "id": "bab643c8-a1f5-455f-9387-7fdceebc5530",
   "metadata": {},
   "outputs": [
    {
     "name": "stdout",
     "output_type": "stream",
     "text": [
      "a is greater than b\n"
     ]
    }
   ],
   "source": [
    "# using if else statement\n",
    "a=40\n",
    "b=20\n",
    "if(a<b):\n",
    "    print(\"a is smaller than b\")\n",
    "else:\n",
    "    print(\"a is greater than b\")\n"
   ]
  },
  {
   "cell_type": "code",
   "execution_count": 16,
   "id": "f8f6a85d-97ce-4e0c-81bd-c0820508bec7",
   "metadata": {},
   "outputs": [
    {
     "name": "stdin",
     "output_type": "stream",
     "text": [
      "a= 24\n",
      "b= 12\n"
     ]
    },
    {
     "name": "stdout",
     "output_type": "stream",
     "text": [
      "12 is smaller\n"
     ]
    }
   ],
   "source": [
    "a=int(input(\"a=\"))\n",
    "b=int(input(\"b=\"))\n",
    "if(a<b):\n",
    "    print(a,\"is smaller\")\n",
    "else:\n",
    "    print(b,\"is smaller\")\n",
    "    "
   ]
  },
  {
   "cell_type": "code",
   "execution_count": 20,
   "id": "8325925e-b799-44dc-9122-d2341419189d",
   "metadata": {},
   "outputs": [
    {
     "name": "stdout",
     "output_type": "stream",
     "text": [
      "Hello\n",
      "Hi\n",
      "By\n"
     ]
    }
   ],
   "source": [
    "# multiple if Statement: here all the true conditions are executed\n",
    "a=10\n",
    "b=20\n",
    "if(a<b):\n",
    "    print(\"Hello\")\n",
    "if(b>a):\n",
    "    print(\"Hi\")\n",
    "if(a!=b):\n",
    "    print(\"By\")"
   ]
  },
  {
   "cell_type": "markdown",
   "id": "e0673172-9114-47a4-a472-6c60dbd81529",
   "metadata": {},
   "source": [
    "if-elif statement "
   ]
  },
  {
   "cell_type": "code",
   "execution_count": 23,
   "id": "161d48e5-28b4-406a-a9d7-e20fb3e70047",
   "metadata": {},
   "outputs": [
    {
     "name": "stdout",
     "output_type": "stream",
     "text": [
      "hello\n"
     ]
    }
   ],
   "source": [
    "a=10\n",
    "b=20\n",
    "if(a<b):\n",
    "    print(\"hello\")\n",
    "elif(b>a):\n",
    "    print(\"hi\")\n",
    "elif(a!=b):\n",
    "    print(\"bye\")\n",
    "else:\n",
    "    print(\"I am optional\")\n"
   ]
  },
  {
   "cell_type": "markdown",
   "id": "1752459c-1fee-4097-8e2e-fd0acae74f28",
   "metadata": {},
   "source": [
    "NESTED if-else statement"
   ]
  },
  {
   "cell_type": "code",
   "execution_count": 27,
   "id": "92569996-ff5a-4abf-a389-5f18db3237d6",
   "metadata": {},
   "outputs": [
    {
     "name": "stdout",
     "output_type": "stream",
     "text": [
      "20 is  greater\n",
      "20 is positive\n"
     ]
    }
   ],
   "source": [
    "a=10\n",
    "b=20\n",
    "if(a>b):\n",
    "    print(a,\"is greater\")\n",
    "    if(a>0):\n",
    "        print(a,\"is positive\")\n",
    "    else:\n",
    "        print(a,\"a is negative\" )  \n",
    "else:\n",
    "    print(b,\"is  greater\")\n",
    "    if(b>0):\n",
    "        print(b,\"is positive\")\n",
    "    else:\n",
    "        print(b,\"is negative\")\n",
    "\n"
   ]
  },
  {
   "cell_type": "markdown",
   "id": "fce517d5-97c0-43bf-92d8-10e9c357fc33",
   "metadata": {},
   "source": [
    "SHORT HAND-if:\n",
    "only one statement are execute,one for and one for elseand you can put same line"
   ]
  },
  {
   "cell_type": "code",
   "execution_count": 28,
   "id": "b0ac0905-af78-4a1b-aeda-9028c89c5b23",
   "metadata": {},
   "outputs": [
    {
     "name": "stdout",
     "output_type": "stream",
     "text": [
      "a is greater\n"
     ]
    }
   ],
   "source": [
    "a=20\n",
    "b=10\n",
    "if a>b : print(\"a is greater\")"
   ]
  },
  {
   "cell_type": "code",
   "execution_count": 34,
   "id": "3996716a-f9e1-407b-8247-c7d3ecac3c2b",
   "metadata": {},
   "outputs": [
    {
     "name": "stdout",
     "output_type": "stream",
     "text": [
      "a is smaller\n"
     ]
    }
   ],
   "source": [
    "a=10\n",
    "b=20\n",
    "print(\"a is greater\")if a>b else print(\"a is smaller\")"
   ]
  },
  {
   "cell_type": "markdown",
   "id": "0713f37d-01ce-468d-9913-69dbdcbdb9a2",
   "metadata": {},
   "source": [
    "logical and & or operator"
   ]
  },
  {
   "cell_type": "code",
   "execution_count": 35,
   "id": "e1ba9e12-5ade-4d48-832d-976e19b4f39a",
   "metadata": {},
   "outputs": [
    {
     "name": "stdout",
     "output_type": "stream",
     "text": [
      "True\n"
     ]
    }
   ],
   "source": [
    "a=200\n",
    "b=300\n",
    "c=500\n",
    "if(a<b and a<c):\n",
    "    print(\"True\")\n",
    "else:\n",
    "    print(\"False\")"
   ]
  },
  {
   "cell_type": "code",
   "execution_count": 36,
   "id": "a49c1f25-59d6-416c-9ce1-c64f14eced6b",
   "metadata": {},
   "outputs": [
    {
     "name": "stdout",
     "output_type": "stream",
     "text": [
      "True\n"
     ]
    }
   ],
   "source": [
    "a=200\n",
    "b=300\n",
    "if(a<b or b<a):\n",
    "    print(\"True\")\n",
    "else:\n",
    "    print(\"false\")\n"
   ]
  },
  {
   "cell_type": "code",
   "execution_count": 37,
   "id": "9c053782-4f9f-4e3d-82c0-6c44017469be",
   "metadata": {},
   "outputs": [],
   "source": [
    "# pass Statement\n",
    "a=10\n",
    "b=20\n",
    "if a<b:\n",
    "    pass"
   ]
  },
  {
   "cell_type": "markdown",
   "id": "2f6a1028-1909-443b-ac57-ff26c798b095",
   "metadata": {},
   "source": [
    " TASK: 1.find no. is +ive/-ive"
   ]
  },
  {
   "cell_type": "code",
   "execution_count": 45,
   "id": "a83113ea-910f-44c0-9700-81bc9694bad2",
   "metadata": {},
   "outputs": [
    {
     "name": "stdin",
     "output_type": "stream",
     "text": [
      "n= -3\n"
     ]
    },
    {
     "name": "stdout",
     "output_type": "stream",
     "text": [
      "no. is -ive\n"
     ]
    }
   ],
   "source": [
    "a=(int(input(\"n=\")))\n",
    "if(a>0):\n",
    "    print(\"no. is +ive\")\n",
    "else:\n",
    "    print(\"no. is -ive\")\n",
    "    "
   ]
  },
  {
   "cell_type": "markdown",
   "id": "bf1afebc-ad75-4d1d-a655-a0fd978df38f",
   "metadata": {},
   "source": [
    "2. find no. is even/odd"
   ]
  },
  {
   "cell_type": "code",
   "execution_count": 50,
   "id": "a7102561-8d26-4f38-b573-1c01b2367a48",
   "metadata": {},
   "outputs": [
    {
     "name": "stdin",
     "output_type": "stream",
     "text": [
      "no.: 7\n"
     ]
    },
    {
     "name": "stdout",
     "output_type": "stream",
     "text": [
      "7 is odd\n"
     ]
    }
   ],
   "source": [
    "a=int(input(\"no.:\"))\n",
    "if(a%2==0):\n",
    "    print(a,\"is even\")\n",
    "else:\n",
    "    print(a,\"is odd\")"
   ]
  },
  {
   "cell_type": "markdown",
   "id": "46d121f7-94b0-4d72-9700-a8ef8760426d",
   "metadata": {},
   "source": [
    "Find the no. is even/odd(without using arithmatic operator)"
   ]
  },
  {
   "cell_type": "code",
   "execution_count": 57,
   "id": "766dc0bd-516d-4882-a878-1e0d76e0a9ac",
   "metadata": {},
   "outputs": [
    {
     "name": "stdin",
     "output_type": "stream",
     "text": [
      "no. 20\n"
     ]
    },
    {
     "name": "stdout",
     "output_type": "stream",
     "text": [
      "20 is even\n"
     ]
    }
   ],
   "source": [
    "n=int(input(\"no.\"))\n",
    "if(n & 1==0):\n",
    "    print(n,\"is even\")\n",
    "else:\n",
    "    print(n,\"is odd\")\n"
   ]
  },
  {
   "cell_type": "markdown",
   "id": "4a06ba38-43f5-49c6-86e7-9ee757db6968",
   "metadata": {},
   "source": [
    "Find greatest b/w two numbers"
   ]
  },
  {
   "cell_type": "code",
   "execution_count": 59,
   "id": "9241de17-f0c4-4036-8fab-13a8a4e8e73c",
   "metadata": {},
   "outputs": [
    {
     "name": "stdin",
     "output_type": "stream",
     "text": [
      "first num.: 20\n",
      "second num.: 40\n"
     ]
    },
    {
     "name": "stdout",
     "output_type": "stream",
     "text": [
      "40 is the greatest number\n"
     ]
    }
   ],
   "source": [
    "a=int(input(\"first num.:\"))\n",
    "b=int(input(\"second num.:\"))\n",
    "if(a>b):\n",
    "      print(a,\"is the greatest number\")\n",
    "else:\n",
    "      print(b,\"is the greatest number\")"
   ]
  },
  {
   "cell_type": "markdown",
   "id": "241a65d1-ae82-4a71-8bcc-09fd533d7cda",
   "metadata": {},
   "source": [
    "4. greatest b/w three numbers"
   ]
  },
  {
   "cell_type": "code",
   "execution_count": 63,
   "id": "8fad127c-00ea-46a4-a7dd-a37175467fd3",
   "metadata": {},
   "outputs": [
    {
     "name": "stdin",
     "output_type": "stream",
     "text": [
      "first num.: 10\n",
      "second num.: 7\n",
      "third num.: 2\n"
     ]
    },
    {
     "name": "stdout",
     "output_type": "stream",
     "text": [
      "10 is greatest number\n"
     ]
    }
   ],
   "source": [
    "a=int(input(\"first num.:\"))\n",
    "b=int(input(\"second num.:\"))\n",
    "c=int(input(\"third num.:\"))\n",
    "if(a>b):\n",
    "    if(a>c):\n",
    "        print(a,\"is greatest number\")\n",
    "if(b>a):\n",
    "    if(b>c):\n",
    "        print(b,\"is greatest number\")\n",
    "    else:\n",
    "        print(c,\"is greatest number\")\n",
    "        "
   ]
  },
  {
   "cell_type": "code",
   "execution_count": 65,
   "id": "46c87056-0d19-4f5d-ba5a-e3328ea3ebde",
   "metadata": {},
   "outputs": [
    {
     "name": "stdin",
     "output_type": "stream",
     "text": [
      "first num.: 45\n",
      "second num.: 70\n",
      "third num.: 50\n"
     ]
    },
    {
     "name": "stdout",
     "output_type": "stream",
     "text": [
      "70 is greatest number\n"
     ]
    }
   ],
   "source": [
    "a=int(input(\"first num.:\"))\n",
    "b=int(input(\"second num.:\"))\n",
    "c=int(input(\"third num.:\"))\n",
    "if(a>b and a>c):\n",
    "    print(a,\"is greatest number\")\n",
    "elif(b>c and b>a):\n",
    "    print(b,\"is greatest number\")\n",
    "else:\n",
    "    print(c,\"is greatest number\")\n",
    "\n",
    "\n"
   ]
  },
  {
   "cell_type": "markdown",
   "id": "1a64b335-11e7-408e-8c3f-3a0738c72b8a",
   "metadata": {},
   "source": [
    "Find no. is even/odd if the no. is greater then 6,else find the no. is multiple of 3or not."
   ]
  },
  {
   "cell_type": "code",
   "execution_count": 76,
   "id": "60c1a48a-8516-4b1d-b028-44b0b2e2f9cc",
   "metadata": {},
   "outputs": [
    {
     "name": "stdin",
     "output_type": "stream",
     "text": [
      "no.: 15\n"
     ]
    },
    {
     "name": "stdout",
     "output_type": "stream",
     "text": [
      "15 is odd\n"
     ]
    }
   ],
   "source": [
    "n=int(input(\"no.:\"))\n",
    "if(n>6):\n",
    "    if(n%2==0):\n",
    "        print(n,\"is even\")\n",
    "    else:\n",
    "        print(n,\"is odd\")\n",
    "else:\n",
    "    if(n%3==0):\n",
    "        print(n,\"is multiple of 3\")\n",
    "    else:\n",
    "        print(n,\"is  not multiple of 3\")\n",
    "    "
   ]
  },
  {
   "cell_type": "markdown",
   "id": "8b7e9070-7da4-44f5-8397-51e5332e7d9c",
   "metadata": {},
   "source": [
    "calculate Ticket price :\n",
    "age:(00-05) =free\n",
    "    (06-18)=RS.150\n",
    "    (19-24=RS.250\n",
    "    (25-30)=RS.25% off on thre total of age from(6-18+19-24)\n",
    "    (31-50)= Rs. 3% off on total of first 4 conditions\n",
    "    (51-60)=go to chaar dhaam yaatra\n",
    "    "
   ]
  },
  {
   "cell_type": "code",
   "execution_count": 100,
   "id": "de56f922-016e-4ef0-9c39-cefd4732d202",
   "metadata": {},
   "outputs": [
    {
     "name": "stdin",
     "output_type": "stream",
     "text": [
      "age: 51\n"
     ]
    },
    {
     "name": "stdout",
     "output_type": "stream",
     "text": [
      "go to chaar dhaam yatra\n"
     ]
    }
   ],
   "source": [
    "a=int(input(\"age:\"))\n",
    "p1=0\n",
    "p2=150\n",
    "p3=250\n",
    "if(a<5):\n",
    "    print(\" Ticket Price:Free\")\n",
    "elif(a>=6 and a<=18):\n",
    "    print(\" Ticket Price:Rs.\",p2)\n",
    "elif(a>=19 and a<=24):\n",
    "    print(\" Ticket Price:Rs.\",p3)\n",
    "elif(a>=25 and a<=30):\n",
    "    print(\" Ticket Price:Rs.\",(p1+p2+p3)*0.75)\n",
    "elif(a>=31 and a<=50):\n",
    "    print(\" Ticket Price:Rs.\",(p1+p2+p3)*0.75*0.97)\n",
    "else:\n",
    "    print(\"go to chaar dhaam yatra\")\n"
   ]
  }
 ],
 "metadata": {
  "kernelspec": {
   "display_name": "Python 3 (ipykernel)",
   "language": "python",
   "name": "python3"
  },
  "language_info": {
   "codemirror_mode": {
    "name": "ipython",
    "version": 3
   },
   "file_extension": ".py",
   "mimetype": "text/x-python",
   "name": "python",
   "nbconvert_exporter": "python",
   "pygments_lexer": "ipython3",
   "version": "3.11.7"
  }
 },
 "nbformat": 4,
 "nbformat_minor": 5
}
