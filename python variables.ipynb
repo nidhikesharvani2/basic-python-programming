{
 "cells": [
  {
   "cell_type": "code",
   "execution_count": 2,
   "id": "aadcf005-8e13-40ca-9ef0-f1d729b5ffe2",
   "metadata": {},
   "outputs": [
    {
     "name": "stdout",
     "output_type": "stream",
     "text": [
      "10\n",
      "machine\n"
     ]
    },
    {
     "data": {
      "text/plain": [
       "10.78"
      ]
     },
     "execution_count": 2,
     "metadata": {},
     "output_type": "execute_result"
    }
   ],
   "source": [
    "\n",
    "#variables are cotainers for storing data values for storing data values variables are nothing but reserved memory locations to store values\n",
    "# assigning values to variables\n",
    "x=10\n",
    "y=\"machine\"\n",
    "z=10.78\n",
    "print(x)\n",
    "print(y)\n",
    "z\n"
   ]
  },
  {
   "cell_type": "code",
   "execution_count": 5,
   "id": "653bc29e-59c1-40b3-81f0-75db8eb45f96",
   "metadata": {},
   "outputs": [
    {
     "name": "stdout",
     "output_type": "stream",
     "text": [
      "30 30 30\n"
     ]
    }
   ],
   "source": [
    "# variables don't need to be declared with any particular type and can even change type afterthey have been set.\n",
    "# multiple ASSignment\n",
    "a = b = c = 30\n",
    "print(a,b,c)"
   ]
  },
  {
   "cell_type": "code",
   "execution_count": 9,
   "id": "7f092a10-d8a1-431d-841e-a6169809b7b3",
   "metadata": {},
   "outputs": [
    {
     "name": "stdout",
     "output_type": "stream",
     "text": [
      "3\n",
      "3\n"
     ]
    },
    {
     "data": {
      "text/plain": [
       "3.0"
      ]
     },
     "execution_count": 9,
     "metadata": {},
     "output_type": "execute_result"
    }
   ],
   "source": [
    "# Type casting \n",
    "x=str(3)\n",
    "print(x)\n",
    "y=int(3)\n",
    "print(y)\n",
    "z=float(3)\n",
    "z"
   ]
  },
  {
   "cell_type": "code",
   "execution_count": 12,
   "id": "28051ff6-ca83-48cb-8b45-0b8be80acdca",
   "metadata": {},
   "outputs": [
    {
     "name": "stdout",
     "output_type": "stream",
     "text": [
      "<class 'str'>\n",
      "<class 'int'>\n",
      "<class 'float'>\n"
     ]
    }
   ],
   "source": [
    "# Get the type\n",
    "print(type(x))\n",
    "print(type(y))\n",
    "print(type(z))\n"
   ]
  },
  {
   "cell_type": "code",
   "execution_count": 13,
   "id": "a9d5f2ee-9b94-4a68-ac31-4e9d91450546",
   "metadata": {},
   "outputs": [
    {
     "name": "stdin",
     "output_type": "stream",
     "text": [
      "enter the value: 10\n"
     ]
    },
    {
     "name": "stdout",
     "output_type": "stream",
     "text": [
      "10\n",
      "<class 'int'>\n"
     ]
    }
   ],
   "source": [
    "n=int(input(\"enter the value:\"))\n",
    "print(n)\n",
    "print(type(n))"
   ]
  },
  {
   "cell_type": "code",
   "execution_count": 15,
   "id": "92fbcdef-b5e8-4e09-ba28-9ce8d61042cd",
   "metadata": {},
   "outputs": [
    {
     "name": "stdout",
     "output_type": "stream",
     "text": [
      "MachineLearning\n",
      "LearningMachine\n"
     ]
    }
   ],
   "source": [
    "x=\"Learning\"\n",
    "y=\"Machine\"\n",
    "print(y+x)\n",
    "print(x+y)"
   ]
  },
  {
   "cell_type": "code",
   "execution_count": 16,
   "id": "140f0216-6ae2-4b4f-a754-3f39e4c629ce",
   "metadata": {},
   "outputs": [
    {
     "data": {
      "text/plain": [
       "20"
      ]
     },
     "execution_count": 16,
     "metadata": {},
     "output_type": "execute_result"
    }
   ],
   "source": [
    "# python have five standard Data types: 1. Numbers 2.String 3.List 4.Tuples 5.Dictionary\n",
    "# 1. Numbers\n",
    "a=20\n",
    "a"
   ]
  },
  {
   "cell_type": "code",
   "execution_count": 17,
   "id": "4ba9c32a-4f93-4870-8419-3c0696fe93be",
   "metadata": {},
   "outputs": [],
   "source": [
    "# delete number\n",
    "del a"
   ]
  },
  {
   "cell_type": "code",
   "execution_count": 18,
   "id": "e6f4b7ea-ac6e-4178-a79d-6e8259c5000f",
   "metadata": {},
   "outputs": [
    {
     "ename": "NameError",
     "evalue": "name 'a' is not defined",
     "output_type": "error",
     "traceback": [
      "\u001b[1;31m---------------------------------------------------------------------------\u001b[0m",
      "\u001b[1;31mNameError\u001b[0m                                 Traceback (most recent call last)",
      "Cell \u001b[1;32mIn[18], line 1\u001b[0m\n\u001b[1;32m----> 1\u001b[0m \u001b[38;5;28mprint\u001b[39m(a)\n",
      "\u001b[1;31mNameError\u001b[0m: name 'a' is not defined"
     ]
    }
   ],
   "source": [
    "print(a)"
   ]
  },
  {
   "cell_type": "code",
   "execution_count": 29,
   "id": "e45ae281-036f-4dca-b0b1-30040b07ad2a",
   "metadata": {},
   "outputs": [
    {
     "name": "stdout",
     "output_type": "stream",
     "text": [
      "machinelearning\n",
      "m\n",
      "learning\n",
      "learning\n",
      "www.machinelearning\n",
      "machinelearning\n",
      "machinelearning\n",
      "mcieerig\n",
      "g\n",
      "r\n"
     ]
    }
   ],
   "source": [
    "# 2. String\n",
    "s=\"machinelearning\"\n",
    "print(s) #  print complete string\n",
    "print(s[0])# print first character\n",
    "print(s[7:15])# print  string starting from 7th to fifth\n",
    "print(s[7:])#print starting from starting 7th\n",
    "print('www.'+s)# print concatenated string\n",
    "print(s[:])# complete string with range start to end\n",
    "print(s[::])#  print complete string with range start to end with increment 1\n",
    "print(s[::2])# print complete string with  range start to end with increment 2\n",
    "print (s[-1]) # print last character of the string\n",
    "print(s[-5])# print last  5th character of the string\n"
   ]
  },
  {
   "cell_type": "code",
   "execution_count": 49,
   "id": "991cd475-31d9-47f3-8bf3-d79d7e0b6c2b",
   "metadata": {},
   "outputs": [
    {
     "name": "stdout",
     "output_type": "stream",
     "text": [
      "[10, 3.14, 'machine', 45, 'learning', 78.98, '.org.in']\n",
      "<class 'list'>\n",
      "3.14\n",
      "['machine', 45, 'learning', 78.98, '.org.in']\n",
      "[10, 3.14, 'machine', 45, 'learning', 78.98, '.org.in']\n",
      "[10, 'machine', 'learning', '.org.in']\n",
      "learning\n",
      "[10, 'machine', 45, 'learning', 78.98, '.org.in']\n",
      "1\n",
      "2\n",
      "None\n",
      "[10, 'machine', 'ram', 45, 'learning', 78.98, '.org.in']\n",
      "ram\n",
      "[10, 'machine', 45, 'learning', 78.98, '.org.in']\n"
     ]
    }
   ],
   "source": [
    "# 3. List\n",
    "l=[10,3.14,'machine', 45,'learning',78.98,'.org.in']\n",
    "print(l)\n",
    "print(type(l))# type of list\n",
    "print(l[1])\n",
    "print(l[2:8])\n",
    "print(l[::])\n",
    "print(l[::2])\n",
    "print(l[-3])\n",
    "l2=[10,'machine', 45,'learning',78.98,'.org.in']\n",
    "print(l2)\n",
    "print(l2.count('machine'))\n",
    "print(l2.index(45))\n",
    "print (l2.insert(2,'ram'))\n",
    "print(l2)\n",
    "print(l2.pop(2))\n",
    "print(l2)\n",
    "           \n",
    "\n"
   ]
  },
  {
   "cell_type": "code",
   "execution_count": 54,
   "id": "c87e15a8-1502-4e56-844e-e776fa052b30",
   "metadata": {},
   "outputs": [
    {
     "name": "stdout",
     "output_type": "stream",
     "text": [
      "[10, 20, 30, 40, 50, 60]\n",
      "[10, 20, 30, 10, 20, 30, 10, 20, 30]\n"
     ]
    }
   ],
   "source": [
    "l1=[10,20,30]\n",
    "l3=[40,50,60]\n",
    "print(l1+l3)\n",
    "print(l1*3)# 3 times print list value\n"
   ]
  },
  {
   "cell_type": "code",
   "execution_count": 11,
   "id": "e187ab49-09c5-4e61-98e8-5eb7558df2c9",
   "metadata": {},
   "outputs": [
    {
     "name": "stdout",
     "output_type": "stream",
     "text": [
      "(10, 3.14, 'Machine', 45, 'learning', 78.98, 'org.in')\n",
      "<class 'tuple'>\n",
      "3.14\n",
      "('Machine', 45)\n",
      "('Machine', 45, 'learning', 78.98, 'org.in')\n",
      "(10, 3.14, 'Machine', 45, 'learning', 78.98, 'org.in')\n",
      "(10, 3.14, 'Machine', 45, 'learning', 78.98, 'org.in')\n",
      "(10, 'Machine', 'learning', 'org.in')\n",
      "78.98\n"
     ]
    }
   ],
   "source": [
    "# 4.Tuple\n",
    "t=(10,3.14,\"Machine\",45,'learning',78.98,'org.in')# tuple is used ()\n",
    "print(t)\n",
    "print(type(t))\n",
    "print(t[1])\n",
    "print(t[2:4])\n",
    "print(t[2:])\n",
    "print(t[:])\n",
    "print(t[::])\n",
    "print(t[::2])\n",
    "print(t[-2])\n"
   ]
  },
  {
   "cell_type": "code",
   "execution_count": 13,
   "id": "aa8f3932-88d9-41cd-9b54-5df118aed0a2",
   "metadata": {},
   "outputs": [
    {
     "name": "stdout",
     "output_type": "stream",
     "text": [
      "(10, 20, 30, 40, 50, 60)\n",
      "(10, 20, 30, 10, 20, 30)\n"
     ]
    }
   ],
   "source": [
    "t1=(10,20,30)\n",
    "t2=(40,50,60)\n",
    "print(t1+t2)\n",
    "print(t1*2)"
   ]
  },
  {
   "cell_type": "code",
   "execution_count": 22,
   "id": "bc672123-3343-47ed-b919-4852244d374f",
   "metadata": {},
   "outputs": [
    {
     "name": "stdout",
     "output_type": "stream",
     "text": [
      "{}\n",
      "<class 'dict'>\n"
     ]
    }
   ],
   "source": [
    "# 5. Dictionary\n",
    "d={}\n",
    "print(d)\n",
    "print(type(d))"
   ]
  },
  {
   "cell_type": "code",
   "execution_count": 37,
   "id": "8b7cb0c2-84b7-47c1-b129-4ad1fce1accd",
   "metadata": {},
   "outputs": [
    {
     "name": "stdout",
     "output_type": "stream",
     "text": [
      "{'name': 'Kevin', 'Age': 34, 'marks': 89.58}\n",
      "<class 'dict'>\n",
      "Kevin\n",
      "dict_keys(['name', 'Age', 'marks'])\n",
      "dict_values(['Kevin', 34, 89.58])\n",
      "dict_items([('name', 'Kevin'), ('Age', 34), ('marks', 89.58)])\n"
     ]
    }
   ],
   "source": [
    "d={'name':'Kevin','Age':34,'marks':89.58}# dictionary has two parts keys and values part{keys:values}\n",
    "print(d)\n",
    "print(type(d))\n",
    "print(d['name'])\n",
    "print(d.keys())\n",
    "print(d.values())\n",
    "print(d.items())\n",
    "\n"
   ]
  }
 ],
 "metadata": {
  "kernelspec": {
   "display_name": "Python 3 (ipykernel)",
   "language": "python",
   "name": "python3"
  },
  "language_info": {
   "codemirror_mode": {
    "name": "ipython",
    "version": 3
   },
   "file_extension": ".py",
   "mimetype": "text/x-python",
   "name": "python",
   "nbconvert_exporter": "python",
   "pygments_lexer": "ipython3",
   "version": "3.11.7"
  }
 },
 "nbformat": 4,
 "nbformat_minor": 5
}
