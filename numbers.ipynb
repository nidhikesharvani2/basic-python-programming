{
 "cells": [
  {
   "cell_type": "markdown",
   "id": "49924981-a253-4f94-b4c0-f1aa6f62bfd4",
   "metadata": {},
   "source": [
    "Number data type store the numeric values. they are immutable data types, means that changing the value of a number data type results in newly allocated object.\n",
    "Python support four numeric data types: 1.int 2. long 3. float 4. complex"
   ]
  },
  {
   "cell_type": "code",
   "execution_count": 2,
   "id": "f61e5642-6e2a-4743-9039-00fd541cd9d9",
   "metadata": {},
   "outputs": [],
   "source": [
    "x=10# int\n",
    "y=3.3#float\n",
    "z=1j #complex"
   ]
  },
  {
   "cell_type": "code",
   "execution_count": 3,
   "id": "8a8dc978-98fd-418e-9b58-679d5443a598",
   "metadata": {},
   "outputs": [
    {
     "name": "stdout",
     "output_type": "stream",
     "text": [
      "<class 'int'>\n",
      "<class 'float'>\n",
      "<class 'complex'>\n"
     ]
    }
   ],
   "source": [
    "print(type(x))\n",
    "print(type(y))\n",
    "print(type(z))"
   ]
  },
  {
   "cell_type": "markdown",
   "id": "c1522614-e685-49dd-b35f-251beaa26ec0",
   "metadata": {},
   "source": [
    "  Integer Numbers: int or integer is a whole number, positive or negative,witout decimals of unlimited length"
   ]
  },
  {
   "cell_type": "code",
   "execution_count": 4,
   "id": "c714dff9-6d65-4ba9-a2d9-1539777a3964",
   "metadata": {},
   "outputs": [
    {
     "name": "stdout",
     "output_type": "stream",
     "text": [
      "<class 'int'>\n",
      "<class 'int'>\n",
      "<class 'int'>\n"
     ]
    }
   ],
   "source": [
    "x=10\n",
    "y=4444444\n",
    "z=-3\n",
    "print(type(x))\n",
    "print(type(y))\n",
    "print(type(z))"
   ]
  },
  {
   "cell_type": "markdown",
   "id": "ce30bd49-79c7-4f92-b736-1ddd0377e311",
   "metadata": {},
   "source": [
    "float numbers:  float, or\"floating point numbers\" is a number positive or negative , containing one or more decimals"
   ]
  },
  {
   "cell_type": "code",
   "execution_count": 5,
   "id": "c6304390-ca2b-4274-a3e9-0bdef3e60e19",
   "metadata": {},
   "outputs": [
    {
     "name": "stdout",
     "output_type": "stream",
     "text": [
      "<class 'float'>\n",
      "<class 'float'>\n",
      "<class 'float'>\n"
     ]
    }
   ],
   "source": [
    "x=10.1\n",
    "y=7.000\n",
    "z=-35.6\n",
    "print(type(x))\n",
    "print(type(y))\n",
    "print(type(z))"
   ]
  },
  {
   "cell_type": "markdown",
   "id": "42250db2-7be9-4128-8a65-264e03be97aa",
   "metadata": {},
   "source": [
    "Complex numbers are written with a \"j\" as the imaginary part"
   ]
  },
  {
   "cell_type": "code",
   "execution_count": 7,
   "id": "8f956275-ae0c-4df4-8f1c-64bbcd83ba98",
   "metadata": {},
   "outputs": [
    {
     "name": "stdout",
     "output_type": "stream",
     "text": [
      "<class 'complex'>\n",
      "<class 'complex'>\n",
      "<class 'complex'>\n"
     ]
    }
   ],
   "source": [
    "x=2+5j\n",
    "y=5j\n",
    "z=-4j\n",
    "print(type(x))\n",
    "print(type(y))\n",
    "print(type(z))"
   ]
  },
  {
   "cell_type": "markdown",
   "id": "abb35f4a-aa5c-4b9f-aafe-b16eb447af16",
   "metadata": {},
   "source": [
    "TYPE CONVERSION:   you can convert from one type  to another with the int(), float(), complex() methods:"
   ]
  },
  {
   "cell_type": "code",
   "execution_count": 11,
   "id": "40e33376-482c-493c-aa7a-6b78ebc4125a",
   "metadata": {},
   "outputs": [
    {
     "name": "stdout",
     "output_type": "stream",
     "text": [
      "10.0 (10+0j) 3\n"
     ]
    }
   ],
   "source": [
    "x=10\n",
    "y=3.41\n",
    "z=5j\n",
    "a=float(x)\n",
    "b=complex(x)\n",
    "c=int(y)\n",
    "print(a,b,c)"
   ]
  },
  {
   "cell_type": "code",
   "execution_count": 13,
   "id": "2a0470c9-a82e-43ed-ba1a-1d88fe9f1a21",
   "metadata": {},
   "outputs": [
    {
     "name": "stdout",
     "output_type": "stream",
     "text": [
      "<class 'float'>\n",
      "<class 'complex'>\n",
      "<class 'int'>\n"
     ]
    }
   ],
   "source": [
    "print(type(a))\n",
    "print(type(b))\n",
    "print(type(c))\n",
    "\n",
    "\n"
   ]
  },
  {
   "cell_type": "markdown",
   "id": "58cba4b3-ce63-4323-8bbb-0de81dbca1d6",
   "metadata": {},
   "source": [
    "# min and Max numbers"
   ]
  },
  {
   "cell_type": "code",
   "execution_count": 14,
   "id": "dd4bed90-0ade-43b0-bd96-2684791bec6a",
   "metadata": {},
   "outputs": [
    {
     "data": {
      "text/plain": [
       "2.3"
      ]
     },
     "execution_count": 14,
     "metadata": {},
     "output_type": "execute_result"
    }
   ],
   "source": [
    "min(2.30,40,45.4)"
   ]
  },
  {
   "cell_type": "code",
   "execution_count": 15,
   "id": "5f471a66-6083-4ae6-ab05-f558a58db8dc",
   "metadata": {},
   "outputs": [
    {
     "data": {
      "text/plain": [
       "120"
      ]
     },
     "execution_count": 15,
     "metadata": {},
     "output_type": "execute_result"
    }
   ],
   "source": [
    "max(120,-4,50)\n"
   ]
  },
  {
   "cell_type": "markdown",
   "id": "37bd973c-6a55-4575-b618-9be9574ddf3b",
   "metadata": {},
   "source": [
    "# random Numbers in python"
   ]
  },
  {
   "cell_type": "markdown",
   "id": "58ef1b56-1adc-4b5e-8fd4-16d6e5d157e4",
   "metadata": {},
   "source": [
    "python defines a set of functions that are used to generate or manipulate random numbers. this particular type of numbers are used in a lot of games\n",
    "lotteries , OTP(one time password),2 factor authentication, security lock or any appliction requiring random number generation"
   ]
  },
  {
   "cell_type": "markdown",
   "id": "f604645a-7266-4036-baf3-5b7e718f6b42",
   "metadata": {},
   "source": [
    "1. random():- this number is used to generate a float random numbers  less than 1 and greater or equal to 0."
   ]
  },
  {
   "cell_type": "markdown",
   "id": "ab34890f-1eb1-42b6-919c-357e77403380",
   "metadata": {},
   "source": [
    "2. randint(start,end):- this function is also used to generate a float random numbers but within a range specified in its arguments."
   ]
  },
  {
   "cell_type": "markdown",
   "id": "485687b8-d783-4fc6-9265-45f683aacf44",
   "metadata": {},
   "source": [
    "3. randrange(start,end,step):- this function is also used to generate a float random numbers but within a range specified in its arguments."
   ]
  },
  {
   "cell_type": "markdown",
   "id": "3d3b28d4-99e8-4097-8d0d-1048d2d0becd",
   "metadata": {},
   "source": [
    "4.uniform(a,b):- this function is also used to generate a floating point random numbers bitween  the numbers mentioned in its arguments-----------------\n",
    "5.choice(): this function is used to generate 1 random number from a container.\n",
    "6.shuffle():-this function is used to shuffle the entire list to randomely arrange them.\n",
    "7.sample():- this function is used torandomly selected items from a sequence.\n",
    "8.seed():- this function takes number as a parameter called seed and produces same random numbers each time you call this function with that number."
   ]
  },
  {
   "cell_type": "code",
   "execution_count": 18,
   "id": "8aa0fe73-6277-4ee3-9ac6-78876abcc8c8",
   "metadata": {},
   "outputs": [
    {
     "name": "stdout",
     "output_type": "stream",
     "text": [
      "0.7387907144460703\n",
      "9859\n",
      "923\n",
      "1406\n",
      "2795\n",
      "7820.497925055441\n",
      "n\n"
     ]
    }
   ],
   "source": [
    "import random as rd\n",
    "print (rd.random())\n",
    "print(rd.randint(1000,9999))\n",
    "print(rd.randrange(1000))\n",
    "print(rd.randrange(1000,9999))\n",
    "print(rd.randrange(1000,9999,5))\n",
    "print(rd.uniform(1000,9999))\n",
    "print(rd.choice(\"machine\"))"
   ]
  },
  {
   "cell_type": "code",
   "execution_count": 24,
   "id": "efffed8b-1066-4a94-b719-fcc8d2feaf80",
   "metadata": {},
   "outputs": [
    {
     "name": "stdout",
     "output_type": "stream",
     "text": [
      "10\n"
     ]
    }
   ],
   "source": [
    "l=[3,8,10,30,69]\n",
    "print(rd.choice(l))"
   ]
  },
  {
   "cell_type": "code",
   "execution_count": 25,
   "id": "e52f00cf-87f2-406b-9f23-297b48dea151",
   "metadata": {},
   "outputs": [
    {
     "name": "stdout",
     "output_type": "stream",
     "text": [
      "[8, 3, 10, 69, 30]\n"
     ]
    }
   ],
   "source": [
    "rd.shuffle(l)\n",
    "print(l)"
   ]
  },
  {
   "cell_type": "code",
   "execution_count": 26,
   "id": "76b549e8-5fbd-4402-a4a7-2219b31bf10b",
   "metadata": {},
   "outputs": [
    {
     "name": "stdout",
     "output_type": "stream",
     "text": [
      "[10, 69, 30]\n"
     ]
    }
   ],
   "source": [
    "print(rd.sample(l,3))"
   ]
  },
  {
   "cell_type": "code",
   "execution_count": 27,
   "id": "f65bbae1-3428-45be-bca1-038fec772d00",
   "metadata": {},
   "outputs": [
    {
     "name": "stdout",
     "output_type": "stream",
     "text": [
      "None\n"
     ]
    }
   ],
   "source": [
    "print(rd.seed(3))"
   ]
  },
  {
   "cell_type": "code",
   "execution_count": 30,
   "id": "0e8df2c9-a49c-43fc-bbef-095d21054257",
   "metadata": {},
   "outputs": [
    {
     "name": "stdout",
     "output_type": "stream",
     "text": [
      "0.23796462709189137\n",
      "9916\n",
      "2028.7750155196059\n"
     ]
    }
   ],
   "source": [
    "from  random import random,randint,uniform\n",
    "print(random())\n",
    "print(randint(1000,9999))\n",
    "print(uniform(1000,8888))"
   ]
  },
  {
   "cell_type": "code",
   "execution_count": null,
   "id": "e8a2e77c-f747-4e49-beab-7fde7ab0b9ad",
   "metadata": {},
   "outputs": [],
   "source": []
  },
  {
   "cell_type": "code",
   "execution_count": null,
   "id": "83cafc4c-40d6-4228-bf39-46776533c595",
   "metadata": {},
   "outputs": [],
   "source": []
  }
 ],
 "metadata": {
  "kernelspec": {
   "display_name": "Python 3 (ipykernel)",
   "language": "python",
   "name": "python3"
  },
  "language_info": {
   "codemirror_mode": {
    "name": "ipython",
    "version": 3
   },
   "file_extension": ".py",
   "mimetype": "text/x-python",
   "name": "python",
   "nbconvert_exporter": "python",
   "pygments_lexer": "ipython3",
   "version": "3.11.7"
  }
 },
 "nbformat": 4,
 "nbformat_minor": 5
}
