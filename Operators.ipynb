{
 "cells": [
  {
   "cell_type": "code",
   "execution_count": 2,
   "id": "da3033fb-e5f3-4efb-a56d-1ad78fa24037",
   "metadata": {},
   "outputs": [],
   "source": [
    "# operators is symbols that tells the compiler to perform specific mathematical or logical manipulations(operations)\n",
    "# types of operator\n",
    "# 1. arithmatic operator:it used numeric value to perform common mathematical operations\n",
    "#    operator            Name\n",
    "#     +,-,*,/            Addition, substraction, multiplication, division\n",
    "#     **                  Exponent\n",
    "#     %                  modules(remainder from divisin) \n",
    "#     //                 Floor division"
   ]
  },
  {
   "cell_type": "code",
   "execution_count": 12,
   "id": "9861e932-a225-4b82-8a40-20b71c761b9d",
   "metadata": {},
   "outputs": [
    {
     "name": "stdin",
     "output_type": "stream",
     "text": [
      "enter the number: 5\n",
      "enter the number: 2\n"
     ]
    },
    {
     "name": "stdout",
     "output_type": "stream",
     "text": [
      "addition:  7\n",
      "subtraction:  3\n",
      "multiplication:  10\n",
      "division: 2.5\n",
      "exponent: 25\n",
      "modules: 1\n",
      "floor division: 2\n"
     ]
    }
   ],
   "source": [
    "a=int(input(\"enter the number:\"))\n",
    "b=int(input(\"enter the number:\"))\n",
    "print(\"addition: \" ,a+b)\n",
    "print(\"subtraction: \" ,a-b)\n",
    "print(\"multiplication: \" ,a*b)\n",
    "print(\"division:\",a/b)\n",
    "print(\"exponent:\",a**b)#   power operator\n",
    "print(\"modules:\",a%b)\n",
    "print(\"floor division:\",a//b) # quotient (bhagphal)\n"
   ]
  },
  {
   "cell_type": "code",
   "execution_count": 15,
   "id": "1f56f0f3-bbf9-4180-93ae-685afe6eaf76",
   "metadata": {},
   "outputs": [
    {
     "name": "stdout",
     "output_type": "stream",
     "text": [
      "True\n",
      "False\n"
     ]
    }
   ],
   "source": [
    "# python comparison operator: < ,>,>=,<=,==,!=\n",
    "a=10\n",
    "b=5\n",
    "c=a>b\n",
    "print(c)\n",
    "c=a<b\n",
    "print(c)\n"
   ]
  },
  {
   "cell_type": "code",
   "execution_count": 16,
   "id": "67d09637-c47e-4d57-9851-1dfaaf48a37e",
   "metadata": {},
   "outputs": [
    {
     "name": "stdout",
     "output_type": "stream",
     "text": [
      "True\n"
     ]
    }
   ],
   "source": [
    "a=5\n",
    "b=5\n",
    "c= a==b\n",
    "print(c)"
   ]
  },
  {
   "cell_type": "code",
   "execution_count": 19,
   "id": "508c697a-8b4b-40f1-bf9a-4bad087a431a",
   "metadata": {},
   "outputs": [
    {
     "name": "stdout",
     "output_type": "stream",
     "text": [
      "True\n",
      "True\n"
     ]
    }
   ],
   "source": [
    "a=8\n",
    "b=9\n",
    "c=a<=b\n",
    "print(c)\n",
    "c=a<=b\n",
    "print(c)"
   ]
  },
  {
   "cell_type": "code",
   "execution_count": 22,
   "id": "686c8f62-4d67-4b01-9509-765acbb31e03",
   "metadata": {},
   "outputs": [
    {
     "name": "stdout",
     "output_type": "stream",
     "text": [
      "True\n",
      "False\n",
      "True\n"
     ]
    }
   ],
   "source": [
    "a=6\n",
    "b=4\n",
    "c=a!=b\n",
    "print(c)\n",
    "print(a<=b)\n",
    "print(a>=b)"
   ]
  },
  {
   "cell_type": "code",
   "execution_count": 23,
   "id": "537d55d4-5735-4087-9e04-80b66f7d5e4e",
   "metadata": {},
   "outputs": [],
   "source": [
    "# Logical Operator: it used to combine conditional statement\n",
    "# operator          description                                       \n",
    "# and            return true if both statements is high\n",
    "# or             return true if one of the statement is true        \n",
    "# not             reverse the result, return false if statement is true\n"
   ]
  },
  {
   "cell_type": "code",
   "execution_count": 27,
   "id": "77fd1c6a-6b6e-459a-82b0-6466a4b6b96a",
   "metadata": {},
   "outputs": [
    {
     "name": "stdout",
     "output_type": "stream",
     "text": [
      "False\n"
     ]
    }
   ],
   "source": [
    "#  logical And \n",
    "x=1\n",
    "print(x>2 and x<2)\n"
   ]
  },
  {
   "cell_type": "code",
   "execution_count": 29,
   "id": "62017205-b4d1-48c8-aa9e-90824b56e858",
   "metadata": {},
   "outputs": [
    {
     "name": "stdout",
     "output_type": "stream",
     "text": [
      "20\n",
      "10\n"
     ]
    }
   ],
   "source": [
    "print(10 and 20)\n",
    "print(20 and 10)"
   ]
  },
  {
   "cell_type": "code",
   "execution_count": 33,
   "id": "576b5f8b-aa57-4d88-a44f-6983476254b3",
   "metadata": {},
   "outputs": [
    {
     "name": "stdout",
     "output_type": "stream",
     "text": [
      "True\n",
      "True\n",
      "False\n"
     ]
    }
   ],
   "source": [
    "# logical or\n",
    "x=2\n",
    "print(x>2 or x<3)\n",
    "print(x<3 or x<4)\n",
    "print(x<1 or x<1.5)"
   ]
  },
  {
   "cell_type": "code",
   "execution_count": 34,
   "id": "f3ad73d6-1d5e-41e8-943a-c61c127dc8d1",
   "metadata": {},
   "outputs": [
    {
     "name": "stdout",
     "output_type": "stream",
     "text": [
      "10\n",
      "20\n"
     ]
    }
   ],
   "source": [
    "print(10 or 20)\n",
    "print(20 or 10)"
   ]
  },
  {
   "cell_type": "code",
   "execution_count": 37,
   "id": "51db562c-6a2c-4849-a254-3b974ee63947",
   "metadata": {},
   "outputs": [
    {
     "name": "stdout",
     "output_type": "stream",
     "text": [
      "False\n",
      "True\n"
     ]
    }
   ],
   "source": [
    "# logical not\n",
    "x=0\n",
    "y=1\n",
    "print(not y)# true\n",
    "print(not x)# false"
   ]
  },
  {
   "cell_type": "code",
   "execution_count": 38,
   "id": "d3a91158-2850-4b73-8801-e6eddd742d61",
   "metadata": {},
   "outputs": [],
   "source": [
    "# bitwise operator: it used to compare binary numbers\n",
    " # operator                         description\n",
    "#   & , |,^                      Betwise and, betwise or, betwise XOR\n",
    "#    <<, >>                      left shift , right shift\n",
    "#     ~                           1's compliment\n"
   ]
  },
  {
   "cell_type": "code",
   "execution_count": 48,
   "id": "f397a293-a08e-4923-b360-cc4e396a7900",
   "metadata": {},
   "outputs": [
    {
     "name": "stdout",
     "output_type": "stream",
     "text": [
      "2\n",
      "14\n",
      "12\n",
      "40\n",
      "24\n",
      "80\n"
     ]
    }
   ],
   "source": [
    "a=10 # 1010\n",
    "b=6 #   0110\n",
    "print(a&b)\n",
    "print(a|b)\n",
    "print(a^b)\n",
    "print(a<<2)#10*2^2\n",
    "print(b<<2)# 6*2^2\n",
    "print(a<<3)# 10*2^3\n",
    "\n"
   ]
  },
  {
   "cell_type": "code",
   "execution_count": 51,
   "id": "7b4ab77e-9396-4f21-880a-82e07520e548",
   "metadata": {},
   "outputs": [
    {
     "name": "stdout",
     "output_type": "stream",
     "text": [
      "2\n",
      "1\n"
     ]
    }
   ],
   "source": [
    "print(a>>2)#10/2^2=quotient\n",
    "print(a>>3)#10/2^3=quotient"
   ]
  },
  {
   "cell_type": "code",
   "execution_count": 54,
   "id": "535890e7-66fa-4611-af11-b5c33ffb8a4c",
   "metadata": {},
   "outputs": [
    {
     "name": "stdout",
     "output_type": "stream",
     "text": [
      "-11\n",
      "-7\n",
      "-9\n"
     ]
    }
   ],
   "source": [
    "print(~a)\n",
    "print(~b)\n",
    "c=8\n",
    "print(~c)\n"
   ]
  },
  {
   "cell_type": "code",
   "execution_count": 61,
   "id": "fbc7ea50-143f-422a-b67e-1ae3485357ca",
   "metadata": {},
   "outputs": [
    {
     "name": "stdout",
     "output_type": "stream",
     "text": [
      "True\n",
      "False\n"
     ]
    }
   ],
   "source": [
    "# identity operator are used to compare the object  not,if they are equal if they are actually the same object,with the same memiry location\n",
    "# is       identical   returns True if both variables are same       \n",
    "# is not    not identical returns True if both variables are not equal\n",
    "l1=[1,2,3]\n",
    "l2=[1,2,3]\n",
    "print(l1== l2)\n",
    "print(l1 is l2)"
   ]
  },
  {
   "cell_type": "code",
   "execution_count": 59,
   "id": "1090fb4e-a59e-40bc-be39-ba99de7279c6",
   "metadata": {},
   "outputs": [
    {
     "name": "stdout",
     "output_type": "stream",
     "text": [
      "True\n",
      "True\n"
     ]
    }
   ],
   "source": [
    "l3=l2\n",
    "print(l2==l3)\n",
    "print(l2 is l3)"
   ]
  },
  {
   "cell_type": "code",
   "execution_count": 62,
   "id": "b5b73567-ac99-406c-90ca-37cdbc188d7d",
   "metadata": {},
   "outputs": [],
   "source": [
    "del l2"
   ]
  },
  {
   "cell_type": "code",
   "execution_count": 63,
   "id": "8cc5dc34-8e10-4496-833d-13b929eb1a41",
   "metadata": {},
   "outputs": [
    {
     "name": "stdout",
     "output_type": "stream",
     "text": [
      "[1, 2, 3]\n"
     ]
    }
   ],
   "source": [
    "print(l3)"
   ]
  },
  {
   "cell_type": "code",
   "execution_count": 64,
   "id": "1369a505-cef6-4b0d-b588-111e334a99ea",
   "metadata": {},
   "outputs": [
    {
     "name": "stdout",
     "output_type": "stream",
     "text": [
      "True\n",
      "False\n"
     ]
    }
   ],
   "source": [
    "# membership operator: used to test if a sequenceis presented in an object\n",
    "#in- Evaluate to finds a variable if it finds a variable in the specific sequences\n",
    "# not in: returns True if sequence with the specified value is not present in the object\n",
    "l=[2,45,57,9,8]\n",
    "n=2\n",
    "print(n in l)\n",
    "print (n not in l)"
   ]
  },
  {
   "cell_type": "code",
   "execution_count": null,
   "id": "157d7aac-f30a-458f-a95b-0fe4e3094598",
   "metadata": {},
   "outputs": [],
   "source": []
  }
 ],
 "metadata": {
  "kernelspec": {
   "display_name": "Python 3 (ipykernel)",
   "language": "python",
   "name": "python3"
  },
  "language_info": {
   "codemirror_mode": {
    "name": "ipython",
    "version": 3
   },
   "file_extension": ".py",
   "mimetype": "text/x-python",
   "name": "python",
   "nbconvert_exporter": "python",
   "pygments_lexer": "ipython3",
   "version": "3.11.7"
  }
 },
 "nbformat": 4,
 "nbformat_minor": 5
}
