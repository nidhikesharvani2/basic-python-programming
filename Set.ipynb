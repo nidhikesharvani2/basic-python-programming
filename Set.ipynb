{
 "cells": [
  {
   "cell_type": "markdown",
   "id": "a4f6ed55-102d-42b9-b91c-ec6f63ed65cb",
   "metadata": {},
   "source": [
    "# python sets\n",
    "A set is an unordered collection of items. Every set element is unique(no duplicates) and must be immutable(can't be changed).\n",
    "sets are store multiple items in a single variable. sets can be used to perform  mathematical set operations like union,intersection,symmetric,Difference\n",
    "etec."
   ]
  },
  {
   "cell_type": "code",
   "execution_count": 3,
   "id": "54a7618f-d509-409f-9ae9-4794689fbdb3",
   "metadata": {},
   "outputs": [
    {
     "name": "stdout",
     "output_type": "stream",
     "text": [
      "{'python', 'data science', 'machine learning'}\n"
     ]
    }
   ],
   "source": [
    "set ={'python',\"data science\",\"machine learning\"}\n",
    "print(set)"
   ]
  },
  {
   "cell_type": "markdown",
   "id": "c29b74e0-48f2-4b67-9126-c0d2e50c9bbd",
   "metadata": {},
   "source": [
    "# set of index datatypes"
   ]
  },
  {
   "cell_type": "code",
   "execution_count": 4,
   "id": "68363e45-1d66-44b8-bcb8-fab4b102fc2d",
   "metadata": {},
   "outputs": [
    {
     "name": "stdout",
     "output_type": "stream",
     "text": [
      "{1.0, (1, 2, 3), 'hello'}\n"
     ]
    }
   ],
   "source": [
    "set={1.0,\"hello\",(1,2,3)}\n",
    "print(set)"
   ]
  },
  {
   "cell_type": "markdown",
   "id": "862ea03e-78da-4b33-b195-e7951fafdca1",
   "metadata": {},
   "source": [
    "* set items are unordered, unchangeable,and do not allow duplicate values.\n",
    "* set items can apper in a different order every time you use them, and can,t be referred to by index or key.\n",
    "* sets are unchangeable,meaninng that we can't change items after set has been created."
   ]
  },
  {
   "cell_type": "markdown",
   "id": "4d15a3c9-dd9b-4a6c-9176-36adebed221f",
   "metadata": {},
   "source": [
    "# duplicate not allowed"
   ]
  },
  {
   "cell_type": "code",
   "execution_count": 5,
   "id": "1045781b-ed7c-4ce9-91b8-b108a5148de7",
   "metadata": {},
   "outputs": [
    {
     "name": "stdout",
     "output_type": "stream",
     "text": [
      "{'python', 'data science', 'machine learning'}\n"
     ]
    }
   ],
   "source": [
    "set={\"python\",\"data science\",\"machine learning\",\"python\"}\n",
    "print(set)"
   ]
  },
  {
   "cell_type": "code",
   "execution_count": 7,
   "id": "5814258f-7283-4d39-b8c5-522435f3fcaf",
   "metadata": {},
   "outputs": [
    {
     "name": "stdout",
     "output_type": "stream",
     "text": [
      "<class 'set'>\n",
      "3\n"
     ]
    }
   ],
   "source": [
    "set={\"python\",\"data science\",\"machine learning\"}\n",
    "print(type(set))\n",
    "print(len(set))"
   ]
  },
  {
   "cell_type": "markdown",
   "id": "28aac606-b1b6-4c65-9184-04af039e9705",
   "metadata": {},
   "source": [
    "# Access set items\n",
    "* you can't access items in a set referring to an index or a key.\n",
    "* but you can loop through the set items using a for loop, or ask if a specified value is present in a set,by using the in keyword."
   ]
  },
  {
   "cell_type": "code",
   "execution_count": 8,
   "id": "00381f0a-5fa0-40b5-a342-3bcc7f7daee0",
   "metadata": {},
   "outputs": [
    {
     "name": "stdout",
     "output_type": "stream",
     "text": [
      "python\n",
      "data science\n",
      "machine learning\n"
     ]
    }
   ],
   "source": [
    "set={\"python\",\"data science\",\"machine learning\"}\n",
    "for i in set:\n",
    "    print(i)"
   ]
  },
  {
   "cell_type": "markdown",
   "id": "b86b1b6d-82b3-454f-bbb2-0920b94d698c",
   "metadata": {},
   "source": [
    "# add set items\n",
    "* once a set is created, you can't change its items, but you can add new items using add() method."
   ]
  },
  {
   "cell_type": "code",
   "execution_count": 9,
   "id": "976678b6-dd50-4fa8-874b-5345ac7bd7dd",
   "metadata": {},
   "outputs": [
    {
     "name": "stdout",
     "output_type": "stream",
     "text": [
      "{'python', 'data science', 'machine learning', 'Deep learning'}\n"
     ]
    }
   ],
   "source": [
    "set={\"python\",\"data science\",\"machine learning\"}\n",
    "set.add(\"Deep learning\")\n",
    "print(set)"
   ]
  },
  {
   "cell_type": "markdown",
   "id": "b0e5d36d-974a-48e4-ad20-9bf70bc8d235",
   "metadata": {},
   "source": [
    "* to add items from another set into the current set, use the update() method."
   ]
  },
  {
   "cell_type": "code",
   "execution_count": 11,
   "id": "5fe0735d-17e8-4026-b43c-136b35a6b63b",
   "metadata": {},
   "outputs": [
    {
     "name": "stdout",
     "output_type": "stream",
     "text": [
      "{'grapes', 'mango', 'guaua', 'orange', 'watermelon', 'Apple'}\n"
     ]
    }
   ],
   "source": [
    "set1={\"Apple\",\"orange\",\"grapes\"}\n",
    "set2={\"mango\",\"watermelon\",\"guaua\"}\n",
    "set1.update(set2)\n",
    "print(set1)\n"
   ]
  },
  {
   "cell_type": "markdown",
   "id": "5845776e-e178-4b12-aefb-128508274e4a",
   "metadata": {},
   "source": [
    "# remove set items"
   ]
  },
  {
   "cell_type": "code",
   "execution_count": 12,
   "id": "80cb5dfd-408a-49e6-8fa4-309c560bf5ae",
   "metadata": {},
   "outputs": [
    {
     "name": "stdout",
     "output_type": "stream",
     "text": [
      "{'grapes', 'mango', 'guaua', 'orange', 'watermelon', 'Apple'}\n"
     ]
    }
   ],
   "source": [
    "print(set1)"
   ]
  },
  {
   "cell_type": "code",
   "execution_count": 13,
   "id": "10356741-9175-4cad-9359-ad67ed1814da",
   "metadata": {},
   "outputs": [
    {
     "name": "stdout",
     "output_type": "stream",
     "text": [
      "{'mango', 'guaua', 'orange', 'watermelon', 'Apple'}\n"
     ]
    }
   ],
   "source": [
    "set1.remove(\"grapes\")\n",
    "print(set1)"
   ]
  },
  {
   "cell_type": "code",
   "execution_count": 14,
   "id": "26f5e12b-ca28-45ad-a248-5a1390dd8d8e",
   "metadata": {},
   "outputs": [
    {
     "name": "stdout",
     "output_type": "stream",
     "text": [
      "{'mango', 'orange', 'watermelon', 'Apple'}\n"
     ]
    }
   ],
   "source": [
    "set1.discard(\"guaua\")\n",
    "print(set1)"
   ]
  },
  {
   "cell_type": "code",
   "execution_count": 15,
   "id": "3c138658-a69f-46bf-ae08-779c178ad205",
   "metadata": {},
   "outputs": [
    {
     "name": "stdout",
     "output_type": "stream",
     "text": [
      "{'data science', 'machine learning'}\n"
     ]
    }
   ],
   "source": [
    "set={\"python\",\"data science\",\"machine learning\"}\n",
    "set.pop()\n",
    "print(set)"
   ]
  },
  {
   "cell_type": "markdown",
   "id": "17510f7a-5642-4a85-9242-036de42a3246",
   "metadata": {},
   "source": [
    "* the clear method empties the set."
   ]
  },
  {
   "cell_type": "code",
   "execution_count": 16,
   "id": "8c59f336-93c5-49bf-b3e0-9bd62ee922a1",
   "metadata": {},
   "outputs": [
    {
     "name": "stdout",
     "output_type": "stream",
     "text": [
      "set()\n"
     ]
    }
   ],
   "source": [
    "set={\"python\",\"data science\",\"machine learning\"}\n",
    "set.clear()\n",
    "print(set)"
   ]
  },
  {
   "cell_type": "code",
   "execution_count": 17,
   "id": "a447fe8a-22e6-421a-ac73-d38101f1efc7",
   "metadata": {},
   "outputs": [
    {
     "ename": "SyntaxError",
     "evalue": "cannot delete function call (2674888318.py, line 3)",
     "output_type": "error",
     "traceback": [
      "\u001b[1;36m  Cell \u001b[1;32mIn[17], line 3\u001b[1;36m\u001b[0m\n\u001b[1;33m    del set()\u001b[0m\n\u001b[1;37m        ^\u001b[0m\n\u001b[1;31mSyntaxError\u001b[0m\u001b[1;31m:\u001b[0m cannot delete function call\n"
     ]
    }
   ],
   "source": [
    "#the del keyword will delete the set completely:\n",
    "set={\"python\",\"data science\",\"machine learning\"}\n",
    "del set()\n",
    "print(set)"
   ]
  },
  {
   "cell_type": "markdown",
   "id": "e6a06558-ec81-417a-856e-3616642bf61f",
   "metadata": {},
   "source": [
    "# loop items\n",
    "* you can through the set items by using a for loop."
   ]
  },
  {
   "cell_type": "code",
   "execution_count": 19,
   "id": "3fbaf807-d5e5-4ad6-b5b2-01aa66c2bc14",
   "metadata": {},
   "outputs": [
    {
     "name": "stdout",
     "output_type": "stream",
     "text": [
      "python\n",
      "data science\n",
      "machine learning\n"
     ]
    }
   ],
   "source": [
    "set={\"python\",\"data science\",\"machine learning\"}\n",
    "for i in set:\n",
    "    print(i)"
   ]
  },
  {
   "cell_type": "markdown",
   "id": "daabc591-d1ea-49a6-980f-13273bf943e0",
   "metadata": {},
   "source": [
    "# join two sets\n",
    "* there are several ways tow or more sets in python.\n",
    "*you can use the union() method that returns a new set containing all items from both sets,or the update() method that inserts all the items from one set into another:"
   ]
  },
  {
   "cell_type": "code",
   "execution_count": 21,
   "id": "fb07d6c8-f9fa-487d-8edb-e9bb5670c55b",
   "metadata": {},
   "outputs": [
    {
     "name": "stdout",
     "output_type": "stream",
     "text": [
      "{'grapes', 'mango', 'guaua', 'orange', 'watermelon', 'Apple'}\n",
      "{'grapes', 'mango', 'guaua', 'orange', 'watermelon', 'Apple'}\n"
     ]
    }
   ],
   "source": [
    "set1={\"Apple\",\"orange\",\"grapes\"}\n",
    "set2={\"mango\",\"watermelon\",\"guaua\"}\n",
    "set3=set1.union(set2)\n",
    "print(set3)\n",
    "set1.update(set2)\n",
    "print(set1)"
   ]
  },
  {
   "cell_type": "markdown",
   "id": "35f977b1-d948-4d3d-894d-dae1c5248870",
   "metadata": {},
   "source": [
    ": note: Both union() and update() will execude any duplicate item."
   ]
  },
  {
   "cell_type": "markdown",
   "id": "d166ca8a-e26c-4ee9-9994-d94a9c6db15a",
   "metadata": {},
   "source": [
    "# keep only the duplicate value\n",
    "* the intersection_update() method will keep only the items that are present in both sets."
   ]
  },
  {
   "cell_type": "code",
   "execution_count": 26,
   "id": "38ced873-eac5-4492-9cb8-58132bafaf4c",
   "metadata": {},
   "outputs": [
    {
     "name": "stdout",
     "output_type": "stream",
     "text": [
      "{'apple'}\n"
     ]
    }
   ],
   "source": [
    "set1 = {\"apple\",\"orange\",\"grapes\"}\n",
    "set2 = {\"mango\",\"watermelon\",\"apple\"}\n",
    "\n",
    "set1.intersection_update (set2)\n",
    "print(set1)"
   ]
  },
  {
   "cell_type": "markdown",
   "id": "c867ea9a-8711-4b0d-8768-a736b78b80f4",
   "metadata": {},
   "source": [
    "# keep all but not duplicate\n",
    "* symmetric_difference_update() method will keep only the elements that are not present in both sets"
   ]
  },
  {
   "cell_type": "code",
   "execution_count": 27,
   "id": "5b8d6456-8c62-4e24-80fa-58b16a00a180",
   "metadata": {},
   "outputs": [
    {
     "name": "stdout",
     "output_type": "stream",
     "text": [
      "{'mango', 'orange', 'watermelon', 'grapes'}\n"
     ]
    }
   ],
   "source": [
    "set1 = {\"apple\",\"orange\",\"grapes\"}\n",
    "set2 = {\"mango\",\"watermelon\",\"apple\"}\n",
    "set1.symmetric_difference_update(set2)\n",
    "print(set1)"
   ]
  },
  {
   "cell_type": "markdown",
   "id": "5a4c0657-8991-4581-9a76-7146aa36d01a",
   "metadata": {},
   "source": [
    "# the symmetric_difference() method will return a new set, that contains only the elements that are not present in both sets."
   ]
  },
  {
   "cell_type": "code",
   "execution_count": 29,
   "id": "2cbd9c6b-e7b7-4e3f-bf25-ac1ff5ccf652",
   "metadata": {},
   "outputs": [
    {
     "name": "stdout",
     "output_type": "stream",
     "text": [
      "{'mango', 'orange', 'grapes', 'watermelon'}\n"
     ]
    }
   ],
   "source": [
    "set1 = {\"apple\",\"orange\",\"grapes\"}\n",
    "set2 = {\"mango\",\"watermelon\",\"apple\"}\n",
    "set3=set1.symmetric_difference(set2)\n",
    "print(set3)\n"
   ]
  }
 ],
 "metadata": {
  "kernelspec": {
   "display_name": "Python 3 (ipykernel)",
   "language": "python",
   "name": "python3"
  },
  "language_info": {
   "codemirror_mode": {
    "name": "ipython",
    "version": 3
   },
   "file_extension": ".py",
   "mimetype": "text/x-python",
   "name": "python",
   "nbconvert_exporter": "python",
   "pygments_lexer": "ipython3",
   "version": "3.11.7"
  }
 },
 "nbformat": 4,
 "nbformat_minor": 5
}
